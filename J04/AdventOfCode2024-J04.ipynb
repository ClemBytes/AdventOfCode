{
 "cells": [
  {
   "cell_type": "markdown",
   "id": "b29675d9-8a27-4ff8-909c-521dae243731",
   "metadata": {},
   "source": [
    "# Advent of Code 2024 - J04"
   ]
  },
  {
   "cell_type": "code",
   "execution_count": 1,
   "id": "a291cc11-328d-4a3a-83c7-2479d535ef77",
   "metadata": {},
   "outputs": [],
   "source": [
    "def read_input(kind):\n",
    "    assert kind in ('input', 'example'), '\"kind\" must be \"input\" or \"example\"'\n",
    "    world_search = []\n",
    "    with open(kind) as f:\n",
    "        for line in f:\n",
    "            world_search.append(line.strip())\n",
    "    return world_search"
   ]
  },
  {
   "cell_type": "code",
   "execution_count": 2,
   "id": "a7880574-3e8d-41ed-9eeb-ea88d4054bc4",
   "metadata": {},
   "outputs": [
    {
     "data": {
      "text/plain": [
       "['MMMSXXMASM',\n",
       " 'MSAMXMSMSA',\n",
       " 'AMXSXMAAMM',\n",
       " 'MSAMASMSMX',\n",
       " 'XMASAMXAMM',\n",
       " 'XXAMMXXAMA',\n",
       " 'SMSMSASXSS',\n",
       " 'SAXAMASAAA',\n",
       " 'MAMMMXMMMM',\n",
       " 'MXMXAXMASX']"
      ]
     },
     "execution_count": 2,
     "metadata": {},
     "output_type": "execute_result"
    }
   ],
   "source": [
    "example_ws = read_input(\"example\")\n",
    "input_ws = read_input(\"input\")\n",
    "example_ws"
   ]
  },
  {
   "cell_type": "markdown",
   "id": "fc78771a-c93a-4830-a04a-4ff8beaf53b1",
   "metadata": {},
   "source": [
    "## First part"
   ]
  },
  {
   "cell_type": "code",
   "execution_count": null,
   "id": "9379f2a2-e804-47f9-9fec-a1579461441a",
   "metadata": {},
   "outputs": [],
   "source": []
  }
 ],
 "metadata": {
  "kernelspec": {
   "display_name": "Python 3 (ipykernel)",
   "language": "python",
   "name": "python3"
  },
  "language_info": {
   "codemirror_mode": {
    "name": "ipython",
    "version": 3
   },
   "file_extension": ".py",
   "mimetype": "text/x-python",
   "name": "python",
   "nbconvert_exporter": "python",
   "pygments_lexer": "ipython3",
   "version": "3.9.13"
  }
 },
 "nbformat": 4,
 "nbformat_minor": 5
}
