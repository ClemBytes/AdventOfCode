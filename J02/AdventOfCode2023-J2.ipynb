{
 "cells": [
  {
   "cell_type": "markdown",
   "id": "8057fd95",
   "metadata": {},
   "source": [
    "# Lecture des données"
   ]
  },
  {
   "cell_type": "code",
   "execution_count": 1,
   "id": "45513581",
   "metadata": {},
   "outputs": [],
   "source": [
    "def read_input(kind):\n",
    "    # \"kind\" must be \"input\" or \"exemple\"\n",
    "    games = {}\n",
    "    with open(f\"/home/linaewen/Documents/PYTHON/AdventOfCode2023/J02/{kind}\") as f:\n",
    "        for line in f :\n",
    "            line = line[:-1]\n",
    "            game_name, game = line.split(': ')\n",
    "            _, game_number = game_name.split(' ')\n",
    "            game_number = int(game_number)\n",
    "            sets_txt = game.split('; ')\n",
    "            sets = []\n",
    "            for draw in sets_txt:\n",
    "                se = draw.split(', ')\n",
    "                d = {}\n",
    "                for s in se:\n",
    "                    nb, color = s.split(' ')\n",
    "                    d[color] = int(nb)\n",
    "                sets.append(d)\n",
    "            games[game_number] = sets\n",
    "    return games"
   ]
  },
  {
   "cell_type": "code",
   "execution_count": 2,
   "id": "09d73309",
   "metadata": {},
   "outputs": [
    {
     "name": "stdout",
     "output_type": "stream",
     "text": [
      "{1: [{'blue': 3, 'red': 4}, {'red': 1, 'green': 2, 'blue': 6}, {'green': 2}], 2: [{'blue': 1, 'green': 2}, {'green': 3, 'blue': 4, 'red': 1}, {'green': 1, 'blue': 1}], 3: [{'green': 8, 'blue': 6, 'red': 20}, {'blue': 5, 'red': 4, 'green': 13}, {'green': 5, 'red': 1}], 4: [{'green': 1, 'red': 3, 'blue': 6}, {'green': 3, 'red': 6}, {'green': 3, 'blue': 15, 'red': 14}], 5: [{'red': 6, 'blue': 1, 'green': 3}, {'blue': 2, 'red': 1, 'green': 2}]}\n"
     ]
    }
   ],
   "source": [
    "print(read_input(\"exemple\"))"
   ]
  },
  {
   "cell_type": "markdown",
   "id": "a08e251b",
   "metadata": {},
   "source": [
    "# Act ONE"
   ]
  },
  {
   "cell_type": "code",
   "execution_count": 3,
   "id": "66ab24a2",
   "metadata": {},
   "outputs": [
    {
     "name": "stdout",
     "output_type": "stream",
     "text": [
      "2600\n"
     ]
    }
   ],
   "source": [
    "maximums = {\n",
    "    'red': 12,\n",
    "    'green': 13,\n",
    "    'blue': 14,\n",
    "}\n",
    "\n",
    "games = read_input(\"input\")\n",
    "\n",
    "def test_game(game_nb, games, maximums):\n",
    "    for draw in games[game_nb]:\n",
    "        for color in draw.keys():\n",
    "            if draw[color] > maximums[color]:\n",
    "                return 0\n",
    "    return game_nb\n",
    "\n",
    "def compute_games(games, maximums):\n",
    "    s = 0\n",
    "    for game_nb in games:\n",
    "        s += test_game(game_nb, games, maximums)\n",
    "    return s\n",
    "\n",
    "print(compute_games(games, maximums))"
   ]
  },
  {
   "cell_type": "markdown",
   "id": "9267bbf8",
   "metadata": {},
   "source": [
    "# Act TWO"
   ]
  },
  {
   "cell_type": "code",
   "execution_count": 4,
   "id": "12a90c96",
   "metadata": {},
   "outputs": [
    {
     "name": "stdout",
     "output_type": "stream",
     "text": [
      "86036\n"
     ]
    }
   ],
   "source": [
    "games = read_input(\"input\")\n",
    "\n",
    "def power(game_nb, games):\n",
    "    minis = {\n",
    "        'red': 0,\n",
    "        'green': 0,\n",
    "        'blue': 0,\n",
    "    }\n",
    "    for draw in games[game_nb]:\n",
    "        for color in draw.keys():\n",
    "            if draw[color] > minis[color]:\n",
    "                minis[color] = draw[color]\n",
    "    return minis['red']*minis['green']*minis['blue']\n",
    "\n",
    "def compute_games_minis(games):\n",
    "    s = 0\n",
    "    for game_nb in games:\n",
    "        s += power(game_nb, games)\n",
    "    return s\n",
    "\n",
    "print(compute_games_minis(games))"
   ]
  }
 ],
 "metadata": {
  "kernelspec": {
   "display_name": "Python 3 (ipykernel)",
   "language": "python",
   "name": "python3"
  },
  "language_info": {
   "codemirror_mode": {
    "name": "ipython",
    "version": 3
   },
   "file_extension": ".py",
   "mimetype": "text/x-python",
   "name": "python",
   "nbconvert_exporter": "python",
   "pygments_lexer": "ipython3",
   "version": "3.9.13"
  }
 },
 "nbformat": 4,
 "nbformat_minor": 5
}
