{
 "cells": [
  {
   "cell_type": "markdown",
   "id": "ee83d4b1-b6a0-4e4d-9c44-9d2a73ce0085",
   "metadata": {},
   "source": [
    "# Advent of Code 2024 - J02"
   ]
  },
  {
   "cell_type": "code",
   "execution_count": 1,
   "id": "b2b45c45-9108-48fc-bb45-5a29d32dad3b",
   "metadata": {},
   "outputs": [],
   "source": [
    "def read_input(kind):\n",
    "    assert kind in ('input', 'example'), '\"kind\" must be \"input\" or \"example\"'\n",
    "    reports = []\n",
    "    with open(kind) as f:\n",
    "        for line in f :\n",
    "            r = list(map(int, line.strip().split(' ')))\n",
    "            reports.append(r)\n",
    "    return reports"
   ]
  },
  {
   "cell_type": "code",
   "execution_count": 2,
   "id": "d732e503-66d8-40c0-987d-466e6c1975e4",
   "metadata": {},
   "outputs": [],
   "source": [
    "example_reports = read_input('example')\n",
    "input_reports = read_input('input')"
   ]
  },
  {
   "cell_type": "markdown",
   "id": "211ba206-5d4f-4d27-b097-0a2c9a3507ee",
   "metadata": {},
   "source": [
    "## First part"
   ]
  },
  {
   "cell_type": "code",
   "execution_count": null,
   "id": "6c340118-bd0b-4f2a-9c7a-8167a7d1ac31",
   "metadata": {},
   "outputs": [],
   "source": []
  }
 ],
 "metadata": {
  "kernelspec": {
   "display_name": "Python 3 (ipykernel)",
   "language": "python",
   "name": "python3"
  },
  "language_info": {
   "codemirror_mode": {
    "name": "ipython",
    "version": 3
   },
   "file_extension": ".py",
   "mimetype": "text/x-python",
   "name": "python",
   "nbconvert_exporter": "python",
   "pygments_lexer": "ipython3",
   "version": "3.9.13"
  }
 },
 "nbformat": 4,
 "nbformat_minor": 5
}
