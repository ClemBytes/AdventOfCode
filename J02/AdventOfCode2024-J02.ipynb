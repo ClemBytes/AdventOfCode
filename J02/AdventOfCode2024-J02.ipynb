{
 "cells": [
  {
   "cell_type": "markdown",
   "id": "ee83d4b1-b6a0-4e4d-9c44-9d2a73ce0085",
   "metadata": {},
   "source": [
    "# Advent of Code 2024 - J02"
   ]
  },
  {
   "cell_type": "code",
   "execution_count": 1,
   "id": "b2b45c45-9108-48fc-bb45-5a29d32dad3b",
   "metadata": {},
   "outputs": [],
   "source": [
    "def read_input(kind):\n",
    "    assert kind in ('input', 'example'), '\"kind\" must be \"input\" or \"example\"'\n",
    "    reports = []\n",
    "    with open(kind) as f:\n",
    "        for line in f :\n",
    "            r = list(map(int, line.strip().split(' ')))\n",
    "            reports.append(r)\n",
    "    return reports"
   ]
  },
  {
   "cell_type": "code",
   "execution_count": 2,
   "id": "d732e503-66d8-40c0-987d-466e6c1975e4",
   "metadata": {},
   "outputs": [],
   "source": [
    "example_reports = read_input('example')\n",
    "input_reports = read_input('input')"
   ]
  },
  {
   "cell_type": "markdown",
   "id": "211ba206-5d4f-4d27-b097-0a2c9a3507ee",
   "metadata": {},
   "source": [
    "## First part"
   ]
  },
  {
   "cell_type": "code",
   "execution_count": 3,
   "id": "6c340118-bd0b-4f2a-9c7a-8167a7d1ac31",
   "metadata": {},
   "outputs": [],
   "source": [
    "def is_safe(report):\n",
    "    # First test if all increasing or all decreasing:\n",
    "    if ( report != sorted(report) ) and ( report != sorted(report, reverse=True) ):\n",
    "        return False\n",
    "    \n",
    "    # Then if first chek is OK, check gap between adjacent levels:\n",
    "    for i in range(len(report)-1):\n",
    "        gap = abs(report[i] - report[i + 1])\n",
    "        if ( gap < 1 ) or ( gap > 3 ):\n",
    "            return False\n",
    "    \n",
    "    return True"
   ]
  },
  {
   "cell_type": "code",
   "execution_count": 4,
   "id": "4b6c101e-feb6-4b08-b1da-57ce17f9e2c4",
   "metadata": {},
   "outputs": [],
   "source": [
    "def count_safe(reports):\n",
    "    return sum( is_safe(report) for report in reports )"
   ]
  },
  {
   "cell_type": "code",
   "execution_count": 5,
   "id": "bac84e2b-3c90-457a-9c2a-fbbc2cc0c3b7",
   "metadata": {},
   "outputs": [
    {
     "data": {
      "text/plain": [
       "2"
      ]
     },
     "execution_count": 5,
     "metadata": {},
     "output_type": "execute_result"
    }
   ],
   "source": [
    "count_safe(example_reports)"
   ]
  },
  {
   "cell_type": "code",
   "execution_count": 6,
   "id": "c7b3ea2f-6fc9-4d18-adaf-b7fe1e00b75a",
   "metadata": {},
   "outputs": [
    {
     "data": {
      "text/plain": [
       "257"
      ]
     },
     "execution_count": 6,
     "metadata": {},
     "output_type": "execute_result"
    }
   ],
   "source": [
    "count_safe(input_reports)"
   ]
  }
 ],
 "metadata": {
  "kernelspec": {
   "display_name": "Python 3 (ipykernel)",
   "language": "python",
   "name": "python3"
  },
  "language_info": {
   "codemirror_mode": {
    "name": "ipython",
    "version": 3
   },
   "file_extension": ".py",
   "mimetype": "text/x-python",
   "name": "python",
   "nbconvert_exporter": "python",
   "pygments_lexer": "ipython3",
   "version": "3.9.13"
  }
 },
 "nbformat": 4,
 "nbformat_minor": 5
}
