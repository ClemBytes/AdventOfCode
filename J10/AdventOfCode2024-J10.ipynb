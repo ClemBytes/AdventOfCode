{
 "cells": [
  {
   "cell_type": "markdown",
   "id": "b0504278-a04c-41db-8ee5-85d678bc2006",
   "metadata": {},
   "source": [
    "# Advent of Code 2024 - J10"
   ]
  },
  {
   "cell_type": "code",
   "execution_count": 1,
   "id": "b6e944b1-477a-4c2b-b78e-aabf965b1f56",
   "metadata": {},
   "outputs": [],
   "source": [
    "def read_input(kind):\n",
    "    assert kind in ('input', 'example', 'example2'), '\"kind\" must be \"input\" or \"example\" or \"example2\"'\n",
    "    tmap = []\n",
    "    with open(kind) as f:\n",
    "        for line in f:\n",
    "            tmap.append([int(x) for x in line.strip()])\n",
    "    return tmap"
   ]
  },
  {
   "cell_type": "code",
   "execution_count": 2,
   "id": "4c4de9af-b13f-4636-9042-a950ffe37a45",
   "metadata": {},
   "outputs": [
    {
     "data": {
      "text/plain": [
       "[[0, 1, 2, 3], [1, 2, 3, 4], [8, 7, 6, 5], [9, 8, 7, 6]]"
      ]
     },
     "execution_count": 2,
     "metadata": {},
     "output_type": "execute_result"
    }
   ],
   "source": [
    "read_input(\"example\")"
   ]
  },
  {
   "cell_type": "code",
   "execution_count": 3,
   "id": "27e9d497-e9ea-49bc-9806-cbb52c6596ba",
   "metadata": {},
   "outputs": [],
   "source": [
    "def print_tmap(tmap):\n",
    "    for line in tmap:\n",
    "        l = ''\n",
    "        for car in line:\n",
    "            l += str(car)\n",
    "        print(l)"
   ]
  },
  {
   "cell_type": "code",
   "execution_count": 4,
   "id": "8d71205f-79d2-48e1-b157-da9cf22b912f",
   "metadata": {},
   "outputs": [
    {
     "name": "stdout",
     "output_type": "stream",
     "text": [
      "0123\n",
      "1234\n",
      "8765\n",
      "9876\n"
     ]
    }
   ],
   "source": [
    "print_tmap(read_input(\"example\"))"
   ]
  },
  {
   "cell_type": "markdown",
   "id": "43f85c3e-6d25-45a0-99cf-ea712cf828ec",
   "metadata": {},
   "source": [
    "## First part"
   ]
  },
  {
   "cell_type": "code",
   "execution_count": 5,
   "id": "33059aee-c408-48c3-a6f6-1cdde2d6affa",
   "metadata": {},
   "outputs": [],
   "source": [
    "def get_trailheads(tmap):\n",
    "    trailheads = []\n",
    "    for y, line in enumerate(tmap):\n",
    "        for x, height in enumerate(line):\n",
    "            if height == 0:\n",
    "                trailheads.append((y, x))\n",
    "    return trailheads"
   ]
  },
  {
   "cell_type": "code",
   "execution_count": 6,
   "id": "3b133719-592a-4a65-b68e-9cae4508d283",
   "metadata": {},
   "outputs": [
    {
     "data": {
      "text/plain": [
       "[(0, 2), (0, 4), (2, 4), (4, 6), (5, 2), (5, 5), (6, 0), (6, 6), (7, 1)]"
      ]
     },
     "execution_count": 6,
     "metadata": {},
     "output_type": "execute_result"
    }
   ],
   "source": [
    "get_trailheads(read_input(\"example2\"))"
   ]
  },
  {
   "cell_type": "code",
   "execution_count": 7,
   "id": "54158239-af50-49ce-93e9-a757da4f9256",
   "metadata": {},
   "outputs": [],
   "source": [
    "def score(tmap, trailhead):\n",
    "    nb_lines = len(tmap)\n",
    "    nb_cols = len(tmap[0])\n",
    "    directions = [\n",
    "        (1, 0),\n",
    "        (-1, 0),\n",
    "        (0, 1),\n",
    "        (0, -1)\n",
    "    ]\n",
    "    summits = set()\n",
    "    stack = [trailhead]\n",
    "    while stack:\n",
    "        case_y, case_x = stack.pop()\n",
    "        # Check if end of trail:\n",
    "        if tmap[case_y][case_x] == 9:\n",
    "            summits.add((case_y, case_x))\n",
    "            continue\n",
    "        # Add neighbours if they have the correct value:\n",
    "        for d in directions:\n",
    "            dy, dx = d\n",
    "            new_y = case_y + dy\n",
    "            new_x = case_x + dx\n",
    "            # Check if new case in map:\n",
    "            if (0 <= new_y < nb_lines) and (0 <= new_x < nb_cols):\n",
    "                # Check if correct value\n",
    "                if tmap[new_y][new_x] == tmap[case_y][case_x] + 1:\n",
    "                    stack.append((new_y, new_x))\n",
    "    return len(summits)"
   ]
  },
  {
   "cell_type": "code",
   "execution_count": 8,
   "id": "2b329ed0-2931-4122-8023-24bc9800eae9",
   "metadata": {},
   "outputs": [
    {
     "name": "stdout",
     "output_type": "stream",
     "text": [
      "5\n"
     ]
    }
   ],
   "source": [
    "tmap = read_input(\"example2\")\n",
    "headtrails = get_trailheads(tmap)\n",
    "print(score(tmap, headtrails[0]))"
   ]
  },
  {
   "cell_type": "code",
   "execution_count": 9,
   "id": "8afc0298-9894-4b1d-9ccb-03dff955fda7",
   "metadata": {},
   "outputs": [],
   "source": [
    "def first_part(kind):\n",
    "    tmap = read_input(kind)\n",
    "    headtrails = get_trailheads(tmap)\n",
    "    s = 0\n",
    "    for trailhead in headtrails:\n",
    "        s += score(tmap, trailhead)\n",
    "    return s"
   ]
  },
  {
   "cell_type": "code",
   "execution_count": 10,
   "id": "8749e064-aae3-41f6-8ea6-9fcd24b8dfa1",
   "metadata": {},
   "outputs": [
    {
     "data": {
      "text/plain": [
       "1"
      ]
     },
     "execution_count": 10,
     "metadata": {},
     "output_type": "execute_result"
    }
   ],
   "source": [
    "first_part(\"example\")"
   ]
  },
  {
   "cell_type": "code",
   "execution_count": 11,
   "id": "b321aba3-bc2f-4f0c-946d-5513951375e5",
   "metadata": {},
   "outputs": [
    {
     "data": {
      "text/plain": [
       "36"
      ]
     },
     "execution_count": 11,
     "metadata": {},
     "output_type": "execute_result"
    }
   ],
   "source": [
    "first_part(\"example2\")"
   ]
  },
  {
   "cell_type": "code",
   "execution_count": 12,
   "id": "8851ee9b-8355-4289-adaf-70171efe8377",
   "metadata": {},
   "outputs": [
    {
     "data": {
      "text/plain": [
       "629"
      ]
     },
     "execution_count": 12,
     "metadata": {},
     "output_type": "execute_result"
    }
   ],
   "source": [
    "first_part(\"input\")"
   ]
  },
  {
   "cell_type": "markdown",
   "id": "6e6854a2-2a87-4c65-af73-06e12eb7ad9e",
   "metadata": {},
   "source": [
    "## Second part"
   ]
  },
  {
   "cell_type": "code",
   "execution_count": 13,
   "id": "ac8d2e80-72f7-4124-903a-67e1cb0b64fe",
   "metadata": {},
   "outputs": [],
   "source": [
    "def rating(tmap, trailhead):\n",
    "    nb_lines = len(tmap)\n",
    "    nb_cols = len(tmap[0])\n",
    "    directions = [\n",
    "        (1, 0),\n",
    "        (-1, 0),\n",
    "        (0, 1),\n",
    "        (0, -1)\n",
    "    ]\n",
    "    nb_trails = 0\n",
    "    stack = [trailhead]\n",
    "    while stack:\n",
    "        case_y, case_x = stack.pop()\n",
    "        # Check if end of trail:\n",
    "        if tmap[case_y][case_x] == 9:\n",
    "            nb_trails += 1\n",
    "            continue\n",
    "        # Add neighbours if they have the correct value:\n",
    "        for d in directions:\n",
    "            dy, dx = d\n",
    "            new_y = case_y + dy\n",
    "            new_x = case_x + dx\n",
    "            # Check if new case in map:\n",
    "            if (0 <= new_y < nb_lines) and (0 <= new_x < nb_cols):\n",
    "                # Check if correct value\n",
    "                if tmap[new_y][new_x] == tmap[case_y][case_x] + 1:\n",
    "                    stack.append((new_y, new_x))\n",
    "    return nb_trails"
   ]
  },
  {
   "cell_type": "code",
   "execution_count": 14,
   "id": "cfd7305b-ea97-444f-ba8a-8438968ecba7",
   "metadata": {},
   "outputs": [],
   "source": [
    "def second_part(kind):\n",
    "    tmap = read_input(kind)\n",
    "    headtrails = get_trailheads(tmap)\n",
    "    s = 0\n",
    "    for trailhead in headtrails:\n",
    "        s += rating(tmap, trailhead)\n",
    "    return s"
   ]
  },
  {
   "cell_type": "code",
   "execution_count": 15,
   "id": "95e69bdc-962b-41c0-8787-8f025a524846",
   "metadata": {},
   "outputs": [
    {
     "data": {
      "text/plain": [
       "16"
      ]
     },
     "execution_count": 15,
     "metadata": {},
     "output_type": "execute_result"
    }
   ],
   "source": [
    "second_part(\"example\")"
   ]
  },
  {
   "cell_type": "code",
   "execution_count": 16,
   "id": "eb71d35a-7d95-43fd-98fb-f80d2d607dd8",
   "metadata": {},
   "outputs": [
    {
     "data": {
      "text/plain": [
       "81"
      ]
     },
     "execution_count": 16,
     "metadata": {},
     "output_type": "execute_result"
    }
   ],
   "source": [
    "second_part(\"example2\")"
   ]
  },
  {
   "cell_type": "code",
   "execution_count": 17,
   "id": "a5be0e75-66ed-4a8c-8375-7c1281c138db",
   "metadata": {},
   "outputs": [
    {
     "data": {
      "text/plain": [
       "1242"
      ]
     },
     "execution_count": 17,
     "metadata": {},
     "output_type": "execute_result"
    }
   ],
   "source": [
    "second_part(\"input\")"
   ]
  }
 ],
 "metadata": {
  "kernelspec": {
   "display_name": "Python 3 (ipykernel)",
   "language": "python",
   "name": "python3"
  },
  "language_info": {
   "codemirror_mode": {
    "name": "ipython",
    "version": 3
   },
   "file_extension": ".py",
   "mimetype": "text/x-python",
   "name": "python",
   "nbconvert_exporter": "python",
   "pygments_lexer": "ipython3",
   "version": "3.9.13"
  }
 },
 "nbformat": 4,
 "nbformat_minor": 5
}
