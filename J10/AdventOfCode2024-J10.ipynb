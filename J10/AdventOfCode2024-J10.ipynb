{
 "cells": [
  {
   "cell_type": "markdown",
   "id": "b0504278-a04c-41db-8ee5-85d678bc2006",
   "metadata": {},
   "source": [
    "# Advent of Code 2024 - J10"
   ]
  },
  {
   "cell_type": "code",
   "execution_count": 1,
   "id": "b6e944b1-477a-4c2b-b78e-aabf965b1f56",
   "metadata": {},
   "outputs": [],
   "source": [
    "def read_input(kind):\n",
    "    assert kind in ('input', 'example', 'example2'), '\"kind\" must be \"input\" or \"example\" or \"example2\"'\n",
    "    tmap = []\n",
    "    with open(kind) as f:\n",
    "        for line in f:\n",
    "            tmap.append([int(x) for x in line.strip()])\n",
    "    return tmap"
   ]
  },
  {
   "cell_type": "code",
   "execution_count": 2,
   "id": "4c4de9af-b13f-4636-9042-a950ffe37a45",
   "metadata": {},
   "outputs": [
    {
     "data": {
      "text/plain": [
       "[[0, 1, 2, 3], [1, 2, 3, 4], [8, 7, 6, 5], [9, 8, 7, 6]]"
      ]
     },
     "execution_count": 2,
     "metadata": {},
     "output_type": "execute_result"
    }
   ],
   "source": [
    "read_input(\"example\")"
   ]
  },
  {
   "cell_type": "code",
   "execution_count": 3,
   "id": "27e9d497-e9ea-49bc-9806-cbb52c6596ba",
   "metadata": {},
   "outputs": [],
   "source": [
    "def print_tmap(tmap):\n",
    "    for line in tmap:\n",
    "        l = ''\n",
    "        for car in line:\n",
    "            l += str(car)\n",
    "        print(l)"
   ]
  },
  {
   "cell_type": "code",
   "execution_count": 4,
   "id": "8d71205f-79d2-48e1-b157-da9cf22b912f",
   "metadata": {},
   "outputs": [
    {
     "name": "stdout",
     "output_type": "stream",
     "text": [
      "0123\n",
      "1234\n",
      "8765\n",
      "9876\n"
     ]
    }
   ],
   "source": [
    "print_tmap(read_input(\"example\"))"
   ]
  },
  {
   "cell_type": "markdown",
   "id": "43f85c3e-6d25-45a0-99cf-ea712cf828ec",
   "metadata": {},
   "source": [
    "## First map"
   ]
  },
  {
   "cell_type": "code",
   "execution_count": null,
   "id": "33059aee-c408-48c3-a6f6-1cdde2d6affa",
   "metadata": {},
   "outputs": [],
   "source": []
  }
 ],
 "metadata": {
  "kernelspec": {
   "display_name": "Python 3 (ipykernel)",
   "language": "python",
   "name": "python3"
  },
  "language_info": {
   "codemirror_mode": {
    "name": "ipython",
    "version": 3
   },
   "file_extension": ".py",
   "mimetype": "text/x-python",
   "name": "python",
   "nbconvert_exporter": "python",
   "pygments_lexer": "ipython3",
   "version": "3.9.13"
  }
 },
 "nbformat": 4,
 "nbformat_minor": 5
}
