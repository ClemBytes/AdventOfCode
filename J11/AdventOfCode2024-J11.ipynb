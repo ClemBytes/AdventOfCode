{
 "cells": [
  {
   "cell_type": "markdown",
   "id": "0137885f-a301-44a0-8092-4088df56624f",
   "metadata": {},
   "source": [
    "# Advent of Code 2024 - J11"
   ]
  },
  {
   "cell_type": "code",
   "execution_count": 1,
   "id": "01a6e3bf-bc9a-488d-90ca-34bde6a4993a",
   "metadata": {},
   "outputs": [],
   "source": [
    "def read_input(kind):\n",
    "    assert kind in ('input', 'example', 'example2'), '\"kind\" must be \"input\" or \"example\" or \"example2\"'\n",
    "    with open(kind) as f:\n",
    "        for line in f:\n",
    "            return [int(x) for x in line.strip().split(' ')]"
   ]
  },
  {
   "cell_type": "code",
   "execution_count": 2,
   "id": "da14343f-787e-4936-8405-a20b2ab04a12",
   "metadata": {},
   "outputs": [
    {
     "data": {
      "text/plain": [
       "[0, 1, 10, 99, 999]"
      ]
     },
     "execution_count": 2,
     "metadata": {},
     "output_type": "execute_result"
    }
   ],
   "source": [
    "read_input(\"example\")"
   ]
  },
  {
   "cell_type": "code",
   "execution_count": 3,
   "id": "4fb0e408-6071-404e-86c7-6e59b0c9f66c",
   "metadata": {},
   "outputs": [
    {
     "data": {
      "text/plain": [
       "[125, 17]"
      ]
     },
     "execution_count": 3,
     "metadata": {},
     "output_type": "execute_result"
    }
   ],
   "source": [
    "read_input(\"example2\")"
   ]
  },
  {
   "cell_type": "code",
   "execution_count": 4,
   "id": "42085e1c-860d-4648-b3f6-60fc0e3a83a8",
   "metadata": {},
   "outputs": [
    {
     "data": {
      "text/plain": [
       "[64599, 31, 674832, 2659361, 1, 0, 8867, 321]"
      ]
     },
     "execution_count": 4,
     "metadata": {},
     "output_type": "execute_result"
    }
   ],
   "source": [
    "read_input(\"input\")"
   ]
  },
  {
   "cell_type": "markdown",
   "id": "20d9074f-141e-427c-b0a4-0a59358896bf",
   "metadata": {},
   "source": [
    "## First part"
   ]
  },
  {
   "cell_type": "code",
   "execution_count": 5,
   "id": "384e461a-9877-484f-8d4c-1e2462d1a851",
   "metadata": {},
   "outputs": [],
   "source": [
    "def blink(stones):\n",
    "    b = []\n",
    "    for s in stones:\n",
    "        if s == 0:\n",
    "            b.append(1)\n",
    "        elif len(str(s))%2 == 0:\n",
    "            st = str(s)\n",
    "            l = len(st)\n",
    "            b.append(int(st[:l//2]))\n",
    "            b.append(int(st[l//2:]))\n",
    "        else:\n",
    "            b.append(s*2024)\n",
    "    return b"
   ]
  },
  {
   "cell_type": "code",
   "execution_count": 6,
   "id": "40ffa217-2f2d-48af-9cc5-240034a035b2",
   "metadata": {},
   "outputs": [
    {
     "data": {
      "text/plain": [
       "[1, 2024, 1, 0, 9, 9, 2021976]"
      ]
     },
     "execution_count": 6,
     "metadata": {},
     "output_type": "execute_result"
    }
   ],
   "source": [
    "blink(read_input(\"example\"))"
   ]
  },
  {
   "cell_type": "code",
   "execution_count": 7,
   "id": "b8adc7a9-f641-434a-9426-2fcd26d71e72",
   "metadata": {},
   "outputs": [
    {
     "data": {
      "text/plain": [
       "[253000, 1, 7]"
      ]
     },
     "execution_count": 7,
     "metadata": {},
     "output_type": "execute_result"
    }
   ],
   "source": [
    "blink(read_input(\"example2\"))"
   ]
  },
  {
   "cell_type": "code",
   "execution_count": 8,
   "id": "73a2953e-7909-4030-9317-00cc1ab26e99",
   "metadata": {},
   "outputs": [],
   "source": [
    "def first_part(kind):\n",
    "    stones = read_input(kind)\n",
    "    for _ in range(25):\n",
    "        stones = blink(stones)\n",
    "    return len(stones)"
   ]
  },
  {
   "cell_type": "code",
   "execution_count": 9,
   "id": "2512f94c-7b01-4dab-a5ac-a96ae75ceb77",
   "metadata": {},
   "outputs": [
    {
     "data": {
      "text/plain": [
       "55312"
      ]
     },
     "execution_count": 9,
     "metadata": {},
     "output_type": "execute_result"
    }
   ],
   "source": [
    "first_part(\"example2\")"
   ]
  },
  {
   "cell_type": "code",
   "execution_count": 11,
   "id": "2424d8a1-7415-4dd2-87a1-9c0e5d90d301",
   "metadata": {},
   "outputs": [
    {
     "data": {
      "text/plain": [
       "199986"
      ]
     },
     "execution_count": 11,
     "metadata": {},
     "output_type": "execute_result"
    }
   ],
   "source": [
    "first_part(\"input\")"
   ]
  },
  {
   "cell_type": "markdown",
   "id": "5af37b2d-aa9f-4f75-aa11-71d04026d78c",
   "metadata": {},
   "source": [
    "## Second part"
   ]
  },
  {
   "cell_type": "code",
   "execution_count": 22,
   "id": "7df88986-da42-4c41-8ba9-a4a0f6d424fb",
   "metadata": {},
   "outputs": [
    {
     "name": "stdout",
     "output_type": "stream",
     "text": [
      "[130748376]\n",
      "[264634713024]\n",
      "[264634, 713024]\n",
      "[264, 634, 713, 24]\n",
      "[534336, 1283216, 1443112, 2, 4]\n",
      "[534, 336, 2597229184, 2920858688, 4048, 8096]\n",
      "[1080816, 680064, 25972, 29184, 29208, 58688, 40, 48, 80, 96]\n",
      "[2187571584, 680, 64, 52567328, 59068416, 59116992, 118784512, 4, 0, 4, 8, 8, 0, 9, 6]\n",
      "[21875, 71584, 1376320, 6, 4, 5256, 7328, 5906, 8416, 5911, 6992, 240419852288, 8096, 1, 8096, 16192, 16192, 1, 18216, 12144]\n",
      "[44275000, 144886016, 2785671680, 12144, 8096, 52, 56, 73, 28, 59, 6, 84, 16, 59, 11, 69, 92, 240419, 852288, 80, 96, 2024, 80, 96, 32772608, 32772608, 2024, 36869184, 24579456]\n"
     ]
    }
   ],
   "source": [
    "stone = [64599]\n",
    "for _ in range(10):\n",
    "    stone = blink(stone)\n",
    "    print(stone)"
   ]
  },
  {
   "cell_type": "markdown",
   "id": "ab7b4ac8-9c3a-4123-8ea3-19a2295708ab",
   "metadata": {},
   "source": [
    "Utiliser un dictionnaire :\n",
    "{nombres obtenus: nombre de fois où elle apparaît + ce qu'elle devient à l'étape suivante ?}"
   ]
  },
  {
   "cell_type": "code",
   "execution_count": 1,
   "id": "20973c83-1651-4730-93bf-50b9a75912e8",
   "metadata": {},
   "outputs": [],
   "source": [
    "def input_to_dict(stones):\n",
    "    dstones = {}\n",
    "    for s in stones:\n",
    "        try:\n",
    "            dstones[s] += 1\n",
    "        except KeyError:\n",
    "            dstones[s] = 1\n",
    "    return dstones"
   ]
  },
  {
   "cell_type": "code",
   "execution_count": null,
   "id": "6263169a-ebaf-43fb-9f52-5a22be971529",
   "metadata": {},
   "outputs": [],
   "source": [
    "def blink_dict(dstones):\n",
    "    # Use another dict\n",
    "    for s in dstones:\n",
    "        if s == 0:\n",
    "            #  \n",
    "            dstones[s] = 0\n",
    "            # \n",
    "            try:\n",
    "                dstones[1] += 1\n",
    "            except KeyError:\n",
    "                dstones[1] = 1\n",
    "                \n",
    "        elif len(str(s))%2 == 0:\n",
    "            st = str(s)\n",
    "            l = len(st)\n",
    "            b.append(int(st[:l//2]))\n",
    "            b.append(int(st[l//2:]))\n",
    "        else:\n",
    "            b.append(s*2024)\n",
    "    return b"
   ]
  }
 ],
 "metadata": {
  "kernelspec": {
   "display_name": "Python 3 (ipykernel)",
   "language": "python",
   "name": "python3"
  },
  "language_info": {
   "codemirror_mode": {
    "name": "ipython",
    "version": 3
   },
   "file_extension": ".py",
   "mimetype": "text/x-python",
   "name": "python",
   "nbconvert_exporter": "python",
   "pygments_lexer": "ipython3",
   "version": "3.9.13"
  }
 },
 "nbformat": 4,
 "nbformat_minor": 5
}
