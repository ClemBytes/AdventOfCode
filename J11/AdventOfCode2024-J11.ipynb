{
 "cells": [
  {
   "cell_type": "markdown",
   "id": "0137885f-a301-44a0-8092-4088df56624f",
   "metadata": {},
   "source": [
    "# Advent of Code 2024 - J11"
   ]
  },
  {
   "cell_type": "code",
   "execution_count": 1,
   "id": "01a6e3bf-bc9a-488d-90ca-34bde6a4993a",
   "metadata": {},
   "outputs": [],
   "source": [
    "def read_input(kind):\n",
    "    assert kind in ('input', 'example', 'example2'), '\"kind\" must be \"input\" or \"example\" or \"example2\"'\n",
    "    with open(kind) as f:\n",
    "        for line in f:\n",
    "            return [int(x) for x in line.strip().split(' ')]"
   ]
  },
  {
   "cell_type": "code",
   "execution_count": 2,
   "id": "da14343f-787e-4936-8405-a20b2ab04a12",
   "metadata": {},
   "outputs": [
    {
     "data": {
      "text/plain": [
       "[0, 1, 10, 99, 999]"
      ]
     },
     "execution_count": 2,
     "metadata": {},
     "output_type": "execute_result"
    }
   ],
   "source": [
    "read_input(\"example\")"
   ]
  },
  {
   "cell_type": "code",
   "execution_count": 3,
   "id": "4fb0e408-6071-404e-86c7-6e59b0c9f66c",
   "metadata": {},
   "outputs": [
    {
     "data": {
      "text/plain": [
       "[125, 17]"
      ]
     },
     "execution_count": 3,
     "metadata": {},
     "output_type": "execute_result"
    }
   ],
   "source": [
    "read_input(\"example2\")"
   ]
  },
  {
   "cell_type": "code",
   "execution_count": 4,
   "id": "42085e1c-860d-4648-b3f6-60fc0e3a83a8",
   "metadata": {},
   "outputs": [
    {
     "data": {
      "text/plain": [
       "[64599, 31, 674832, 2659361, 1, 0, 8867, 321]"
      ]
     },
     "execution_count": 4,
     "metadata": {},
     "output_type": "execute_result"
    }
   ],
   "source": [
    "read_input(\"input\")"
   ]
  },
  {
   "cell_type": "markdown",
   "id": "20d9074f-141e-427c-b0a4-0a59358896bf",
   "metadata": {},
   "source": [
    "## First part"
   ]
  },
  {
   "cell_type": "code",
   "execution_count": 5,
   "id": "384e461a-9877-484f-8d4c-1e2462d1a851",
   "metadata": {},
   "outputs": [],
   "source": [
    "def blink(stones):\n",
    "    b = []\n",
    "    for s in stones:\n",
    "        if s == 0:\n",
    "            b.append(1)\n",
    "        elif len(str(s))%2 == 0:\n",
    "            st = str(s)\n",
    "            l = len(st)\n",
    "            b.append(int(st[:l//2]))\n",
    "            b.append(int(st[l//2:]))\n",
    "        else:\n",
    "            b.append(s*2024)\n",
    "    return b"
   ]
  },
  {
   "cell_type": "code",
   "execution_count": 6,
   "id": "40ffa217-2f2d-48af-9cc5-240034a035b2",
   "metadata": {},
   "outputs": [
    {
     "data": {
      "text/plain": [
       "[1, 2024, 1, 0, 9, 9, 2021976]"
      ]
     },
     "execution_count": 6,
     "metadata": {},
     "output_type": "execute_result"
    }
   ],
   "source": [
    "blink(read_input(\"example\"))"
   ]
  },
  {
   "cell_type": "code",
   "execution_count": 7,
   "id": "b8adc7a9-f641-434a-9426-2fcd26d71e72",
   "metadata": {},
   "outputs": [
    {
     "data": {
      "text/plain": [
       "[253000, 1, 7]"
      ]
     },
     "execution_count": 7,
     "metadata": {},
     "output_type": "execute_result"
    }
   ],
   "source": [
    "blink(read_input(\"example2\"))"
   ]
  },
  {
   "cell_type": "code",
   "execution_count": 8,
   "id": "73a2953e-7909-4030-9317-00cc1ab26e99",
   "metadata": {},
   "outputs": [],
   "source": [
    "def first_part(kind):\n",
    "    stones = read_input(kind)\n",
    "    for _ in range(25):\n",
    "        stones = blink(stones)\n",
    "    return len(stones)"
   ]
  },
  {
   "cell_type": "code",
   "execution_count": 9,
   "id": "2512f94c-7b01-4dab-a5ac-a96ae75ceb77",
   "metadata": {},
   "outputs": [
    {
     "data": {
      "text/plain": [
       "55312"
      ]
     },
     "execution_count": 9,
     "metadata": {},
     "output_type": "execute_result"
    }
   ],
   "source": [
    "first_part(\"example2\")"
   ]
  },
  {
   "cell_type": "code",
   "execution_count": 10,
   "id": "2424d8a1-7415-4dd2-87a1-9c0e5d90d301",
   "metadata": {},
   "outputs": [
    {
     "data": {
      "text/plain": [
       "199986"
      ]
     },
     "execution_count": 10,
     "metadata": {},
     "output_type": "execute_result"
    }
   ],
   "source": [
    "first_part(\"input\")"
   ]
  }
 ],
 "metadata": {
  "kernelspec": {
   "display_name": "Python 3 (ipykernel)",
   "language": "python",
   "name": "python3"
  },
  "language_info": {
   "codemirror_mode": {
    "name": "ipython",
    "version": 3
   },
   "file_extension": ".py",
   "mimetype": "text/x-python",
   "name": "python",
   "nbconvert_exporter": "python",
   "pygments_lexer": "ipython3",
   "version": "3.9.13"
  }
 },
 "nbformat": 4,
 "nbformat_minor": 5
}
