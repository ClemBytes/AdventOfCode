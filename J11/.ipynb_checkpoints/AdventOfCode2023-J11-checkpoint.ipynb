{
 "cells": [
  {
   "cell_type": "markdown",
   "id": "37780096",
   "metadata": {},
   "source": [
    "# Read data"
   ]
  },
  {
   "cell_type": "code",
   "execution_count": 1,
   "id": "dd16b1d8",
   "metadata": {},
   "outputs": [],
   "source": [
    "def read_input(kind):\n",
    "    # \"kind\" must be \"input\" or \"exemple\"\n",
    "    with open(f\"/home/linaewen/Documents/PYTHON/AdventOfCode2023/J11/{kind}\") as f:\n",
    "        grid = []\n",
    "        for line in f :\n",
    "            l = line.strip()\n",
    "            grid.append(l)\n",
    "    return grid"
   ]
  },
  {
   "cell_type": "markdown",
   "id": "8172502c",
   "metadata": {},
   "source": [
    "# Act ONE"
   ]
  },
  {
   "cell_type": "code",
   "execution_count": 2,
   "id": "42e678b1",
   "metadata": {},
   "outputs": [],
   "source": [
    "def expand_grid(grid):\n",
    "    new_grid = []\n",
    "    nb_lines = len(grid)\n",
    "    nb_cols = len(grid[0])\n",
    "    # Add rows:\n",
    "    for i in range(nb_lines):\n",
    "        if set(grid[i]) == {'.'}:\n",
    "            new_grid.append(grid[i])\n",
    "            nb_lines += 1\n",
    "        new_grid.append(grid[i])\n",
    "    # Add columns:\n",
    "    empty_cols = []\n",
    "    for j in range(nb_cols):\n",
    "        is_empty = True\n",
    "        for i in range(nb_lines):\n",
    "            if new_grid[i][j] == '#':\n",
    "                is_empty = False\n",
    "        if is_empty:\n",
    "            empty_cols.append(j)\n",
    "    for pl, j in enumerate(empty_cols):\n",
    "        for i in range(nb_lines):\n",
    "            new_grid[i] = new_grid[i][:j] + '.' + new_grid[i][j:]\n",
    "        for a in range(pl+1, len(empty_cols)):\n",
    "            empty_cols[a] += 1\n",
    "    return new_grid\n",
    "\n",
    "def get_galaxies(grid):\n",
    "    nb_lines = len(grid)\n",
    "    nb_cols = len(grid[0])\n",
    "    galaxies = []\n",
    "    for i in range(nb_lines):\n",
    "        for j in range(nb_cols):\n",
    "            if grid[i][j] == '#':\n",
    "                galaxies.append((i, j))\n",
    "    return galaxies\n",
    "\n",
    "def dist_galaxies(gal1, gal2):\n",
    "    return abs(gal1[0] - gal2[0]) + abs(gal1[1] - gal2[1])\n",
    "\n",
    "def act_one(kind):\n",
    "    grid = read_input(kind)\n",
    "    expanded_grid = expand_grid(grid)\n",
    "    dists = get_galaxies(expanded_grid)\n",
    "    s = 0\n",
    "    for i in range(len(dists)):\n",
    "        for j in range(len(dists[i:])):\n",
    "            s += dist_galaxies(dists[i], dists[i+j])\n",
    "    return s"
   ]
  },
  {
   "cell_type": "code",
   "execution_count": 3,
   "id": "b37441cc",
   "metadata": {},
   "outputs": [
    {
     "data": {
      "text/plain": [
       "9565386"
      ]
     },
     "execution_count": 3,
     "metadata": {},
     "output_type": "execute_result"
    }
   ],
   "source": [
    "act_one('input')"
   ]
  },
  {
   "cell_type": "markdown",
   "id": "df025d65",
   "metadata": {},
   "source": [
    "# Act TWO"
   ]
  },
  {
   "cell_type": "code",
   "execution_count": 4,
   "id": "2c59de45",
   "metadata": {},
   "outputs": [],
   "source": [
    "def get_empty_rows(grid):\n",
    "    empty_rows = []\n",
    "    for i in range(len(grid)):\n",
    "        if set(grid[i]) == {'.'}:\n",
    "            empty_rows.append(i)\n",
    "    return empty_rows\n",
    "\n",
    "def get_empty_cols(grid):\n",
    "    empty_cols = []\n",
    "    for j in range(len(grid[0])):\n",
    "        is_empty = True\n",
    "        for i in range(len(grid)):\n",
    "            if grid[i][j] == '#':\n",
    "                is_empty = False\n",
    "        if is_empty:\n",
    "            empty_cols.append(j)\n",
    "    return empty_cols\n",
    "\n",
    "def act_two(kind, coef):\n",
    "    grid = read_input(kind)\n",
    "    dists = get_galaxies(grid)\n",
    "    empty_rows = get_empty_rows(grid)\n",
    "    empty_cols = get_empty_cols(grid)\n",
    "    s = 0\n",
    "    for i in range(len(dists)):\n",
    "        for j in range(len(dists[i:])):\n",
    "            gal1 = dists[i]\n",
    "            gal2 = dists[i+j]\n",
    "            s += dist_galaxies(gal1, gal2)\n",
    "            for er in empty_rows:\n",
    "                if gal1[0] < er < gal2[0]:\n",
    "                    s += coef-1\n",
    "                elif gal2[0] < er < gal1[0]:\n",
    "                    s += coef-1\n",
    "            for ec in empty_cols:\n",
    "                if gal1[1] < ec < gal2[1]:\n",
    "                    s += coef-1\n",
    "                elif gal2[1] < ec < gal1[1]:\n",
    "                    s += coef-1\n",
    "    return s"
   ]
  },
  {
   "cell_type": "code",
   "execution_count": 5,
   "id": "c4805e1b",
   "metadata": {},
   "outputs": [
    {
     "data": {
      "text/plain": [
       "857986849428"
      ]
     },
     "execution_count": 5,
     "metadata": {},
     "output_type": "execute_result"
    }
   ],
   "source": [
    "act_two('input', 1000000)"
   ]
  }
 ],
 "metadata": {
  "kernelspec": {
   "display_name": "Python 3 (ipykernel)",
   "language": "python",
   "name": "python3"
  },
  "language_info": {
   "codemirror_mode": {
    "name": "ipython",
    "version": 3
   },
   "file_extension": ".py",
   "mimetype": "text/x-python",
   "name": "python",
   "nbconvert_exporter": "python",
   "pygments_lexer": "ipython3",
   "version": "3.9.13"
  }
 },
 "nbformat": 4,
 "nbformat_minor": 5
}
