{
 "cells": [
  {
   "cell_type": "markdown",
   "id": "e22a88d1-2acc-4ce0-8240-7279f3440500",
   "metadata": {},
   "source": [
    "# Advent of Code 2024 - J06"
   ]
  },
  {
   "cell_type": "code",
   "execution_count": null,
   "id": "83658aea-2515-4875-90b9-179f6129ae65",
   "metadata": {},
   "outputs": [],
   "source": [
    "def read_input(kind):\n",
    "    assert kind in ('input', 'example'), '\"kind\" must be \"input\" or \"example\"'\n",
    "    \n",
    "    with open(kind) as f:\n",
    "        for line in f:\n",
    "            \n",
    "    return "
   ]
  }
 ],
 "metadata": {
  "kernelspec": {
   "display_name": "Python 3 (ipykernel)",
   "language": "python",
   "name": "python3"
  },
  "language_info": {
   "codemirror_mode": {
    "name": "ipython",
    "version": 3
   },
   "file_extension": ".py",
   "mimetype": "text/x-python",
   "name": "python",
   "nbconvert_exporter": "python",
   "pygments_lexer": "ipython3",
   "version": "3.9.13"
  }
 },
 "nbformat": 4,
 "nbformat_minor": 5
}
