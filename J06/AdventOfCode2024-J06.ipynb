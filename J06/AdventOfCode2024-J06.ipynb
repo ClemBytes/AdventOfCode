{
 "cells": [
  {
   "cell_type": "markdown",
   "id": "e22a88d1-2acc-4ce0-8240-7279f3440500",
   "metadata": {},
   "source": [
    "# Advent of Code 2024 - J06"
   ]
  },
  {
   "cell_type": "code",
   "execution_count": 1,
   "id": "83658aea-2515-4875-90b9-179f6129ae65",
   "metadata": {},
   "outputs": [],
   "source": [
    "def read_input(kind):\n",
    "    assert kind in ('input', 'example'), '\"kind\" must be \"input\" or \"example\"'\n",
    "    imap = []\n",
    "    with open(kind) as f:\n",
    "        for line in f:\n",
    "            imap.append(list(line.strip()))\n",
    "    l = len(imap[0])\n",
    "    assert all(len(line) == l for line in imap), 'all lines should be the same length'\n",
    "    return imap"
   ]
  },
  {
   "cell_type": "code",
   "execution_count": 2,
   "id": "ffa020ee-506a-429e-a8e8-8b09f11d5dd5",
   "metadata": {},
   "outputs": [],
   "source": [
    "emap = read_input(\"example\")\n",
    "imap = read_input(\"input\")"
   ]
  },
  {
   "cell_type": "markdown",
   "id": "c26ea33d-7af2-4a17-af55-ba507e679665",
   "metadata": {},
   "source": [
    "## First part"
   ]
  },
  {
   "cell_type": "code",
   "execution_count": 3,
   "id": "8ef7697b-49be-413f-b06d-bf8d40080cf8",
   "metadata": {},
   "outputs": [],
   "source": [
    "def count_visited_positions(imap):\n",
    "    s = 0\n",
    "    for line in imap:\n",
    "        for pos in line:\n",
    "            if pos == 'X':\n",
    "                s += 1\n",
    "    return s"
   ]
  },
  {
   "cell_type": "code",
   "execution_count": 4,
   "id": "4fd7f0ed-91d7-4576-be4b-560a4a566c02",
   "metadata": {},
   "outputs": [],
   "source": [
    "def find_position(imap):\n",
    "    for y, line in enumerate(imap):\n",
    "        for x, pos in enumerate(line):\n",
    "            if pos in ['^', '>', 'v', '<']:\n",
    "                return (y, x)\n",
    "    raise Exception(\"Initial position not found ! There should be one of these : '^', '>', 'v', '<'\")"
   ]
  },
  {
   "cell_type": "code",
   "execution_count": 5,
   "id": "90f5ac56-cbaa-4425-849d-9c2ccccc3119",
   "metadata": {},
   "outputs": [
    {
     "data": {
      "text/plain": [
       "(6, 4)"
      ]
     },
     "execution_count": 5,
     "metadata": {},
     "output_type": "execute_result"
    }
   ],
   "source": [
    "find_position(emap)"
   ]
  },
  {
   "cell_type": "code",
   "execution_count": 6,
   "id": "c8195b5d-08f9-46b4-92cb-9a7a0edea926",
   "metadata": {},
   "outputs": [],
   "source": [
    "def go_out(imap, y, x):\n",
    "    nb_lines = len(imap)\n",
    "    nb_cols = len(imap[0])\n",
    "    if y == 0 and imap[y][x] == '^':\n",
    "        return True\n",
    "    if y == nb_lines-1 and imap[y][x] == 'v':\n",
    "        return True\n",
    "    if x == 0 and imap[y][x] == '<':\n",
    "        return True\n",
    "    if y == nb_cols-1 and imap[y][x] == '>':\n",
    "        return True\n",
    "    return False"
   ]
  },
  {
   "cell_type": "code",
   "execution_count": 7,
   "id": "9ecf5111-f017-4bf3-a184-1d2e05c408f9",
   "metadata": {},
   "outputs": [],
   "source": [
    "def visit(imap):\n",
    "    direction = {\n",
    "        '^': (-1, 0),\n",
    "        'v': (1, 0),\n",
    "        '<': (0, -1),\n",
    "        '>': (0, 1)\n",
    "    }\n",
    "    next_direction = ['^', '>', 'v', '<', '^']\n",
    "    y, x = find_position(imap)\n",
    "    while not(go_out(imap, y, x)):\n",
    "        going_to = imap[y][x]\n",
    "        dir_y, dir_x = direction[going_to]\n",
    "        if imap[y + dir_y][x + dir_x] == '#':\n",
    "            going_to = next_direction[next_direction.index(going_to) + 1]\n",
    "            dir_y, dir_x = direction[going_to]\n",
    "        imap[y][x] = 'X'\n",
    "        y += dir_y\n",
    "        x += dir_x\n",
    "        imap[y][x] = going_to\n",
    "    imap[y][x] = 'X'\n",
    "    return imap"
   ]
  },
  {
   "cell_type": "code",
   "execution_count": 8,
   "id": "24952f30-cc41-497b-a788-0362be3bb90c",
   "metadata": {},
   "outputs": [
    {
     "data": {
      "text/plain": [
       "[['.', '.', '.', '.', '#', '.', '.', '.', '.', '.'],\n",
       " ['.', '.', '.', '.', 'X', 'X', 'X', 'X', 'X', '#'],\n",
       " ['.', '.', '.', '.', 'X', '.', '.', '.', 'X', '.'],\n",
       " ['.', '.', '#', '.', 'X', '.', '.', '.', 'X', '.'],\n",
       " ['.', '.', 'X', 'X', 'X', 'X', 'X', '#', 'X', '.'],\n",
       " ['.', '.', 'X', '.', 'X', '.', 'X', '.', 'X', '.'],\n",
       " ['.', '#', 'X', 'X', 'X', 'X', 'X', 'X', 'X', '.'],\n",
       " ['.', 'X', 'X', 'X', 'X', 'X', 'X', 'X', '#', '.'],\n",
       " ['#', 'X', 'X', 'X', 'X', 'X', 'X', 'X', '.', '.'],\n",
       " ['.', '.', '.', '.', '.', '.', '#', 'X', '.', '.']]"
      ]
     },
     "execution_count": 8,
     "metadata": {},
     "output_type": "execute_result"
    }
   ],
   "source": [
    "visit(emap)"
   ]
  },
  {
   "cell_type": "code",
   "execution_count": 9,
   "id": "ceaedb0c-3047-4cb7-b8ef-c47e7749cc42",
   "metadata": {},
   "outputs": [],
   "source": [
    "def first_part(kind):\n",
    "    assert kind in ('input', 'example'), '\"kind\" must be \"input\" or \"example\"'\n",
    "    imap = read_input(kind)\n",
    "    return count_visited_positions(visit(imap))"
   ]
  },
  {
   "cell_type": "code",
   "execution_count": 10,
   "id": "5bf13554-5a2e-4995-8496-2ff879e4072e",
   "metadata": {},
   "outputs": [
    {
     "data": {
      "text/plain": [
       "41"
      ]
     },
     "execution_count": 10,
     "metadata": {},
     "output_type": "execute_result"
    }
   ],
   "source": [
    "first_part(\"example\")"
   ]
  },
  {
   "cell_type": "code",
   "execution_count": 11,
   "id": "b49966ab-aab2-40ab-b004-186dfb252e49",
   "metadata": {},
   "outputs": [
    {
     "data": {
      "text/plain": [
       "4988"
      ]
     },
     "execution_count": 11,
     "metadata": {},
     "output_type": "execute_result"
    }
   ],
   "source": [
    "first_part(\"input\")"
   ]
  }
 ],
 "metadata": {
  "kernelspec": {
   "display_name": "Python 3 (ipykernel)",
   "language": "python",
   "name": "python3"
  },
  "language_info": {
   "codemirror_mode": {
    "name": "ipython",
    "version": 3
   },
   "file_extension": ".py",
   "mimetype": "text/x-python",
   "name": "python",
   "nbconvert_exporter": "python",
   "pygments_lexer": "ipython3",
   "version": "3.9.13"
  }
 },
 "nbformat": 4,
 "nbformat_minor": 5
}
