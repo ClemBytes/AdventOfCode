{
 "cells": [
  {
   "cell_type": "markdown",
   "id": "e0c2ed52",
   "metadata": {},
   "source": [
    "# Lecture des données"
   ]
  },
  {
   "cell_type": "code",
   "execution_count": 1,
   "id": "fbfc40b3",
   "metadata": {},
   "outputs": [],
   "source": [
    "def read_input(kind):\n",
    "    # \"kind\" must be \"input\" or \"exemple\"\n",
    "    games = []\n",
    "    with open(f\"/home/linaewen/Documents/PYTHON/AdventOfCode2022/J2/{kind}\") as f:\n",
    "        for line in f :\n",
    "            games.append(line.strip().split(' '))\n",
    "    return games"
   ]
  },
  {
   "cell_type": "code",
   "execution_count": 2,
   "id": "1bf352ba",
   "metadata": {},
   "outputs": [
    {
     "name": "stdout",
     "output_type": "stream",
     "text": [
      "[['A', 'Y'], ['B', 'X'], ['C', 'Z']]\n"
     ]
    }
   ],
   "source": [
    "print(read_input(\"exemple\"))"
   ]
  },
  {
   "cell_type": "markdown",
   "id": "758ef604",
   "metadata": {},
   "source": [
    "# Act ONE"
   ]
  },
  {
   "cell_type": "markdown",
   "id": "f33db053",
   "metadata": {},
   "source": [
    "## Règles :"
   ]
  },
  {
   "cell_type": "markdown",
   "id": "b6b894ae",
   "metadata": {},
   "source": [
    "|          | Defeats  | Opponent | Me  | Score |\n",
    "|:--------:|:--------:|:--------:|:---:|:-----:|\n",
    "| Rock     | Scissors | `A`      | `X` | 1     |\n",
    "| Paper    | Rock     | `B`      | `Y` | 2     |\n",
    "| Scissors | Paper    | `C`      | `Z` | 3     |\n",
    "\n",
    "| Lost | Draw | Win |\n",
    "|:----:|:----:|:---:|\n",
    "| 0    | 3    | 6   |"
   ]
  },
  {
   "cell_type": "markdown",
   "id": "8ede726e",
   "metadata": {},
   "source": [
    "## Scores :"
   ]
  },
  {
   "cell_type": "markdown",
   "id": "00eab8a4",
   "metadata": {},
   "source": [
    "|     | `X` | `Y` | `Z` |\n",
    "|:---:|:---:|:---:|:---:|\n",
    "| `A` |  4  |  8  |  3  |\n",
    "| `B` |  1  |  5  |  9  |\n",
    "| `C` |  7  |  2  |  6  |\n",
    "\n",
    "C'est joli mais inutile"
   ]
  },
  {
   "cell_type": "markdown",
   "id": "bd3d1f06",
   "metadata": {},
   "source": [
    "## Gagnants :"
   ]
  },
  {
   "cell_type": "markdown",
   "id": "b51b3e3f",
   "metadata": {},
   "source": [
    "|     | `X`  | `Y`  | `Z`  |\n",
    "|:---:|:----:|:----:|:----:|\n",
    "| `A` | Draw | Win  | Lose |\n",
    "| `B` | Lose | Draw | Win  |\n",
    "| `C` | Win  | Lose | Draw |"
   ]
  },
  {
   "cell_type": "code",
   "execution_count": 3,
   "id": "60770c5f",
   "metadata": {},
   "outputs": [],
   "source": [
    "def score(game):\n",
    "    op = game[0]\n",
    "    me = game[1]\n",
    "    if me == 'X':\n",
    "        # I play 'Rock'\n",
    "        score = 1\n",
    "        if op == 'A': # draw\n",
    "            score += 3\n",
    "        elif op == 'C': # win\n",
    "            score += 6\n",
    "    elif me == 'Y':\n",
    "        # I play 'Paper'\n",
    "        score = 2\n",
    "        if op == 'A': # win\n",
    "            score += 6\n",
    "        elif op == 'B': # draw\n",
    "            score += 3\n",
    "    else : # me == 'Z'\n",
    "        # I play 'Scissors'\n",
    "        score = 3\n",
    "        if op == 'B': # win\n",
    "            score += 6\n",
    "        elif op == 'C': # draw\n",
    "            score += 3\n",
    "    return score"
   ]
  },
  {
   "cell_type": "code",
   "execution_count": 4,
   "id": "58a26ba8",
   "metadata": {},
   "outputs": [
    {
     "name": "stdout",
     "output_type": "stream",
     "text": [
      "11150\n"
     ]
    }
   ],
   "source": [
    "print(sum([score(game) for game in read_input(\"input\")]))"
   ]
  },
  {
   "cell_type": "markdown",
   "id": "7b6f7a81",
   "metadata": {},
   "source": [
    "# Act TWO"
   ]
  },
  {
   "cell_type": "markdown",
   "id": "98c7d042",
   "metadata": {},
   "source": [
    "| Lost | Draw | Win |\n",
    "|:----:|:----:|:---:|\n",
    "| `X`  | `Y`  | `Z` |\n",
    "| 0    | 3    | 6   |"
   ]
  },
  {
   "cell_type": "code",
   "execution_count": 5,
   "id": "626b4bce",
   "metadata": {},
   "outputs": [],
   "source": [
    "def win(op):\n",
    "    if op == 'A':\n",
    "        # op plays Rock\n",
    "        # I win (6) with Paper (2)\n",
    "        return 8\n",
    "    elif op == 'B':\n",
    "        # op plays Paper\n",
    "        # I win (6) with Scissors (3)\n",
    "        return 9\n",
    "    else: # op == 'C'\n",
    "        # op plays Scissors\n",
    "        # I win (6) with Rock (1)\n",
    "        return 7\n",
    "\n",
    "def draw(op):\n",
    "    if op == 'A':\n",
    "        # op plays Rock\n",
    "        # I draw (3) with Rock (1)\n",
    "        return 4\n",
    "    elif op == 'B':\n",
    "        # op plays Paper\n",
    "        # I draw (3) with Paper (2)\n",
    "        return 5\n",
    "    else: # op == 'C'\n",
    "        # op plays Scissors\n",
    "        # I draw (3) with Scissors (3)\n",
    "        return 6\n",
    "\n",
    "def lose(op):\n",
    "    if op == 'A':\n",
    "        # op plays Rock\n",
    "        # I lose (0) with Scissors (3)\n",
    "        return 3\n",
    "    elif op == 'B':\n",
    "        # op plays Paper\n",
    "        # I lose (0) with Rock (1)\n",
    "        return 1\n",
    "    else: # op == 'C'\n",
    "        # op plays Scissors\n",
    "        # I lose (0) with Paper (2)\n",
    "        return 2"
   ]
  },
  {
   "cell_type": "code",
   "execution_count": 6,
   "id": "89c572a3",
   "metadata": {},
   "outputs": [],
   "source": [
    "def strategy(game):\n",
    "    op = game[0]\n",
    "    me = game[1] \n",
    "    if me == 'X':\n",
    "        #I need to lose\n",
    "        return lose(op)\n",
    "    elif me == 'Y':\n",
    "        #I need to draw\n",
    "        return draw(op)\n",
    "    else: # me == 'Z'\n",
    "        #I need to win\n",
    "        return win(op)"
   ]
  },
  {
   "cell_type": "code",
   "execution_count": 7,
   "id": "af27a13c",
   "metadata": {},
   "outputs": [
    {
     "name": "stdout",
     "output_type": "stream",
     "text": [
      "8295\n"
     ]
    }
   ],
   "source": [
    "print(sum([strategy(game) for game in read_input(\"input\")]))"
   ]
  },
  {
   "cell_type": "code",
   "execution_count": null,
   "id": "8e169ba6",
   "metadata": {},
   "outputs": [],
   "source": []
  }
 ],
 "metadata": {
  "kernelspec": {
   "display_name": "Python 3 (ipykernel)",
   "language": "python",
   "name": "python3"
  },
  "language_info": {
   "codemirror_mode": {
    "name": "ipython",
    "version": 3
   },
   "file_extension": ".py",
   "mimetype": "text/x-python",
   "name": "python",
   "nbconvert_exporter": "python",
   "pygments_lexer": "ipython3",
   "version": "3.9.13"
  }
 },
 "nbformat": 4,
 "nbformat_minor": 5
}
