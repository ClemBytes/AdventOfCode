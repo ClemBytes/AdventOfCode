{
 "cells": [
  {
   "cell_type": "markdown",
   "id": "d7a50db5",
   "metadata": {},
   "source": [
    "# Lecture des données"
   ]
  },
  {
   "cell_type": "code",
   "execution_count": 83,
   "id": "8132a66a",
   "metadata": {},
   "outputs": [],
   "source": [
    "def read_input(kind):\n",
    "    # \"kind\" must be \"input\" or \"exemple\"\n",
    "    elves = []\n",
    "    new_elf = []\n",
    "    with open(f\"/home/linaewen/Documents/PYTHON/AdventOfCode2022/J1/{kind}\") as f:\n",
    "        for line in f :\n",
    "            if line != '\\n':\n",
    "                new_elf.append(int(line.strip()))\n",
    "            else:\n",
    "                elves.append(new_elf)\n",
    "                new_elf = []\n",
    "        elves.append(new_elf)\n",
    "    return elves"
   ]
  },
  {
   "cell_type": "markdown",
   "id": "dd1dba23",
   "metadata": {},
   "source": [
    "# Act ONE"
   ]
  },
  {
   "cell_type": "code",
   "execution_count": 84,
   "id": "bcb3036c",
   "metadata": {},
   "outputs": [],
   "source": [
    "def sum_elves(elves):\n",
    "    sums = []\n",
    "    for elf in elves:\n",
    "        sums.append(sum(elf))\n",
    "    return sums"
   ]
  },
  {
   "cell_type": "code",
   "execution_count": 85,
   "id": "1a8e4248",
   "metadata": {},
   "outputs": [
    {
     "name": "stdout",
     "output_type": "stream",
     "text": [
      "72017\n"
     ]
    }
   ],
   "source": [
    "elves = read_input(\"input\")\n",
    "sums = sum_elves(elves)\n",
    "print(max(sums))"
   ]
  },
  {
   "cell_type": "markdown",
   "id": "766e3dbd",
   "metadata": {},
   "source": [
    "# Act TWO"
   ]
  },
  {
   "cell_type": "code",
   "execution_count": 86,
   "id": "e5b37a71",
   "metadata": {},
   "outputs": [],
   "source": [
    "def sum_three_max(sums):\n",
    "    values = []\n",
    "    for i in range(3):\n",
    "        biggest = max(sums)\n",
    "        values.append(biggest)\n",
    "        sums.remove(biggest)\n",
    "    print(sum(values))"
   ]
  },
  {
   "cell_type": "code",
   "execution_count": 87,
   "id": "13c3f24a",
   "metadata": {},
   "outputs": [
    {
     "name": "stdout",
     "output_type": "stream",
     "text": [
      "212520\n"
     ]
    }
   ],
   "source": [
    "elves = read_input(\"input\")\n",
    "sum_three_max(sums)"
   ]
  },
  {
   "cell_type": "code",
   "execution_count": null,
   "id": "8a579618",
   "metadata": {},
   "outputs": [],
   "source": []
  }
 ],
 "metadata": {
  "kernelspec": {
   "display_name": "Python 3 (ipykernel)",
   "language": "python",
   "name": "python3"
  },
  "language_info": {
   "codemirror_mode": {
    "name": "ipython",
    "version": 3
   },
   "file_extension": ".py",
   "mimetype": "text/x-python",
   "name": "python",
   "nbconvert_exporter": "python",
   "pygments_lexer": "ipython3",
   "version": "3.9.13"
  }
 },
 "nbformat": 4,
 "nbformat_minor": 5
}
