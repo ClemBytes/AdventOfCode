{
 "cells": [
  {
   "cell_type": "markdown",
   "id": "bdbae760",
   "metadata": {},
   "source": [
    "# Lecture des données"
   ]
  },
  {
   "cell_type": "code",
   "execution_count": 1,
   "id": "53a1fcfc",
   "metadata": {},
   "outputs": [],
   "source": [
    "def read_input(kind):\n",
    "    # \"kind\" must be \"input\" or \"exemple\"\n",
    "    schematic = []\n",
    "    with open(f\"/home/linaewen/Documents/PYTHON/AdventOfCode2023/J03/{kind}\") as f:\n",
    "        for line in f :\n",
    "            schematic.append(line[:-1])\n",
    "    return schematic"
   ]
  },
  {
   "cell_type": "markdown",
   "id": "028d35f3",
   "metadata": {},
   "source": [
    "# Act ONE"
   ]
  },
  {
   "cell_type": "code",
   "execution_count": 2,
   "id": "818e2ddb",
   "metadata": {},
   "outputs": [],
   "source": [
    "import re\n",
    "\n",
    "def find_numbers(schematic):\n",
    "    h = len(schematic)\n",
    "    nbs = []\n",
    "    for line in range(h):\n",
    "        numbers = re.findall(r'[0-9]*', schematic[line])\n",
    "        begin = 0\n",
    "        for element in numbers:\n",
    "            if not(element):\n",
    "                begin += 1\n",
    "            else:\n",
    "                nbs.append({\n",
    "                    'value': int(element),\n",
    "                    'line': line,\n",
    "                    'begin': begin,\n",
    "                    'end': begin + len(element) - 1,\n",
    "                })\n",
    "                begin += len(element)\n",
    "    return nbs"
   ]
  },
  {
   "cell_type": "code",
   "execution_count": 3,
   "id": "6a26fc84",
   "metadata": {},
   "outputs": [],
   "source": [
    "def is_part(nb, schematic):\n",
    "    line = nb['line']\n",
    "    begin = nb['begin']\n",
    "    end = nb['end']\n",
    "    # Above:\n",
    "    if line > 0:\n",
    "        if begin > 0:\n",
    "            if schematic[line-1][begin-1] != '.':\n",
    "                return True\n",
    "        for i in range(begin, end+1):\n",
    "            if schematic[line-1][i] != '.':\n",
    "                return True\n",
    "        if end+1 < len(schematic[0]):\n",
    "            if schematic[line-1][end+1] != '.':\n",
    "                return True\n",
    "    # Next:\n",
    "    if begin > 0:\n",
    "        if schematic[line][begin-1] != '.':\n",
    "            return True\n",
    "    if end+1 < len(schematic[0]):\n",
    "        if schematic[line][end+1] != '.':\n",
    "            return True\n",
    "    # Below:\n",
    "    if line+1 < len(schematic):\n",
    "        if begin > 0:\n",
    "            if schematic[line+1][begin-1] != '.':\n",
    "                return True\n",
    "        for i in range(begin, end+1):\n",
    "            if schematic[line+1][i] != '.':\n",
    "                return True\n",
    "        if end+1 < len(schematic[0]):\n",
    "            if schematic[line+1][end+1] != '.':\n",
    "                return True\n",
    "    return False"
   ]
  },
  {
   "cell_type": "code",
   "execution_count": 4,
   "id": "5fcb616b",
   "metadata": {},
   "outputs": [
    {
     "name": "stdout",
     "output_type": "stream",
     "text": [
      "539433\n"
     ]
    }
   ],
   "source": [
    "schematic = read_input(\"input\")\n",
    "nbs = find_numbers(schematic)\n",
    "\n",
    "s = 0\n",
    "for nb in nbs:\n",
    "    if is_part(nb, schematic):\n",
    "        s += nb['value']\n",
    "\n",
    "print(s)"
   ]
  },
  {
   "cell_type": "markdown",
   "id": "3501d7ab",
   "metadata": {},
   "source": [
    "# Act TWO"
   ]
  },
  {
   "cell_type": "code",
   "execution_count": 5,
   "id": "ee442404",
   "metadata": {},
   "outputs": [],
   "source": [
    "import re\n",
    "\n",
    "def find_stars(schematic):\n",
    "    h = len(schematic)\n",
    "    sts = []\n",
    "    for line in range(h):\n",
    "        stars = [pos for pos, char in enumerate(schematic[line]) if char == '*']\n",
    "        for s in stars:\n",
    "            sts.append((line, s))\n",
    "    return sts"
   ]
  },
  {
   "cell_type": "code",
   "execution_count": 6,
   "id": "ef514add",
   "metadata": {},
   "outputs": [],
   "source": [
    "def find_adjacent_nbs(star, nbs):\n",
    "    h = star[0]\n",
    "    l = star[1]\n",
    "    adj = []\n",
    "    for nb in nbs:\n",
    "        if nb['line'] in [h-1, h, h+1]:\n",
    "            if nb['begin']-1 <= l <= nb['end']+1:\n",
    "                adj.append(nb)\n",
    "                continue\n",
    "    return adj\n",
    "\n",
    "\n",
    "def compute_gears(schematic):\n",
    "    s = 0\n",
    "    stars = find_stars(schematic)\n",
    "    nbs = find_numbers(schematic)\n",
    "    for star in stars:\n",
    "        adj = find_adjacent_nbs(star, nbs)\n",
    "        if len(adj) == 2:\n",
    "            s += adj[0]['value'] * adj[1]['value']\n",
    "    return s"
   ]
  },
  {
   "cell_type": "code",
   "execution_count": 7,
   "id": "173541e2",
   "metadata": {},
   "outputs": [
    {
     "name": "stdout",
     "output_type": "stream",
     "text": [
      "75847567\n"
     ]
    }
   ],
   "source": [
    "schematic = read_input(\"input\")\n",
    "print(compute_gears(schematic))"
   ]
  }
 ],
 "metadata": {
  "kernelspec": {
   "display_name": "Python 3 (ipykernel)",
   "language": "python",
   "name": "python3"
  },
  "language_info": {
   "codemirror_mode": {
    "name": "ipython",
    "version": 3
   },
   "file_extension": ".py",
   "mimetype": "text/x-python",
   "name": "python",
   "nbconvert_exporter": "python",
   "pygments_lexer": "ipython3",
   "version": "3.9.13"
  }
 },
 "nbformat": 4,
 "nbformat_minor": 5
}
