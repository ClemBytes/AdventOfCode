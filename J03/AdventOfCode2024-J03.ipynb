{
 "cells": [
  {
   "cell_type": "markdown",
   "id": "f7229304-4536-4789-a69d-f407d46c33b5",
   "metadata": {},
   "source": [
    "# Advent of Code 2024 - J03"
   ]
  },
  {
   "cell_type": "code",
   "execution_count": 1,
   "id": "a4580106-99a5-4a7b-a5fd-3ea2e4ebca9d",
   "metadata": {},
   "outputs": [],
   "source": [
    "def read_input(kind):\n",
    "    assert kind in ('input', 'example'), '\"kind\" must be \"input\" or \"example\"'\n",
    "    program = ''\n",
    "    with open(kind) as f:\n",
    "        for line in f :\n",
    "            program += line.strip()\n",
    "    return program"
   ]
  },
  {
   "cell_type": "code",
   "execution_count": 2,
   "id": "fa906c5f-a3e6-46ff-ab54-ceb8dba948ef",
   "metadata": {},
   "outputs": [],
   "source": [
    "example_program = read_input('example')\n",
    "input_program = read_input('input')"
   ]
  },
  {
   "cell_type": "code",
   "execution_count": 3,
   "id": "e6e7b032-daba-4327-94d3-8f25bb2289a0",
   "metadata": {},
   "outputs": [
    {
     "data": {
      "text/plain": [
       "'xmul(2,4)%&mul[3,7]!@^do_not_mul(5,5)+mul(32,64]then(mul(11,8)mul(8,5))'"
      ]
     },
     "execution_count": 3,
     "metadata": {},
     "output_type": "execute_result"
    }
   ],
   "source": [
    "example_program"
   ]
  },
  {
   "cell_type": "markdown",
   "id": "6f628ab0-93e4-404e-809d-6ba2e7b07494",
   "metadata": {},
   "source": [
    "## First part"
   ]
  },
  {
   "cell_type": "code",
   "execution_count": 4,
   "id": "8e51e628-c939-4ca9-939c-ecb6fca56fd6",
   "metadata": {},
   "outputs": [],
   "source": [
    "import re\n",
    "\n",
    "def decorrupt(program):\n",
    "    multiplications = re.findall(\"mul[(][0-9]{1,3},[0-9]{1,3}[)]\", program)\n",
    "    s = 0\n",
    "    for mul in multiplications:\n",
    "        nbs = [ int(x) for x in mul.split('(')[1].split(')')[0].split(',') ]\n",
    "        s += nbs[0] * nbs[1]\n",
    "    return s"
   ]
  },
  {
   "cell_type": "code",
   "execution_count": 5,
   "id": "af52e7ae-88ad-4081-a888-75503945e2b4",
   "metadata": {},
   "outputs": [
    {
     "data": {
      "text/plain": [
       "161"
      ]
     },
     "execution_count": 5,
     "metadata": {},
     "output_type": "execute_result"
    }
   ],
   "source": [
    "decorrupt(example_program)"
   ]
  },
  {
   "cell_type": "code",
   "execution_count": 6,
   "id": "f96fd1ce-f219-4a59-93f6-b3affa307d1b",
   "metadata": {},
   "outputs": [
    {
     "data": {
      "text/plain": [
       "153469856"
      ]
     },
     "execution_count": 6,
     "metadata": {},
     "output_type": "execute_result"
    }
   ],
   "source": [
    "decorrupt(input_program)"
   ]
  }
 ],
 "metadata": {
  "kernelspec": {
   "display_name": "Python 3 (ipykernel)",
   "language": "python",
   "name": "python3"
  },
  "language_info": {
   "codemirror_mode": {
    "name": "ipython",
    "version": 3
   },
   "file_extension": ".py",
   "mimetype": "text/x-python",
   "name": "python",
   "nbconvert_exporter": "python",
   "pygments_lexer": "ipython3",
   "version": "3.9.13"
  }
 },
 "nbformat": 4,
 "nbformat_minor": 5
}
