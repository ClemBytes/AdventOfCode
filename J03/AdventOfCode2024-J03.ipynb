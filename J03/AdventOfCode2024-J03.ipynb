{
 "cells": [
  {
   "cell_type": "markdown",
   "id": "f7229304-4536-4789-a69d-f407d46c33b5",
   "metadata": {},
   "source": [
    "# Advent of Code 2024 - J03"
   ]
  },
  {
   "cell_type": "code",
   "execution_count": 1,
   "id": "a4580106-99a5-4a7b-a5fd-3ea2e4ebca9d",
   "metadata": {},
   "outputs": [],
   "source": [
    "def read_input(kind):\n",
    "    assert kind in ('input', 'example'), '\"kind\" must be \"input\" or \"example\"'\n",
    "    with open(kind) as f:\n",
    "        for line in f :\n",
    "            program = line.strip()\n",
    "    return program"
   ]
  },
  {
   "cell_type": "code",
   "execution_count": 2,
   "id": "fa906c5f-a3e6-46ff-ab54-ceb8dba948ef",
   "metadata": {},
   "outputs": [],
   "source": [
    "example_reports = read_input('example')\n",
    "input_reports = read_input('input')"
   ]
  },
  {
   "cell_type": "markdown",
   "id": "6f628ab0-93e4-404e-809d-6ba2e7b07494",
   "metadata": {},
   "source": [
    "## First part"
   ]
  },
  {
   "cell_type": "code",
   "execution_count": null,
   "id": "8e51e628-c939-4ca9-939c-ecb6fca56fd6",
   "metadata": {},
   "outputs": [],
   "source": []
  }
 ],
 "metadata": {
  "kernelspec": {
   "display_name": "Python 3 (ipykernel)",
   "language": "python",
   "name": "python3"
  },
  "language_info": {
   "codemirror_mode": {
    "name": "ipython",
    "version": 3
   },
   "file_extension": ".py",
   "mimetype": "text/x-python",
   "name": "python",
   "nbconvert_exporter": "python",
   "pygments_lexer": "ipython3",
   "version": "3.9.13"
  }
 },
 "nbformat": 4,
 "nbformat_minor": 5
}
