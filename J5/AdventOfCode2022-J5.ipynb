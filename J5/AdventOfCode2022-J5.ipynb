{
 "cells": [
  {
   "cell_type": "markdown",
   "id": "079ccab2",
   "metadata": {},
   "source": [
    "# Lecture des données"
   ]
  },
  {
   "cell_type": "code",
   "execution_count": 1,
   "id": "3b3c5bc6",
   "metadata": {},
   "outputs": [],
   "source": [
    "import re\n",
    "\n",
    "def read_input(kind):\n",
    "    # \"kind\" must be \"input\" or \"exemple\"\n",
    "    commands = []\n",
    "    with open(f\"/home/linaewen/Documents/PYTHON/AdventOfCode2022/J5/{kind}\") as f:\n",
    "        for line in f :\n",
    "            l = line.strip()\n",
    "            commands.append([int(x) for x in re.findall(r'\\d+', l)])\n",
    "    return commands"
   ]
  },
  {
   "cell_type": "code",
   "execution_count": 2,
   "id": "b369848e",
   "metadata": {},
   "outputs": [],
   "source": [
    "def read_state(kind):\n",
    "    if kind == \"exemple\":\n",
    "        return {\n",
    "            1: ['Z', 'N'],\n",
    "            2: ['M', 'C', 'D'],\n",
    "            3: ['P'],\n",
    "        }\n",
    "    elif kind == \"input\":\n",
    "        return {\n",
    "            1: ['N', 'S', 'D', 'C', 'V', 'Q', 'T'],\n",
    "            2: ['M', 'F', 'V'],\n",
    "            3: ['F', 'Q', 'W', 'D', 'P', 'N', 'H', 'M'],\n",
    "            4: ['D', 'Q', 'R', 'T', 'F'],\n",
    "            5: ['R', 'F', 'M', 'N', 'Q', 'H', 'V', 'B'],\n",
    "            6: ['C', 'F', 'G', 'N', 'P', 'W', 'Q'],\n",
    "            7: ['W', 'F', 'R', 'L', 'C', 'T'],\n",
    "            8: ['T', 'Z', 'N', 'S'],\n",
    "            9: ['M', 'S', 'D', 'J', 'R', 'Q', 'H', 'N'],\n",
    "        }"
   ]
  },
  {
   "cell_type": "markdown",
   "id": "7a1bf3ef",
   "metadata": {},
   "source": [
    "# Act ONE"
   ]
  },
  {
   "cell_type": "code",
   "execution_count": 3,
   "id": "63bf3253",
   "metadata": {},
   "outputs": [],
   "source": [
    "def apply_procedure_CrateMover_9000(state, commands):\n",
    "    for command in commands:\n",
    "        nb, st, en = command\n",
    "        for i in range(nb):\n",
    "            crate = state[st].pop(-1)\n",
    "            state[en].append(crate)\n",
    "    return state"
   ]
  },
  {
   "cell_type": "code",
   "execution_count": 4,
   "id": "1ae5f8cb",
   "metadata": {},
   "outputs": [],
   "source": [
    "def act_one(kind):\n",
    "    state = read_state(kind)\n",
    "    commands = read_input(kind)\n",
    "    apply_procedure_CrateMover_9000(state, commands)\n",
    "    ret = ''\n",
    "    for i in state:\n",
    "        ret += state[i][-1]\n",
    "    return ret"
   ]
  },
  {
   "cell_type": "code",
   "execution_count": 5,
   "id": "01d7df75",
   "metadata": {},
   "outputs": [
    {
     "data": {
      "text/plain": [
       "'CMZ'"
      ]
     },
     "execution_count": 5,
     "metadata": {},
     "output_type": "execute_result"
    }
   ],
   "source": [
    "act_one(\"exemple\")"
   ]
  },
  {
   "cell_type": "code",
   "execution_count": 6,
   "id": "5f88d437",
   "metadata": {},
   "outputs": [
    {
     "data": {
      "text/plain": [
       "'FRDSQRRCD'"
      ]
     },
     "execution_count": 6,
     "metadata": {},
     "output_type": "execute_result"
    }
   ],
   "source": [
    "act_one(\"input\")"
   ]
  },
  {
   "cell_type": "markdown",
   "id": "dc80a536",
   "metadata": {},
   "source": [
    "# Act TWO"
   ]
  },
  {
   "cell_type": "code",
   "execution_count": 7,
   "id": "ca1325af",
   "metadata": {},
   "outputs": [],
   "source": [
    "def apply_procedure_CrateMover_9001(state, commands):\n",
    "    for command in commands:\n",
    "        nb, st, en = command\n",
    "        state[en] += state[st][-nb:]\n",
    "        state[st] = state[st][:-nb]\n",
    "    return state"
   ]
  },
  {
   "cell_type": "code",
   "execution_count": 8,
   "id": "f5f2bdf8",
   "metadata": {},
   "outputs": [],
   "source": [
    "def act_two(kind):\n",
    "    state = read_state(kind)\n",
    "    commands = read_input(kind)\n",
    "    apply_procedure_CrateMover_9001(state, commands)\n",
    "    ret = ''\n",
    "    for i in state:\n",
    "        ret += state[i][-1]\n",
    "    return ret"
   ]
  },
  {
   "cell_type": "code",
   "execution_count": 9,
   "id": "6f79c330",
   "metadata": {},
   "outputs": [
    {
     "data": {
      "text/plain": [
       "'MCD'"
      ]
     },
     "execution_count": 9,
     "metadata": {},
     "output_type": "execute_result"
    }
   ],
   "source": [
    "act_two(\"exemple\")"
   ]
  },
  {
   "cell_type": "code",
   "execution_count": 10,
   "id": "d6ed7c32",
   "metadata": {},
   "outputs": [
    {
     "data": {
      "text/plain": [
       "'HRFTQVWNN'"
      ]
     },
     "execution_count": 10,
     "metadata": {},
     "output_type": "execute_result"
    }
   ],
   "source": [
    "act_two(\"input\")"
   ]
  },
  {
   "cell_type": "code",
   "execution_count": null,
   "id": "266f5e92",
   "metadata": {},
   "outputs": [],
   "source": []
  }
 ],
 "metadata": {
  "kernelspec": {
   "display_name": "Python 3 (ipykernel)",
   "language": "python",
   "name": "python3"
  },
  "language_info": {
   "codemirror_mode": {
    "name": "ipython",
    "version": 3
   },
   "file_extension": ".py",
   "mimetype": "text/x-python",
   "name": "python",
   "nbconvert_exporter": "python",
   "pygments_lexer": "ipython3",
   "version": "3.9.13"
  }
 },
 "nbformat": 4,
 "nbformat_minor": 5
}
