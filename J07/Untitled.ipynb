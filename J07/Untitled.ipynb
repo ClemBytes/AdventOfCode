{
 "cells": [
  {
   "cell_type": "markdown",
   "id": "e0d49eda-81ec-4d9c-869e-9358de0ce01f",
   "metadata": {},
   "source": [
    "# Advent of Code 2024 - J07"
   ]
  },
  {
   "cell_type": "code",
   "execution_count": null,
   "id": "2bdf96b0-ed98-4abb-a6a3-4c648d0b9b43",
   "metadata": {},
   "outputs": [],
   "source": [
    "def read_input(kind):\n",
    "    assert kind in ('input', 'example'), '\"kind\" must be \"input\" or \"example\"'\n",
    "    \n",
    "    with open(kind) as f:\n",
    "        for line in f:\n",
    "            \n",
    "    return "
   ]
  }
 ],
 "metadata": {
  "kernelspec": {
   "display_name": "Python 3 (ipykernel)",
   "language": "python",
   "name": "python3"
  },
  "language_info": {
   "codemirror_mode": {
    "name": "ipython",
    "version": 3
   },
   "file_extension": ".py",
   "mimetype": "text/x-python",
   "name": "python",
   "nbconvert_exporter": "python",
   "pygments_lexer": "ipython3",
   "version": "3.9.13"
  }
 },
 "nbformat": 4,
 "nbformat_minor": 5
}
