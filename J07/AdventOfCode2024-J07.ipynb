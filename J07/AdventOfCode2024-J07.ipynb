{
 "cells": [
  {
   "cell_type": "markdown",
   "id": "e0d49eda-81ec-4d9c-869e-9358de0ce01f",
   "metadata": {},
   "source": [
    "# Advent of Code 2024 - J07"
   ]
  },
  {
   "cell_type": "code",
   "execution_count": 1,
   "id": "2bdf96b0-ed98-4abb-a6a3-4c648d0b9b43",
   "metadata": {},
   "outputs": [],
   "source": [
    "def read_input(kind):\n",
    "    assert kind in ('input', 'example'), '\"kind\" must be \"input\" or \"example\"'\n",
    "    equations = {}\n",
    "    with open(kind) as f:\n",
    "        for line in f:\n",
    "            l = line.strip().split(':')\n",
    "            test_value = int(l[0])\n",
    "            numbers = l[1][1:]\n",
    "            equations[test_value] = numbers.split(' ')\n",
    "    return equations"
   ]
  },
  {
   "cell_type": "code",
   "execution_count": 2,
   "id": "27cd9db0-1e08-4dc1-b6df-45bb798d15af",
   "metadata": {},
   "outputs": [
    {
     "data": {
      "text/plain": [
       "{190: ['10', '19'],\n",
       " 3267: ['81', '40', '27'],\n",
       " 83: ['17', '5'],\n",
       " 156: ['15', '6'],\n",
       " 7290: ['6', '8', '6', '15'],\n",
       " 161011: ['16', '10', '13'],\n",
       " 192: ['17', '8', '14'],\n",
       " 21037: ['9', '7', '18', '13'],\n",
       " 292: ['11', '6', '16', '20']}"
      ]
     },
     "execution_count": 2,
     "metadata": {},
     "output_type": "execute_result"
    }
   ],
   "source": [
    "read_input(\"example\")"
   ]
  },
  {
   "cell_type": "markdown",
   "id": "77883393-ba74-4340-a085-d8dafd5b6a93",
   "metadata": {},
   "source": [
    "## First part"
   ]
  },
  {
   "cell_type": "code",
   "execution_count": 3,
   "id": "4472240e-96f9-489e-ae5a-c19ea47eeb6d",
   "metadata": {},
   "outputs": [],
   "source": [
    "from itertools import product\n",
    "\n",
    "def test_equation(test_value, numbers):\n",
    "    nb_operations = len(numbers) - 1\n",
    "    combinations = set(product('+*', repeat=nb_operations))\n",
    "    nb_par = len(numbers)\n",
    "    \n",
    "    for comb in combinations:\n",
    "        list_comb = list(comb)\n",
    "        list_comb.append('')\n",
    "        pos = nb_par*'('\n",
    "        # print(pos)\n",
    "        for i, nb in enumerate(numbers):\n",
    "            pos += nb\n",
    "            pos += ')'\n",
    "            pos += list_comb[i]\n",
    "        if test_value == eval(pos):\n",
    "            # print(pos)\n",
    "            return True\n",
    "    return False"
   ]
  },
  {
   "cell_type": "code",
   "execution_count": 4,
   "id": "e64bc4fb-48d9-4add-bdb6-1beeeb46f1d2",
   "metadata": {},
   "outputs": [
    {
     "data": {
      "text/plain": [
       "True"
      ]
     },
     "execution_count": 4,
     "metadata": {},
     "output_type": "execute_result"
    }
   ],
   "source": [
    "test_equation(190, ['10', '19'])"
   ]
  },
  {
   "cell_type": "code",
   "execution_count": 5,
   "id": "ace41a23-5550-47af-87ee-fcb625618e2b",
   "metadata": {},
   "outputs": [
    {
     "data": {
      "text/plain": [
       "True"
      ]
     },
     "execution_count": 5,
     "metadata": {},
     "output_type": "execute_result"
    }
   ],
   "source": [
    "test_equation(292, ['11', '6', '16', '20'])"
   ]
  },
  {
   "cell_type": "code",
   "execution_count": 6,
   "id": "6e1d8bbc-af66-4cd8-baa1-62b685f6b304",
   "metadata": {},
   "outputs": [],
   "source": [
    "def first_part(kind):\n",
    "    equations = read_input(kind)\n",
    "    s = 0\n",
    "    for test_value in equations.keys():\n",
    "        # print(f\"test_value = {test_value}, numbers = {equations[test_value]}, result = {test_equation(test_value, equations[test_value])}\")\n",
    "        if test_equation(test_value, equations[test_value]):\n",
    "            s += test_value\n",
    "    return s"
   ]
  },
  {
   "cell_type": "code",
   "execution_count": 7,
   "id": "6458e821-80b2-4ae9-b18d-04a938d66219",
   "metadata": {},
   "outputs": [
    {
     "data": {
      "text/plain": [
       "3749"
      ]
     },
     "execution_count": 7,
     "metadata": {},
     "output_type": "execute_result"
    }
   ],
   "source": [
    "first_part(\"example\")"
   ]
  },
  {
   "cell_type": "code",
   "execution_count": 8,
   "id": "b2cac083-dc9a-40d5-9a8f-f7eaa11eff56",
   "metadata": {},
   "outputs": [
    {
     "data": {
      "text/plain": [
       "12839601725776"
      ]
     },
     "execution_count": 8,
     "metadata": {},
     "output_type": "execute_result"
    }
   ],
   "source": [
    "first_part(\"input\")"
   ]
  },
  {
   "cell_type": "code",
   "execution_count": null,
   "id": "4b61e92a-975b-4b7f-98a8-c8eb81919c7f",
   "metadata": {},
   "outputs": [],
   "source": []
  }
 ],
 "metadata": {
  "kernelspec": {
   "display_name": "Python 3 (ipykernel)",
   "language": "python",
   "name": "python3"
  },
  "language_info": {
   "codemirror_mode": {
    "name": "ipython",
    "version": 3
   },
   "file_extension": ".py",
   "mimetype": "text/x-python",
   "name": "python",
   "nbconvert_exporter": "python",
   "pygments_lexer": "ipython3",
   "version": "3.9.13"
  }
 },
 "nbformat": 4,
 "nbformat_minor": 5
}
