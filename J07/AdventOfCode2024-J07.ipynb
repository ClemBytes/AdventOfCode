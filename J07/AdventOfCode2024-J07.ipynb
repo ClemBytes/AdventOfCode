{
 "cells": [
  {
   "cell_type": "markdown",
   "id": "e0d49eda-81ec-4d9c-869e-9358de0ce01f",
   "metadata": {},
   "source": [
    "# Advent of Code 2024 - J07"
   ]
  },
  {
   "cell_type": "code",
   "execution_count": 1,
   "id": "2bdf96b0-ed98-4abb-a6a3-4c648d0b9b43",
   "metadata": {},
   "outputs": [],
   "source": [
    "def read_input(kind):\n",
    "    assert kind in ('input', 'example'), '\"kind\" must be \"input\" or \"example\"'\n",
    "    equations = []\n",
    "    with open(kind) as f:\n",
    "        for line in f:\n",
    "            l = line.strip().split(':')\n",
    "            test_value = int(l[0])\n",
    "            numbers = l[1][1:]\n",
    "            equations.append((test_value, [int(x) for x in numbers.split(' ')]))\n",
    "    return equations"
   ]
  },
  {
   "cell_type": "code",
   "execution_count": 2,
   "id": "27cd9db0-1e08-4dc1-b6df-45bb798d15af",
   "metadata": {},
   "outputs": [
    {
     "data": {
      "text/plain": [
       "[(190, [10, 19]),\n",
       " (3267, [81, 40, 27]),\n",
       " (83, [17, 5]),\n",
       " (156, [15, 6]),\n",
       " (7290, [6, 8, 6, 15]),\n",
       " (161011, [16, 10, 13]),\n",
       " (192, [17, 8, 14]),\n",
       " (21037, [9, 7, 18, 13]),\n",
       " (292, [11, 6, 16, 20])]"
      ]
     },
     "execution_count": 2,
     "metadata": {},
     "output_type": "execute_result"
    }
   ],
   "source": [
    "read_input(\"example\")"
   ]
  },
  {
   "cell_type": "markdown",
   "id": "77883393-ba74-4340-a085-d8dafd5b6a93",
   "metadata": {},
   "source": [
    "## First part"
   ]
  },
  {
   "cell_type": "code",
   "execution_count": 3,
   "id": "4472240e-96f9-489e-ae5a-c19ea47eeb6d",
   "metadata": {},
   "outputs": [],
   "source": [
    "def aux(numbers, current_value, test_value):\n",
    "    if len(numbers) == 0:\n",
    "        return current_value == test_value\n",
    "    else:\n",
    "        s = aux(numbers[1:], current_value + numbers[0], test_value)\n",
    "        p = aux(numbers[1:], current_value * numbers[0], test_value)\n",
    "        return s or p\n",
    "\n",
    "def test_equation(test_value, numbers):\n",
    "    return aux(numbers[1:], numbers[0], test_value)"
   ]
  },
  {
   "cell_type": "code",
   "execution_count": 4,
   "id": "e64bc4fb-48d9-4add-bdb6-1beeeb46f1d2",
   "metadata": {},
   "outputs": [
    {
     "data": {
      "text/plain": [
       "True"
      ]
     },
     "execution_count": 4,
     "metadata": {},
     "output_type": "execute_result"
    }
   ],
   "source": [
    "test_equation(190, [10, 19])"
   ]
  },
  {
   "cell_type": "code",
   "execution_count": 5,
   "id": "ace41a23-5550-47af-87ee-fcb625618e2b",
   "metadata": {},
   "outputs": [
    {
     "data": {
      "text/plain": [
       "True"
      ]
     },
     "execution_count": 5,
     "metadata": {},
     "output_type": "execute_result"
    }
   ],
   "source": [
    "test_equation(292, [11, 6, 16, 20])"
   ]
  },
  {
   "cell_type": "code",
   "execution_count": 6,
   "id": "6e1d8bbc-af66-4cd8-baa1-62b685f6b304",
   "metadata": {},
   "outputs": [],
   "source": [
    "def first_part(kind):\n",
    "    equations = read_input(kind)\n",
    "    s = 0\n",
    "    for test_value, numbers in equations:\n",
    "        if test_equation(test_value, numbers):\n",
    "            s += test_value\n",
    "    return s"
   ]
  },
  {
   "cell_type": "code",
   "execution_count": 7,
   "id": "6458e821-80b2-4ae9-b18d-04a938d66219",
   "metadata": {},
   "outputs": [
    {
     "data": {
      "text/plain": [
       "3749"
      ]
     },
     "execution_count": 7,
     "metadata": {},
     "output_type": "execute_result"
    }
   ],
   "source": [
    "first_part(\"example\")"
   ]
  },
  {
   "cell_type": "code",
   "execution_count": 8,
   "id": "b2cac083-dc9a-40d5-9a8f-f7eaa11eff56",
   "metadata": {},
   "outputs": [
    {
     "data": {
      "text/plain": [
       "12839601725877"
      ]
     },
     "execution_count": 8,
     "metadata": {},
     "output_type": "execute_result"
    }
   ],
   "source": [
    "first_part(\"input\")"
   ]
  },
  {
   "cell_type": "markdown",
   "id": "a603f05a-980f-45e1-9bca-22f0ca5f5111",
   "metadata": {},
   "source": [
    "## Second part"
   ]
  },
  {
   "cell_type": "code",
   "execution_count": 9,
   "id": "6881929d-3a03-45dd-be98-3a43ffde552b",
   "metadata": {},
   "outputs": [],
   "source": [
    "def aux2(numbers, current_value, test_value):\n",
    "    if len(numbers) == 0:\n",
    "        return current_value == test_value\n",
    "    else:\n",
    "        s = aux2(numbers[1:], current_value + numbers[0], test_value)\n",
    "        p = aux2(numbers[1:], current_value * numbers[0], test_value)\n",
    "        c = aux2(numbers[1:], int(str(current_value) + str(numbers[0])), test_value)\n",
    "        return (s or p or c)\n",
    "\n",
    "def test_equation2(test_value, numbers):\n",
    "    return aux2(numbers[1:], numbers[0], test_value)"
   ]
  },
  {
   "cell_type": "code",
   "execution_count": 10,
   "id": "5dc59c4b-fb54-4adb-bee2-5724374bfe07",
   "metadata": {},
   "outputs": [],
   "source": [
    "def second_part(kind):\n",
    "    equations = read_input(kind)\n",
    "    s = 0\n",
    "    for test_value, numbers in equations:\n",
    "        if test_equation2(test_value, numbers):\n",
    "            s += test_value\n",
    "    return s"
   ]
  },
  {
   "cell_type": "code",
   "execution_count": 11,
   "id": "e4bfd8ca-507a-4323-bd8e-ffce7c84d744",
   "metadata": {},
   "outputs": [
    {
     "data": {
      "text/plain": [
       "11387"
      ]
     },
     "execution_count": 11,
     "metadata": {},
     "output_type": "execute_result"
    }
   ],
   "source": [
    "second_part(\"example\")"
   ]
  },
  {
   "cell_type": "code",
   "execution_count": 12,
   "id": "a8d6c189-dcc6-4714-b609-62c78879897b",
   "metadata": {},
   "outputs": [
    {
     "data": {
      "text/plain": [
       "149956401519484"
      ]
     },
     "execution_count": 12,
     "metadata": {},
     "output_type": "execute_result"
    }
   ],
   "source": [
    "second_part(\"input\")"
   ]
  }
 ],
 "metadata": {
  "kernelspec": {
   "display_name": "Python 3 (ipykernel)",
   "language": "python",
   "name": "python3"
  },
  "language_info": {
   "codemirror_mode": {
    "name": "ipython",
    "version": 3
   },
   "file_extension": ".py",
   "mimetype": "text/x-python",
   "name": "python",
   "nbconvert_exporter": "python",
   "pygments_lexer": "ipython3",
   "version": "3.9.13"
  }
 },
 "nbformat": 4,
 "nbformat_minor": 5
}
