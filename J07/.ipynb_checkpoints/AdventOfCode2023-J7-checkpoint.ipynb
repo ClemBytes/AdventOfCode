{
 "cells": [
  {
   "cell_type": "markdown",
   "id": "cea6f981",
   "metadata": {},
   "source": [
    "# Act ONE"
   ]
  },
  {
   "cell_type": "code",
   "execution_count": 37,
   "id": "c3efd2ec",
   "metadata": {},
   "outputs": [],
   "source": [
    "def convert_hand(hand):\n",
    "    hand = hand.replace('3', 'B')\n",
    "    hand = hand.replace('4', 'C')\n",
    "    hand = hand.replace('5', 'D')\n",
    "    hand = hand.replace('6', 'E')\n",
    "    hand = hand.replace('7', 'F')\n",
    "    hand = hand.replace('8', 'G')\n",
    "    hand = hand.replace('9', 'H')\n",
    "    hand = hand.replace('T', 'I')\n",
    "    hand = hand.replace('K', 'L')\n",
    "    hand = hand.replace('Q', 'K')\n",
    "    hand = hand.replace('A', 'M')\n",
    "    hand = hand.replace('2', 'A')\n",
    "    return hand\n",
    "\n",
    "def recognize_type(hand):\n",
    "    # Five of a kind:\n",
    "    s = set(hand)\n",
    "    if len(s) == 1:\n",
    "        return 6\n",
    "    # Four of a kind OR Full house:\n",
    "    elif len(s) == 2:\n",
    "        # Four of a kind:\n",
    "        if hand.count(hand[0]) in [1, 4]:\n",
    "            return 5\n",
    "        # Full house:\n",
    "        else:\n",
    "            return 4\n",
    "    # Three of a kind OR Two pair:\n",
    "    elif len(s) == 3:\n",
    "        # Three of a kind:\n",
    "        for c in s:\n",
    "            if hand.count(c) == 3:\n",
    "                return 3\n",
    "        # Two pair:\n",
    "        return 2\n",
    "    # One pair:\n",
    "    elif len(s) == 4:\n",
    "        return 1\n",
    "    # High card:\n",
    "    elif len(s) == 5:\n",
    "        return 0\n",
    "    else:\n",
    "        print(f\"Ce n'est pas une main correcte : {hand}\")\n",
    "        return 0\n",
    "\n",
    "def read_input(kind):\n",
    "    # \"kind\" must be \"input\" or \"exemple\"\n",
    "    hands = []\n",
    "    with open(f\"/home/linaewen/Documents/PYTHON/AdventOfCode2023/J7/{kind}\") as f:\n",
    "        for line in f :\n",
    "            hand, bid = line.strip().split(' ')\n",
    "            hand = convert_hand(hand)\n",
    "            typ = recognize_type(hand)\n",
    "            bid = int(bid)\n",
    "            hands.append({\n",
    "                'hand': hand,\n",
    "                'type': typ,\n",
    "                'bid': bid\n",
    "            })\n",
    "    return hands"
   ]
  },
  {
   "cell_type": "code",
   "execution_count": 38,
   "id": "7b18373d",
   "metadata": {},
   "outputs": [
    {
     "name": "stdout",
     "output_type": "stream",
     "text": [
      "252052080\n"
     ]
    }
   ],
   "source": [
    "def act_one(kind):\n",
    "    hands = read_input(kind)\n",
    "    hands.sort(key=lambda hand: (hand['type'], hand['hand']))\n",
    "    score = 0\n",
    "    for i, hand in enumerate(hands):\n",
    "        score += (i+1)*hand['bid']\n",
    "    return(score)\n",
    "\n",
    "print(act_one('input'))"
   ]
  },
  {
   "cell_type": "markdown",
   "id": "7836be5e",
   "metadata": {},
   "source": [
    "# Act TWO"
   ]
  },
  {
   "cell_type": "code",
   "execution_count": 52,
   "id": "6ae3fe6a",
   "metadata": {},
   "outputs": [],
   "source": [
    "def convert_hand_bis(hand):\n",
    "    hand = hand.replace('3', 'C')\n",
    "    hand = hand.replace('4', 'D')\n",
    "    hand = hand.replace('5', 'E')\n",
    "    hand = hand.replace('6', 'F')\n",
    "    hand = hand.replace('7', 'G')\n",
    "    hand = hand.replace('8', 'H')\n",
    "    hand = hand.replace('9', 'I')\n",
    "    hand = hand.replace('T', 'L')\n",
    "    hand = hand.replace('Q', 'M')\n",
    "    hand = hand.replace('K', 'N')\n",
    "    hand = hand.replace('A', 'O')\n",
    "    hand = hand.replace('2', 'B')\n",
    "    hand = hand.replace('J', 'A')\n",
    "    return hand\n",
    "\n",
    "def recognize_type_bis(hand):\n",
    "    # Five of a kind:\n",
    "    s = set(hand)\n",
    "    d = {}\n",
    "    for c in s:\n",
    "        d[c] = hand.count(c)\n",
    "    for c in s:\n",
    "        if c == 'A':\n",
    "            a = d['A']\n",
    "            if a != 5:\n",
    "                del d['A']\n",
    "                best_card = max(d, key=d.get)\n",
    "                d[best_card] += a\n",
    "    # Five of a kind:\n",
    "    if sorted(list(d.values())) == [5]:\n",
    "        return 6\n",
    "    # Four of a kind:\n",
    "    elif sorted(list(d.values())) == [1, 4]:\n",
    "        return 5\n",
    "    # Full house:\n",
    "    elif sorted(list(d.values())) == [2, 3]:\n",
    "        return 4\n",
    "    # Three of a kind:\n",
    "    elif sorted(list(d.values())) == [1, 1, 3]:\n",
    "        return 3\n",
    "    # Two pair:\n",
    "    elif sorted(list(d.values())) == [1, 2, 2]:\n",
    "        return 2\n",
    "    # One pair:\n",
    "    elif sorted(list(d.values())) == [1, 1, 1, 2]:\n",
    "        return 1\n",
    "    # High card:\n",
    "    elif sorted(list(d.values())) == [1, 1, 1, 1, 1]:\n",
    "        return 0\n",
    "    else:\n",
    "        print(f\"Ce n'est pas une main correcte : {hand}\")\n",
    "        return 0\n",
    "\n",
    "def read_input_bis(kind):\n",
    "    # \"kind\" must be \"input\" or \"exemple\"\n",
    "    hands = []\n",
    "    with open(f\"/home/linaewen/Documents/PYTHON/AdventOfCode2023/J7/{kind}\") as f:\n",
    "        for line in f :\n",
    "            hand, bid = line.strip().split(' ')\n",
    "            hand = convert_hand_bis(hand)\n",
    "            typ = recognize_type_bis(hand)\n",
    "            bid = int(bid)\n",
    "            hands.append({\n",
    "                'hand': hand,\n",
    "                'type': typ,\n",
    "                'bid': bid\n",
    "            })\n",
    "    return hands"
   ]
  },
  {
   "cell_type": "code",
   "execution_count": 55,
   "id": "b47f753f",
   "metadata": {},
   "outputs": [
    {
     "name": "stdout",
     "output_type": "stream",
     "text": [
      "252898370\n"
     ]
    }
   ],
   "source": [
    "def act_two(kind):\n",
    "    hands = read_input_bis(kind)\n",
    "    hands.sort(key=lambda hand: (hand['type'], hand['hand']))\n",
    "    score = 0\n",
    "    for i, hand in enumerate(hands):\n",
    "        score += (i+1)*hand['bid']\n",
    "    return(score)\n",
    "\n",
    "print(act_two('input'))"
   ]
  },
  {
   "cell_type": "code",
   "execution_count": null,
   "id": "335616dd",
   "metadata": {},
   "outputs": [],
   "source": []
  }
 ],
 "metadata": {
  "kernelspec": {
   "display_name": "Python 3 (ipykernel)",
   "language": "python",
   "name": "python3"
  },
  "language_info": {
   "codemirror_mode": {
    "name": "ipython",
    "version": 3
   },
   "file_extension": ".py",
   "mimetype": "text/x-python",
   "name": "python",
   "nbconvert_exporter": "python",
   "pygments_lexer": "ipython3",
   "version": "3.9.13"
  }
 },
 "nbformat": 4,
 "nbformat_minor": 5
}
