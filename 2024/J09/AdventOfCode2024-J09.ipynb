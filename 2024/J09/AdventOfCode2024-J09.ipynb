{
 "cells": [
  {
   "cell_type": "markdown",
   "id": "d14a6a17-eb52-4f24-98b6-e5a62144b84f",
   "metadata": {},
   "source": [
    "# Advent of Code 2024 - J09"
   ]
  },
  {
   "cell_type": "code",
   "execution_count": 1,
   "id": "f890c83f-76ef-476a-a2ef-5bb35c4b11dd",
   "metadata": {},
   "outputs": [],
   "source": [
    "def read_input(kind):\n",
    "    assert kind in ('input', 'example'), '\"kind\" must be \"input\" or \"example\"'\n",
    "    with open(kind) as f:\n",
    "        for line in f:\n",
    "            return line.strip()"
   ]
  },
  {
   "cell_type": "code",
   "execution_count": 2,
   "id": "2e42cf61-9fda-404c-aa8c-06342b9dc7d6",
   "metadata": {},
   "outputs": [
    {
     "data": {
      "text/plain": [
       "'2333133121414131402'"
      ]
     },
     "execution_count": 2,
     "metadata": {},
     "output_type": "execute_result"
    }
   ],
   "source": [
    "edisk_map = read_input(\"example\")\n",
    "idisk_map = read_input(\"input\")\n",
    "edisk_map"
   ]
  },
  {
   "cell_type": "markdown",
   "id": "e923e5e3-3b81-4f02-8721-a9e1172001d5",
   "metadata": {},
   "source": [
    "## First part"
   ]
  },
  {
   "cell_type": "code",
   "execution_count": 3,
   "id": "72289a22-f9b3-48b8-9330-1196ed43c6fd",
   "metadata": {},
   "outputs": [],
   "source": [
    "def get_filesystem(disk_map):\n",
    "    is_file = True\n",
    "    id_number = 0\n",
    "    filesystem = []\n",
    "    for space in disk_map:\n",
    "        for _ in range(int(space)):\n",
    "            if is_file:\n",
    "                filesystem.append(str(id_number))\n",
    "            else:\n",
    "                filesystem.append('.')\n",
    "        if is_file:\n",
    "            id_number += 1\n",
    "        is_file = not(is_file)\n",
    "    return filesystem"
   ]
  },
  {
   "cell_type": "code",
   "execution_count": 4,
   "id": "4c883009-1970-47f8-bec7-87aba45d3b4d",
   "metadata": {},
   "outputs": [
    {
     "data": {
      "text/plain": [
       "['0', '.', '.', '1', '1', '1', '.', '.', '.', '.', '2', '2', '2', '2', '2']"
      ]
     },
     "execution_count": 4,
     "metadata": {},
     "output_type": "execute_result"
    }
   ],
   "source": [
    "get_filesystem(\"12345\")"
   ]
  },
  {
   "cell_type": "code",
   "execution_count": 5,
   "id": "e0c00e89-ad07-4785-91c7-06db4edd8ad3",
   "metadata": {},
   "outputs": [],
   "source": [
    "def first_part(kind):\n",
    "    disk_map = read_input(kind)\n",
    "    filesystem = get_filesystem(disk_map)\n",
    "    checksum = 0\n",
    "    index_end = len(filesystem) - 1\n",
    "    for i, car in enumerate(filesystem):\n",
    "        if i > index_end:\n",
    "            print(f\"i: {i}, index_end: {index_end}\")\n",
    "            return checksum\n",
    "        if car == '.':\n",
    "            while filesystem[index_end] == '.':\n",
    "                index_end -= 1\n",
    "                if i >= index_end:\n",
    "                    print(f\"i: {i}, index_end: {index_end}\")\n",
    "                    return checksum\n",
    "            checksum += int(filesystem[index_end]) * i\n",
    "            index_end -= 1\n",
    "        else:\n",
    "            checksum += int(car) * i\n",
    "    return checksum"
   ]
  },
  {
   "cell_type": "code",
   "execution_count": 6,
   "id": "7a795983-1a7e-4949-90c3-a8a9f661e710",
   "metadata": {},
   "outputs": [
    {
     "name": "stdout",
     "output_type": "stream",
     "text": [
      "i: 28, index_end: 27\n"
     ]
    },
    {
     "data": {
      "text/plain": [
       "1928"
      ]
     },
     "execution_count": 6,
     "metadata": {},
     "output_type": "execute_result"
    }
   ],
   "source": [
    "first_part(\"example\")"
   ]
  },
  {
   "cell_type": "code",
   "execution_count": 7,
   "id": "605e40ac-b0b1-4aa3-8aad-7a9487b1cf14",
   "metadata": {},
   "outputs": [
    {
     "name": "stdout",
     "output_type": "stream",
     "text": [
      "i: 50126, index_end: 50125\n"
     ]
    },
    {
     "data": {
      "text/plain": [
       "6344673854800"
      ]
     },
     "execution_count": 7,
     "metadata": {},
     "output_type": "execute_result"
    }
   ],
   "source": [
    "first_part(\"input\")"
   ]
  },
  {
   "cell_type": "markdown",
   "id": "0575fd5d-fa68-4449-8720-c4a752bba739",
   "metadata": {},
   "source": [
    "## Second part"
   ]
  },
  {
   "cell_type": "code",
   "execution_count": 8,
   "id": "cb678de4-cdc2-4cfc-8704-d849f485e9fe",
   "metadata": {},
   "outputs": [],
   "source": [
    "def get_filesystem_by_blocks(disk_map):\n",
    "    is_file = True\n",
    "    id_number = 0\n",
    "    blockfilesystem = []\n",
    "    for space in disk_map:\n",
    "        if is_file:\n",
    "            blockfilesystem.append({\n",
    "                \"is_file\": is_file,\n",
    "                \"space\": int(space),\n",
    "                \"id_number\": id_number\n",
    "            })\n",
    "            id_number += 1\n",
    "        else:\n",
    "            blockfilesystem.append({\n",
    "                \"is_file\": is_file,\n",
    "                \"space\": int(space),\n",
    "                \"id_number\": None\n",
    "            })\n",
    "        is_file = not is_file\n",
    "    return blockfilesystem"
   ]
  },
  {
   "cell_type": "code",
   "execution_count": 9,
   "id": "2f4de57e-16cc-465c-ac9e-ceeda741f0b9",
   "metadata": {},
   "outputs": [
    {
     "data": {
      "text/plain": [
       "[{'is_file': True, 'space': 2, 'id_number': 0},\n",
       " {'is_file': False, 'space': 3, 'id_number': None},\n",
       " {'is_file': True, 'space': 3, 'id_number': 1},\n",
       " {'is_file': False, 'space': 3, 'id_number': None},\n",
       " {'is_file': True, 'space': 1, 'id_number': 2},\n",
       " {'is_file': False, 'space': 3, 'id_number': None},\n",
       " {'is_file': True, 'space': 3, 'id_number': 3},\n",
       " {'is_file': False, 'space': 1, 'id_number': None},\n",
       " {'is_file': True, 'space': 2, 'id_number': 4},\n",
       " {'is_file': False, 'space': 1, 'id_number': None},\n",
       " {'is_file': True, 'space': 4, 'id_number': 5},\n",
       " {'is_file': False, 'space': 1, 'id_number': None},\n",
       " {'is_file': True, 'space': 4, 'id_number': 6},\n",
       " {'is_file': False, 'space': 1, 'id_number': None},\n",
       " {'is_file': True, 'space': 3, 'id_number': 7},\n",
       " {'is_file': False, 'space': 1, 'id_number': None},\n",
       " {'is_file': True, 'space': 4, 'id_number': 8},\n",
       " {'is_file': False, 'space': 0, 'id_number': None},\n",
       " {'is_file': True, 'space': 2, 'id_number': 9}]"
      ]
     },
     "execution_count": 9,
     "metadata": {},
     "output_type": "execute_result"
    }
   ],
   "source": [
    "get_filesystem_by_blocks(edisk_map)"
   ]
  },
  {
   "cell_type": "code",
   "execution_count": 10,
   "id": "077e0f8b-37ab-4778-aa3c-2cdd52f34b15",
   "metadata": {},
   "outputs": [],
   "source": [
    "def filesystem_by_blocks_to_list(filesystem):\n",
    "    s = []\n",
    "    for block in filesystem:\n",
    "        if block[\"is_file\"]:\n",
    "            for _ in range(block[\"space\"]):\n",
    "                s.append(str(block[\"id_number\"]))\n",
    "        else:\n",
    "            for _ in range(block[\"space\"]):\n",
    "                s.append('.')\n",
    "    return s"
   ]
  },
  {
   "cell_type": "code",
   "execution_count": 11,
   "id": "bd5386cc-93f2-4d7e-bf8f-4502ac64444f",
   "metadata": {},
   "outputs": [
    {
     "name": "stdout",
     "output_type": "stream",
     "text": [
      "['0', '0', '.', '.', '.', '1', '1', '1', '.', '.', '.', '2', '.', '.', '.', '3', '3', '3', '.', '4', '4', '.', '5', '5', '5', '5', '.', '6', '6', '6', '6', '.', '7', '7', '7', '.', '8', '8', '8', '8', '9', '9']\n"
     ]
    }
   ],
   "source": [
    "print(filesystem_by_blocks_to_list(get_filesystem_by_blocks(edisk_map)))"
   ]
  },
  {
   "cell_type": "code",
   "execution_count": 12,
   "id": "9204612f-85f3-4cc9-ad22-9716b6d3ca0e",
   "metadata": {},
   "outputs": [],
   "source": [
    "def reorder_blocks(filesystem):\n",
    "    index_end = len(filesystem) - 1\n",
    "    while index_end > 0:\n",
    "        if filesystem[index_end][\"is_file\"]:\n",
    "            for i in range(index_end):\n",
    "                if (not filesystem[i][\"is_file\"]) and (filesystem[i][\"space\"] >= filesystem[index_end][\"space\"]): # Look for span of free space large enough\n",
    "                    # Move block and adjust size of remaining free space\n",
    "                    size_moving_block = filesystem[index_end][\"space\"]\n",
    "                    remaining_free_space = filesystem[i][\"space\"] - size_moving_block\n",
    "                    filesystem[i][\"is_file\"] = True\n",
    "                    filesystem[i][\"space\"] = filesystem[index_end][\"space\"]\n",
    "                    filesystem[i][\"id_number\"] = filesystem[index_end][\"id_number\"]\n",
    "                    if remaining_free_space > 0:\n",
    "                        filesystem.insert(i+1, {'is_file': False, 'space': remaining_free_space, 'id_number': None})\n",
    "                        index_end += 1\n",
    "                    # Replace old block by free space\n",
    "                    filesystem[index_end][\"is_file\"] = False\n",
    "                    filesystem[index_end][\"id_number\"] = None\n",
    "                    # And out of this loop\n",
    "                    break\n",
    "        index_end -= 1\n",
    "    return filesystem"
   ]
  },
  {
   "cell_type": "code",
   "execution_count": 13,
   "id": "8af16e57-4554-4f29-8203-e796537ee2f6",
   "metadata": {},
   "outputs": [],
   "source": [
    "def second_part(kind):\n",
    "    disk_map = read_input(kind)\n",
    "    filesystem = get_filesystem_by_blocks(disk_map)\n",
    "    reordered_filesystem = reorder_blocks(filesystem)\n",
    "    f = filesystem_by_blocks_to_list(reordered_filesystem)\n",
    "    assert len(filesystem_by_blocks_to_list(filesystem)) == len(f), \"Filesystem should be the same length after reorder than before!\"\n",
    "    checksum = 0\n",
    "    for i, car in enumerate(f):\n",
    "        if car != '.':\n",
    "            checksum += int(car) * i\n",
    "    return checksum"
   ]
  },
  {
   "cell_type": "code",
   "execution_count": 14,
   "id": "b504d560-c28f-4673-b2c5-3cbc70e98540",
   "metadata": {},
   "outputs": [
    {
     "data": {
      "text/plain": [
       "2858"
      ]
     },
     "execution_count": 14,
     "metadata": {},
     "output_type": "execute_result"
    }
   ],
   "source": [
    "second_part(\"example\")"
   ]
  },
  {
   "cell_type": "code",
   "execution_count": 15,
   "id": "214e6638-5ee9-45e2-bc61-d70a4f3ecdcd",
   "metadata": {},
   "outputs": [
    {
     "data": {
      "text/plain": [
       "6360363199987"
      ]
     },
     "execution_count": 15,
     "metadata": {},
     "output_type": "execute_result"
    }
   ],
   "source": [
    "second_part(\"input\")"
   ]
  }
 ],
 "metadata": {
  "kernelspec": {
   "display_name": "Python 3 (ipykernel)",
   "language": "python",
   "name": "python3"
  },
  "language_info": {
   "codemirror_mode": {
    "name": "ipython",
    "version": 3
   },
   "file_extension": ".py",
   "mimetype": "text/x-python",
   "name": "python",
   "nbconvert_exporter": "python",
   "pygments_lexer": "ipython3",
   "version": "3.9.13"
  }
 },
 "nbformat": 4,
 "nbformat_minor": 5
}
