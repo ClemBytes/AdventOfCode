{
 "cells": [
  {
   "cell_type": "markdown",
   "id": "0137885f-a301-44a0-8092-4088df56624f",
   "metadata": {},
   "source": [
    "# Advent of Code 2024 - J11"
   ]
  },
  {
   "cell_type": "code",
   "execution_count": 1,
   "id": "01a6e3bf-bc9a-488d-90ca-34bde6a4993a",
   "metadata": {},
   "outputs": [],
   "source": [
    "def read_input(kind):\n",
    "    assert kind in ('input', 'example', 'example2'), '\"kind\" must be \"input\" or \"example\" or \"example2\"'\n",
    "    with open(kind) as f:\n",
    "        for line in f:\n",
    "            return [int(x) for x in line.strip().split(' ')]"
   ]
  },
  {
   "cell_type": "code",
   "execution_count": 2,
   "id": "da14343f-787e-4936-8405-a20b2ab04a12",
   "metadata": {},
   "outputs": [
    {
     "data": {
      "text/plain": [
       "[0, 1, 10, 99, 999]"
      ]
     },
     "execution_count": 2,
     "metadata": {},
     "output_type": "execute_result"
    }
   ],
   "source": [
    "read_input(\"example\")"
   ]
  },
  {
   "cell_type": "code",
   "execution_count": 3,
   "id": "4fb0e408-6071-404e-86c7-6e59b0c9f66c",
   "metadata": {},
   "outputs": [
    {
     "data": {
      "text/plain": [
       "[125, 17]"
      ]
     },
     "execution_count": 3,
     "metadata": {},
     "output_type": "execute_result"
    }
   ],
   "source": [
    "read_input(\"example2\")"
   ]
  },
  {
   "cell_type": "code",
   "execution_count": 4,
   "id": "42085e1c-860d-4648-b3f6-60fc0e3a83a8",
   "metadata": {},
   "outputs": [
    {
     "data": {
      "text/plain": [
       "[64599, 31, 674832, 2659361, 1, 0, 8867, 321]"
      ]
     },
     "execution_count": 4,
     "metadata": {},
     "output_type": "execute_result"
    }
   ],
   "source": [
    "read_input(\"input\")"
   ]
  },
  {
   "cell_type": "markdown",
   "id": "20d9074f-141e-427c-b0a4-0a59358896bf",
   "metadata": {},
   "source": [
    "## First part"
   ]
  },
  {
   "cell_type": "code",
   "execution_count": 5,
   "id": "384e461a-9877-484f-8d4c-1e2462d1a851",
   "metadata": {},
   "outputs": [],
   "source": [
    "def blink(stones):\n",
    "    b = []\n",
    "    for s in stones:\n",
    "        if s == 0:\n",
    "            b.append(1)\n",
    "        elif len(str(s))%2 == 0:\n",
    "            st = str(s)\n",
    "            l = len(st)\n",
    "            b.append(int(st[:l//2]))\n",
    "            b.append(int(st[l//2:]))\n",
    "        else:\n",
    "            b.append(s*2024)\n",
    "    return b"
   ]
  },
  {
   "cell_type": "code",
   "execution_count": 6,
   "id": "40ffa217-2f2d-48af-9cc5-240034a035b2",
   "metadata": {},
   "outputs": [
    {
     "data": {
      "text/plain": [
       "[1, 2024, 1, 0, 9, 9, 2021976]"
      ]
     },
     "execution_count": 6,
     "metadata": {},
     "output_type": "execute_result"
    }
   ],
   "source": [
    "blink(read_input(\"example\"))"
   ]
  },
  {
   "cell_type": "code",
   "execution_count": 7,
   "id": "b8adc7a9-f641-434a-9426-2fcd26d71e72",
   "metadata": {},
   "outputs": [
    {
     "data": {
      "text/plain": [
       "[253000, 1, 7]"
      ]
     },
     "execution_count": 7,
     "metadata": {},
     "output_type": "execute_result"
    }
   ],
   "source": [
    "blink(read_input(\"example2\"))"
   ]
  },
  {
   "cell_type": "code",
   "execution_count": 8,
   "id": "73a2953e-7909-4030-9317-00cc1ab26e99",
   "metadata": {},
   "outputs": [],
   "source": [
    "def first_part(kind):\n",
    "    stones = read_input(kind)\n",
    "    for _ in range(25):\n",
    "        stones = blink(stones)\n",
    "    return len(stones)"
   ]
  },
  {
   "cell_type": "code",
   "execution_count": 9,
   "id": "2512f94c-7b01-4dab-a5ac-a96ae75ceb77",
   "metadata": {},
   "outputs": [
    {
     "data": {
      "text/plain": [
       "55312"
      ]
     },
     "execution_count": 9,
     "metadata": {},
     "output_type": "execute_result"
    }
   ],
   "source": [
    "first_part(\"example2\")"
   ]
  },
  {
   "cell_type": "code",
   "execution_count": 10,
   "id": "2424d8a1-7415-4dd2-87a1-9c0e5d90d301",
   "metadata": {},
   "outputs": [
    {
     "data": {
      "text/plain": [
       "199986"
      ]
     },
     "execution_count": 10,
     "metadata": {},
     "output_type": "execute_result"
    }
   ],
   "source": [
    "first_part(\"input\")"
   ]
  },
  {
   "cell_type": "markdown",
   "id": "5af37b2d-aa9f-4f75-aa11-71d04026d78c",
   "metadata": {},
   "source": [
    "## Second part"
   ]
  },
  {
   "cell_type": "code",
   "execution_count": 11,
   "id": "20973c83-1651-4730-93bf-50b9a75912e8",
   "metadata": {},
   "outputs": [],
   "source": [
    "def input_to_dict(stones):\n",
    "    dstones = {}\n",
    "    for s in stones:\n",
    "        try:\n",
    "            dstones[s] += 1\n",
    "        except KeyError:\n",
    "            dstones[s] = 1\n",
    "    return dstones"
   ]
  },
  {
   "cell_type": "code",
   "execution_count": 12,
   "id": "147f7c18-90bb-4d3e-a130-242ed92eaf38",
   "metadata": {},
   "outputs": [
    {
     "data": {
      "text/plain": [
       "{125: 1, 17: 1}"
      ]
     },
     "execution_count": 12,
     "metadata": {},
     "output_type": "execute_result"
    }
   ],
   "source": [
    "input_to_dict(read_input(\"example2\"))"
   ]
  },
  {
   "cell_type": "code",
   "execution_count": 13,
   "id": "0ecf1373-55bb-4635-be38-4dd6fca7c48e",
   "metadata": {},
   "outputs": [
    {
     "data": {
      "text/plain": [
       "{64599: 1, 31: 1, 674832: 1, 2659361: 1, 1: 1, 0: 1, 8867: 1, 321: 1}"
      ]
     },
     "execution_count": 13,
     "metadata": {},
     "output_type": "execute_result"
    }
   ],
   "source": [
    "input_to_dict(read_input(\"input\"))"
   ]
  },
  {
   "cell_type": "code",
   "execution_count": 14,
   "id": "6263169a-ebaf-43fb-9f52-5a22be971529",
   "metadata": {},
   "outputs": [],
   "source": [
    "def blink_dict(dstones):\n",
    "    dstones_next = {}\n",
    "    for s, count in dstones.items():\n",
    "        if s == 0:\n",
    "            try:\n",
    "                dstones_next[1] += count\n",
    "            except KeyError:\n",
    "                dstones_next[1] = count\n",
    "        elif len(str(s))%2 == 0:\n",
    "            st = str(s)\n",
    "            l = len(st)\n",
    "            # First half\n",
    "            try:\n",
    "                dstones_next[int(st[:l//2])] += count\n",
    "            except KeyError:\n",
    "                dstones_next[int(st[:l//2])] = count\n",
    "            # Second half\n",
    "            try:\n",
    "                dstones_next[int(st[l//2:])] += count\n",
    "            except KeyError:\n",
    "                dstones_next[int(st[l//2:])] = count\n",
    "        else:\n",
    "            try:\n",
    "                dstones_next[s*2024] += count\n",
    "            except KeyError:\n",
    "                dstones_next[s*2024] = count\n",
    "    return dstones_next"
   ]
  },
  {
   "cell_type": "code",
   "execution_count": 15,
   "id": "b87e3b7a-7055-4123-baf5-fd37edf83705",
   "metadata": {},
   "outputs": [],
   "source": [
    "def second_part(kind):\n",
    "    dstones = input_to_dict(read_input(kind))\n",
    "    for _ in range(75):\n",
    "        dstones = blink_dict(dstones)\n",
    "    return sum(dstones.values())"
   ]
  },
  {
   "cell_type": "code",
   "execution_count": 16,
   "id": "ba37f97e-96e0-4023-a807-d071ff9b036e",
   "metadata": {},
   "outputs": [
    {
     "data": {
      "text/plain": [
       "65601038650482"
      ]
     },
     "execution_count": 16,
     "metadata": {},
     "output_type": "execute_result"
    }
   ],
   "source": [
    "second_part(\"example2\")"
   ]
  },
  {
   "cell_type": "code",
   "execution_count": 17,
   "id": "901f34a3-91f1-4c24-a701-f3ae8e41ec37",
   "metadata": {},
   "outputs": [
    {
     "data": {
      "text/plain": [
       "236804088748754"
      ]
     },
     "execution_count": 17,
     "metadata": {},
     "output_type": "execute_result"
    }
   ],
   "source": [
    "second_part(\"input\")"
   ]
  }
 ],
 "metadata": {
  "kernelspec": {
   "display_name": "Python 3 (ipykernel)",
   "language": "python",
   "name": "python3"
  },
  "language_info": {
   "codemirror_mode": {
    "name": "ipython",
    "version": 3
   },
   "file_extension": ".py",
   "mimetype": "text/x-python",
   "name": "python",
   "nbconvert_exporter": "python",
   "pygments_lexer": "ipython3",
   "version": "3.9.13"
  }
 },
 "nbformat": 4,
 "nbformat_minor": 5
}
