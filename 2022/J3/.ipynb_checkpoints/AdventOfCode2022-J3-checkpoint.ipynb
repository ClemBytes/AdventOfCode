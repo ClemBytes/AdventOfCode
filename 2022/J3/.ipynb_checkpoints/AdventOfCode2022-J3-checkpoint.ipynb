{
 "cells": [
  {
   "cell_type": "markdown",
   "id": "da4079ee",
   "metadata": {},
   "source": [
    "# Lecture des données"
   ]
  },
  {
   "cell_type": "code",
   "execution_count": 1,
   "id": "5ebc2184",
   "metadata": {},
   "outputs": [],
   "source": [
    "def read_input(kind):\n",
    "    # \"kind\" must be \"input\" or \"exemple\"\n",
    "    rucksacks = []\n",
    "    with open(f\"/home/linaewen/Documents/PYTHON/AdventOfCode2022/J3/{kind}\") as f:\n",
    "        for line in f :\n",
    "            t = line.strip()\n",
    "            rucksacks.append([t[:len(t)//2], t[len(t)//2:]])\n",
    "    return rucksacks"
   ]
  },
  {
   "cell_type": "code",
   "execution_count": 2,
   "id": "bdd9f94c",
   "metadata": {},
   "outputs": [],
   "source": [
    "rucksacks_ex = read_input('exemple')\n",
    "rucksacks_in = read_input('input')"
   ]
  },
  {
   "cell_type": "code",
   "execution_count": 3,
   "id": "f6bc5c5c",
   "metadata": {},
   "outputs": [
    {
     "name": "stdout",
     "output_type": "stream",
     "text": [
      "[['vJrwpWtwJgWr', 'hcsFMMfFFhFp'], ['jqHRNqRjqzjGDLGL', 'rsFMfFZSrLrFZsSL'], ['PmmdzqPrV', 'vPwwTWBwg'], ['wMqvLMZHhHMvwLH', 'jbvcjnnSBnvTQFn'], ['ttgJtRGJ', 'QctTZtZT'], ['CrZsJsPPZsGz', 'wwsLwLmpwMDw']]\n"
     ]
    }
   ],
   "source": [
    "print(rucksacks_ex)"
   ]
  },
  {
   "cell_type": "markdown",
   "id": "a4ddbb51",
   "metadata": {},
   "source": [
    "# Act ONE"
   ]
  },
  {
   "cell_type": "code",
   "execution_count": 4,
   "id": "35eaa129",
   "metadata": {},
   "outputs": [],
   "source": [
    "import string\n",
    "def letter_priority(letter):\n",
    "    if letter.islower():\n",
    "        return string.ascii_lowercase.find(letter) + 1\n",
    "    else:\n",
    "        return string.ascii_uppercase.find(letter) + 27"
   ]
  },
  {
   "cell_type": "code",
   "execution_count": 5,
   "id": "3b9884c6",
   "metadata": {},
   "outputs": [],
   "source": [
    "def find_item(rucksack):\n",
    "    for item in rucksack[0]:\n",
    "        if rucksack[1].find(item) != -1:\n",
    "            return item"
   ]
  },
  {
   "cell_type": "code",
   "execution_count": 6,
   "id": "c8f88a0a",
   "metadata": {},
   "outputs": [],
   "source": [
    "def compute_score_act_one(rucksacks):\n",
    "    score = 0\n",
    "    for rucksack in rucksacks:\n",
    "        score += letter_priority(find_item(rucksack))\n",
    "    return score"
   ]
  },
  {
   "cell_type": "code",
   "execution_count": 7,
   "id": "f39fa30b",
   "metadata": {},
   "outputs": [
    {
     "data": {
      "text/plain": [
       "157"
      ]
     },
     "execution_count": 7,
     "metadata": {},
     "output_type": "execute_result"
    }
   ],
   "source": [
    "compute_score_act_one(rucksacks_ex)"
   ]
  },
  {
   "cell_type": "code",
   "execution_count": 8,
   "id": "28de8e99",
   "metadata": {},
   "outputs": [
    {
     "data": {
      "text/plain": [
       "8139"
      ]
     },
     "execution_count": 8,
     "metadata": {},
     "output_type": "execute_result"
    }
   ],
   "source": [
    "compute_score_act_one(rucksacks_in)"
   ]
  },
  {
   "cell_type": "markdown",
   "id": "0a45c274",
   "metadata": {},
   "source": [
    "# Act TWO"
   ]
  },
  {
   "cell_type": "code",
   "execution_count": 9,
   "id": "ca827b5c",
   "metadata": {},
   "outputs": [],
   "source": [
    "def create_groups(rucksacks):\n",
    "    groups = []\n",
    "    group = []\n",
    "    nb = 0\n",
    "    for rucksack in rucksacks:\n",
    "        sack = rucksack[0] + rucksack[1]\n",
    "        group.append(sack)\n",
    "        nb += 1\n",
    "        if nb%3 == 0:\n",
    "            groups.append(group)\n",
    "            group = []\n",
    "    return groups"
   ]
  },
  {
   "cell_type": "code",
   "execution_count": 10,
   "id": "2bc42fdf",
   "metadata": {},
   "outputs": [
    {
     "data": {
      "text/plain": [
       "[['vJrwpWtwJgWrhcsFMMfFFhFp',\n",
       "  'jqHRNqRjqzjGDLGLrsFMfFZSrLrFZsSL',\n",
       "  'PmmdzqPrVvPwwTWBwg'],\n",
       " ['wMqvLMZHhHMvwLHjbvcjnnSBnvTQFn',\n",
       "  'ttgJtRGJQctTZtZT',\n",
       "  'CrZsJsPPZsGzwwsLwLmpwMDw']]"
      ]
     },
     "execution_count": 10,
     "metadata": {},
     "output_type": "execute_result"
    }
   ],
   "source": [
    "create_groups(rucksacks_ex)"
   ]
  },
  {
   "cell_type": "code",
   "execution_count": 11,
   "id": "5f9f8af8",
   "metadata": {},
   "outputs": [],
   "source": [
    "def find_badge(group):\n",
    "    for item in group[0]:\n",
    "        if (group[1].find(item) != -1) and (group[2].find(item) != -1):\n",
    "            return item"
   ]
  },
  {
   "cell_type": "code",
   "execution_count": 12,
   "id": "a8b8e900",
   "metadata": {},
   "outputs": [],
   "source": [
    "def compute_score_act_two(rucksacks):\n",
    "    groups = create_groups(rucksacks)\n",
    "    score = 0\n",
    "    for group in groups:\n",
    "        score += letter_priority(find_badge(group))\n",
    "    return score"
   ]
  },
  {
   "cell_type": "code",
   "execution_count": 13,
   "id": "8c83b120",
   "metadata": {},
   "outputs": [
    {
     "data": {
      "text/plain": [
       "70"
      ]
     },
     "execution_count": 13,
     "metadata": {},
     "output_type": "execute_result"
    }
   ],
   "source": [
    "compute_score_act_two(rucksacks_ex)"
   ]
  },
  {
   "cell_type": "code",
   "execution_count": 14,
   "id": "0d60daeb",
   "metadata": {},
   "outputs": [
    {
     "data": {
      "text/plain": [
       "2668"
      ]
     },
     "execution_count": 14,
     "metadata": {},
     "output_type": "execute_result"
    }
   ],
   "source": [
    "compute_score_act_two(rucksacks_in)"
   ]
  },
  {
   "cell_type": "code",
   "execution_count": null,
   "id": "3a673e75",
   "metadata": {},
   "outputs": [],
   "source": []
  }
 ],
 "metadata": {
  "kernelspec": {
   "display_name": "Python 3 (ipykernel)",
   "language": "python",
   "name": "python3"
  },
  "language_info": {
   "codemirror_mode": {
    "name": "ipython",
    "version": 3
   },
   "file_extension": ".py",
   "mimetype": "text/x-python",
   "name": "python",
   "nbconvert_exporter": "python",
   "pygments_lexer": "ipython3",
   "version": "3.9.13"
  }
 },
 "nbformat": 4,
 "nbformat_minor": 5
}
