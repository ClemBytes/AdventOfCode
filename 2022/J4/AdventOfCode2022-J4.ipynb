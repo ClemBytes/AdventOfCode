{
 "cells": [
  {
   "cell_type": "markdown",
   "id": "9eef8876",
   "metadata": {},
   "source": [
    "# Lecture des données"
   ]
  },
  {
   "cell_type": "code",
   "execution_count": 1,
   "id": "3d7c3070",
   "metadata": {},
   "outputs": [],
   "source": [
    "def read_input(kind):\n",
    "    # \"kind\" must be \"input\" or \"exemple\"\n",
    "    pairs = []\n",
    "    with open(f\"/home/linaewen/Documents/PYTHON/AdventOfCode2022/J4/{kind}\") as f:\n",
    "        for line in f :\n",
    "            p = line.strip().split(',')\n",
    "            e0 = p[0].split('-')\n",
    "            e1 = p[1].split('-')\n",
    "            pairs.append([[int(e0[0]), int(e0[1])], [int(e1[0]), int(e1[1])]])\n",
    "    return pairs"
   ]
  },
  {
   "cell_type": "code",
   "execution_count": 2,
   "id": "8bba20f8",
   "metadata": {},
   "outputs": [],
   "source": [
    "pairs_ex = read_input('exemple')\n",
    "pairs_in = read_input('input')"
   ]
  },
  {
   "cell_type": "code",
   "execution_count": 3,
   "id": "89db8245",
   "metadata": {},
   "outputs": [
    {
     "name": "stdout",
     "output_type": "stream",
     "text": [
      "[[[2, 4], [6, 8]], [[2, 3], [4, 5]], [[5, 7], [7, 9]], [[2, 8], [3, 7]], [[6, 6], [4, 6]], [[2, 6], [4, 8]]]\n"
     ]
    }
   ],
   "source": [
    "print(pairs_ex)"
   ]
  },
  {
   "cell_type": "markdown",
   "id": "e2683a88",
   "metadata": {},
   "source": [
    "# Act ONE"
   ]
  },
  {
   "cell_type": "code",
   "execution_count": 4,
   "id": "33a25238",
   "metadata": {},
   "outputs": [],
   "source": [
    "def contains(pair):\n",
    "    e0, e1 = pair\n",
    "    if (e0[0] <= e1[0]) and (e0[1] >= e1[1]):\n",
    "        # First elf contains second\n",
    "        return True\n",
    "    elif (e1[0] <= e0[0]) and (e1[1] >= e0[1]):\n",
    "        # Second elf contains first\n",
    "        return True\n",
    "    else:\n",
    "        return False"
   ]
  },
  {
   "cell_type": "code",
   "execution_count": 5,
   "id": "7c7133e9",
   "metadata": {},
   "outputs": [],
   "source": [
    "def act_one(pairs):\n",
    "    return sum([contains(pair) for pair in pairs])"
   ]
  },
  {
   "cell_type": "code",
   "execution_count": 6,
   "id": "f2f5b40f",
   "metadata": {},
   "outputs": [
    {
     "data": {
      "text/plain": [
       "2"
      ]
     },
     "execution_count": 6,
     "metadata": {},
     "output_type": "execute_result"
    }
   ],
   "source": [
    "act_one(pairs_ex)"
   ]
  },
  {
   "cell_type": "code",
   "execution_count": 7,
   "id": "15134ed4",
   "metadata": {},
   "outputs": [
    {
     "data": {
      "text/plain": [
       "496"
      ]
     },
     "execution_count": 7,
     "metadata": {},
     "output_type": "execute_result"
    }
   ],
   "source": [
    "act_one(pairs_in)"
   ]
  },
  {
   "cell_type": "markdown",
   "id": "d253b5c7",
   "metadata": {},
   "source": [
    "# Act TWO"
   ]
  },
  {
   "cell_type": "code",
   "execution_count": 8,
   "id": "19850283",
   "metadata": {},
   "outputs": [],
   "source": [
    "def overlaps(pair):\n",
    "    e0, e1 = pair\n",
    "    if (e0[1] < e1[0]) or (e1[1] < e0[0]):\n",
    "        return False\n",
    "    else:\n",
    "        return True"
   ]
  },
  {
   "cell_type": "code",
   "execution_count": 9,
   "id": "6c041bb5",
   "metadata": {},
   "outputs": [],
   "source": [
    "def act_two(pairs):\n",
    "    return sum([overlaps(pair) for pair in pairs])"
   ]
  },
  {
   "cell_type": "code",
   "execution_count": 10,
   "id": "0dd5800a",
   "metadata": {},
   "outputs": [
    {
     "data": {
      "text/plain": [
       "4"
      ]
     },
     "execution_count": 10,
     "metadata": {},
     "output_type": "execute_result"
    }
   ],
   "source": [
    "act_two(pairs_ex)"
   ]
  },
  {
   "cell_type": "code",
   "execution_count": 11,
   "id": "218b1d21",
   "metadata": {},
   "outputs": [
    {
     "data": {
      "text/plain": [
       "847"
      ]
     },
     "execution_count": 11,
     "metadata": {},
     "output_type": "execute_result"
    }
   ],
   "source": [
    "act_two(pairs_in)"
   ]
  },
  {
   "cell_type": "code",
   "execution_count": null,
   "id": "636cec50",
   "metadata": {},
   "outputs": [],
   "source": []
  }
 ],
 "metadata": {
  "kernelspec": {
   "display_name": "Python 3 (ipykernel)",
   "language": "python",
   "name": "python3"
  },
  "language_info": {
   "codemirror_mode": {
    "name": "ipython",
    "version": 3
   },
   "file_extension": ".py",
   "mimetype": "text/x-python",
   "name": "python",
   "nbconvert_exporter": "python",
   "pygments_lexer": "ipython3",
   "version": "3.9.13"
  }
 },
 "nbformat": 4,
 "nbformat_minor": 5
}
