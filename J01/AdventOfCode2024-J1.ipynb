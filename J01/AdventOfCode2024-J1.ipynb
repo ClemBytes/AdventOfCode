{
 "cells": [
  {
   "cell_type": "markdown",
   "id": "9d642fdf-c0aa-484f-9b0e-ebfa55d72fbb",
   "metadata": {},
   "source": [
    "# Advent of Code 2024 - J1"
   ]
  },
  {
   "cell_type": "code",
   "execution_count": 1,
   "id": "defa7b0a-5fdc-49d2-a6f6-f96cf0dc09d2",
   "metadata": {},
   "outputs": [],
   "source": [
    "def read_input(kind):\n",
    "    assert kind in ('input', 'example'), '\"kind\" must be \"input\" or \"example\"'\n",
    "    left = []\n",
    "    right = []\n",
    "    with open(kind) as f:\n",
    "        for line in f :\n",
    "            l, r = line.strip().split('   ')\n",
    "            left.append(int(l))\n",
    "            right.append(int(r))\n",
    "    assert len(left) == len(right)\n",
    "    return left, right"
   ]
  },
  {
   "cell_type": "markdown",
   "id": "512a352e-e421-4a8d-b74c-ab5899d9bbf7",
   "metadata": {},
   "source": [
    "## First part"
   ]
  },
  {
   "cell_type": "code",
   "execution_count": 2,
   "id": "97ac4716-5437-41a4-b5d2-680a0222f641",
   "metadata": {},
   "outputs": [],
   "source": [
    "def first_part(left, right):\n",
    "    s = 0\n",
    "    for i in range(len(left)):\n",
    "        s += abs(sorted(left)[i] - sorted(right)[i])\n",
    "    return s"
   ]
  },
  {
   "cell_type": "code",
   "execution_count": 3,
   "id": "886a07af-e200-4d98-9a4f-ec246672c5b0",
   "metadata": {},
   "outputs": [
    {
     "data": {
      "text/plain": [
       "11"
      ]
     },
     "execution_count": 3,
     "metadata": {},
     "output_type": "execute_result"
    }
   ],
   "source": [
    "left, right = read_input('example')\n",
    "first_part(left, right)"
   ]
  },
  {
   "cell_type": "code",
   "execution_count": 4,
   "id": "c61af0ef-bd40-44a8-ba4c-3c3197949a25",
   "metadata": {},
   "outputs": [
    {
     "data": {
      "text/plain": [
       "1222801"
      ]
     },
     "execution_count": 4,
     "metadata": {},
     "output_type": "execute_result"
    }
   ],
   "source": [
    "left, right = read_input('input')\n",
    "first_part(left, right)"
   ]
  },
  {
   "cell_type": "markdown",
   "id": "ad034fd7-678a-4072-90f1-8513b7e0f07c",
   "metadata": {},
   "source": [
    "## Second part"
   ]
  },
  {
   "cell_type": "code",
   "execution_count": 5,
   "id": "9660feb9-95cf-4815-a89a-73ac7fcbf136",
   "metadata": {},
   "outputs": [],
   "source": [
    "def second_part(left, right):\n",
    "    score = 0\n",
    "    counts_right = {}\n",
    "    for e in right:\n",
    "        if e in counts_right:\n",
    "            counts_right[e] += 1\n",
    "        else:\n",
    "            counts_right[e] = 1\n",
    "    for e in left:\n",
    "        score += counts_right.get(e, 0)*e\n",
    "    return score"
   ]
  },
  {
   "cell_type": "code",
   "execution_count": 6,
   "id": "a6a68b8a-d73b-40e8-b4fb-6d7266d29d97",
   "metadata": {},
   "outputs": [
    {
     "data": {
      "text/plain": [
       "31"
      ]
     },
     "execution_count": 6,
     "metadata": {},
     "output_type": "execute_result"
    }
   ],
   "source": [
    "left, right = read_input('example')\n",
    "second_part(left, right)"
   ]
  },
  {
   "cell_type": "code",
   "execution_count": 7,
   "id": "b3dae0bf-b7a0-4e24-aede-b5e1f7a5c428",
   "metadata": {},
   "outputs": [
    {
     "data": {
      "text/plain": [
       "22545250"
      ]
     },
     "execution_count": 7,
     "metadata": {},
     "output_type": "execute_result"
    }
   ],
   "source": [
    "left, right = read_input('input')\n",
    "second_part(left, right)"
   ]
  }
 ],
 "metadata": {
  "kernelspec": {
   "display_name": "Python 3 (ipykernel)",
   "language": "python",
   "name": "python3"
  },
  "language_info": {
   "codemirror_mode": {
    "name": "ipython",
    "version": 3
   },
   "file_extension": ".py",
   "mimetype": "text/x-python",
   "name": "python",
   "nbconvert_exporter": "python",
   "pygments_lexer": "ipython3",
   "version": "3.9.13"
  }
 },
 "nbformat": 4,
 "nbformat_minor": 5
}
