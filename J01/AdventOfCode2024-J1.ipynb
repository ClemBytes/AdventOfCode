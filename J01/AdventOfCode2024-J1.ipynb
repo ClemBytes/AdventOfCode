{
 "cells": [
  {
   "cell_type": "markdown",
   "id": "9d642fdf-c0aa-484f-9b0e-ebfa55d72fbb",
   "metadata": {},
   "source": [
    "# Avent of Code 2024 - J1"
   ]
  },
  {
   "cell_type": "code",
   "execution_count": 51,
   "id": "defa7b0a-5fdc-49d2-a6f6-f96cf0dc09d2",
   "metadata": {},
   "outputs": [],
   "source": [
    "def read_input(kind):\n",
    "    assert kind in ('input', 'example'), '\"kind\" must be \"input\" or \"example\"'\n",
    "    left = []\n",
    "    right = []\n",
    "    with open(kind) as f:\n",
    "        for line in f :\n",
    "            l, r = line.strip().split('   ')\n",
    "            left.append(int(l))\n",
    "            right.append(int(r))\n",
    "    assert len(left) == len(right)\n",
    "    return left, right"
   ]
  },
  {
   "cell_type": "markdown",
   "id": "512a352e-e421-4a8d-b74c-ab5899d9bbf7",
   "metadata": {},
   "source": [
    "## First part"
   ]
  },
  {
   "cell_type": "code",
   "execution_count": 49,
   "id": "97ac4716-5437-41a4-b5d2-680a0222f641",
   "metadata": {},
   "outputs": [],
   "source": [
    "def first_part(left, right):\n",
    "    s = 0\n",
    "    for i in range(len(left)):\n",
    "        s += abs(sorted(left)[i] - sorted(right)[i])\n",
    "    return s"
   ]
  },
  {
   "cell_type": "code",
   "execution_count": 50,
   "id": "886a07af-e200-4d98-9a4f-ec246672c5b0",
   "metadata": {},
   "outputs": [
    {
     "ename": "AssertionError",
     "evalue": "\"kind\" must be \"input\" or \"example\"",
     "output_type": "error",
     "traceback": [
      "\u001b[0;31m---------------------------------------------------------------------------\u001b[0m",
      "\u001b[0;31mAssertionError\u001b[0m                            Traceback (most recent call last)",
      "Cell \u001b[0;32mIn[50], line 1\u001b[0m\n\u001b[0;32m----> 1\u001b[0m left, right \u001b[38;5;241m=\u001b[39m \u001b[43mread_input\u001b[49m\u001b[43m(\u001b[49m\u001b[38;5;124;43m'\u001b[39;49m\u001b[38;5;124;43mexemple\u001b[39;49m\u001b[38;5;124;43m'\u001b[39;49m\u001b[43m)\u001b[49m\n\u001b[1;32m      2\u001b[0m first_part(left, right)\n",
      "Cell \u001b[0;32mIn[48], line 3\u001b[0m, in \u001b[0;36mread_input\u001b[0;34m(kind)\u001b[0m\n\u001b[1;32m      1\u001b[0m \u001b[38;5;28;01mdef\u001b[39;00m \u001b[38;5;21mread_input\u001b[39m(kind):\n\u001b[1;32m      2\u001b[0m     \u001b[38;5;66;03m# \"kind\" must be \"input\" or \"example\"\u001b[39;00m\n\u001b[0;32m----> 3\u001b[0m     \u001b[38;5;28;01massert\u001b[39;00m kind \u001b[38;5;129;01min\u001b[39;00m (\u001b[38;5;124m'\u001b[39m\u001b[38;5;124minput\u001b[39m\u001b[38;5;124m'\u001b[39m, \u001b[38;5;124m'\u001b[39m\u001b[38;5;124mexample\u001b[39m\u001b[38;5;124m'\u001b[39m), \u001b[38;5;124m'\u001b[39m\u001b[38;5;124m\"\u001b[39m\u001b[38;5;124mkind\u001b[39m\u001b[38;5;124m\"\u001b[39m\u001b[38;5;124m must be \u001b[39m\u001b[38;5;124m\"\u001b[39m\u001b[38;5;124minput\u001b[39m\u001b[38;5;124m\"\u001b[39m\u001b[38;5;124m or \u001b[39m\u001b[38;5;124m\"\u001b[39m\u001b[38;5;124mexample\u001b[39m\u001b[38;5;124m\"\u001b[39m\u001b[38;5;124m'\u001b[39m\n\u001b[1;32m      4\u001b[0m     left \u001b[38;5;241m=\u001b[39m []\n\u001b[1;32m      5\u001b[0m     right \u001b[38;5;241m=\u001b[39m []\n",
      "\u001b[0;31mAssertionError\u001b[0m: \"kind\" must be \"input\" or \"example\""
     ]
    }
   ],
   "source": [
    "left, right = read_input('exemple')\n",
    "first_part(left, right)"
   ]
  },
  {
   "cell_type": "code",
   "execution_count": 43,
   "id": "c61af0ef-bd40-44a8-ba4c-3c3197949a25",
   "metadata": {},
   "outputs": [
    {
     "data": {
      "text/plain": [
       "1222801"
      ]
     },
     "execution_count": 43,
     "metadata": {},
     "output_type": "execute_result"
    }
   ],
   "source": [
    "left, right = read_input('input')\n",
    "first_part(left, right)"
   ]
  },
  {
   "cell_type": "markdown",
   "id": "ad034fd7-678a-4072-90f1-8513b7e0f07c",
   "metadata": {},
   "source": [
    "## Second part"
   ]
  },
  {
   "cell_type": "code",
   "execution_count": null,
   "id": "9660feb9-95cf-4815-a89a-73ac7fcbf136",
   "metadata": {},
   "outputs": [],
   "source": []
  }
 ],
 "metadata": {
  "kernelspec": {
   "display_name": "Python 3 (ipykernel)",
   "language": "python",
   "name": "python3"
  },
  "language_info": {
   "codemirror_mode": {
    "name": "ipython",
    "version": 3
   },
   "file_extension": ".py",
   "mimetype": "text/x-python",
   "name": "python",
   "nbconvert_exporter": "python",
   "pygments_lexer": "ipython3",
   "version": "3.9.13"
  }
 },
 "nbformat": 4,
 "nbformat_minor": 5
}
