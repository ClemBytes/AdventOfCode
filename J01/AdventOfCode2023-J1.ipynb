{
 "cells": [
  {
   "cell_type": "markdown",
   "id": "1d6657a0",
   "metadata": {},
   "source": [
    "# Lecture des données"
   ]
  },
  {
   "cell_type": "markdown",
   "id": "4d962a90",
   "metadata": {},
   "source": [
    "# Act ONE"
   ]
  },
  {
   "cell_type": "code",
   "execution_count": 1,
   "id": "ab4c85f4",
   "metadata": {},
   "outputs": [],
   "source": [
    "def read_input(kind):\n",
    "    # \"kind\" must be \"input\" or \"exemple\"\n",
    "    digits = []\n",
    "    with open(f\"/home/linaewen/Documents/PYTHON/AdventOfCode2023/J01/{kind}\") as f:\n",
    "        for line in f :\n",
    "            new_n = []\n",
    "            for car in line:\n",
    "                if car.isdigit():\n",
    "                    new_n.append(car)\n",
    "            digits.append(new_n)\n",
    "    return digits"
   ]
  },
  {
   "cell_type": "code",
   "execution_count": 2,
   "id": "5df6e83f",
   "metadata": {},
   "outputs": [],
   "source": [
    "digits = read_input('input')"
   ]
  },
  {
   "cell_type": "code",
   "execution_count": 3,
   "id": "43c01bf9",
   "metadata": {},
   "outputs": [],
   "source": [
    "def get_numbers_from_digits(digits):\n",
    "    numbers = []\n",
    "    for dig in digits:\n",
    "        numbers.append(int(dig[0] + dig[-1]))\n",
    "    return numbers"
   ]
  },
  {
   "cell_type": "code",
   "execution_count": 4,
   "id": "efd60529",
   "metadata": {},
   "outputs": [
    {
     "name": "stdout",
     "output_type": "stream",
     "text": [
      "53194\n"
     ]
    }
   ],
   "source": [
    "print(sum(get_numbers_from_digits(read_input('input'))))"
   ]
  },
  {
   "cell_type": "markdown",
   "id": "51cf67da",
   "metadata": {},
   "source": [
    "# Act TWO"
   ]
  },
  {
   "cell_type": "code",
   "execution_count": 5,
   "id": "49c1e006",
   "metadata": {},
   "outputs": [],
   "source": [
    "lettered_digits = {\n",
    "    'one': 'o1e',\n",
    "    'two': 't2o',\n",
    "    'three': 'th3ee',\n",
    "    'four': 'f4ur',\n",
    "    'five': 'f5ve',\n",
    "    'six': 's6x',\n",
    "    'seven': 'se7en',\n",
    "    'eight': 'ei8ht',\n",
    "    'nine': 'ni9e',\n",
    "}\n",
    "\n",
    "def read_input_bis(kind):\n",
    "    # \"kind\" must be \"input\" or \"exemple\"\n",
    "    digits = []\n",
    "    with open(f\"/home/linaewen/Documents/PYTHON/AdventOfCode2023/J1/{kind}\") as f:\n",
    "        for line in f :\n",
    "            new_line = line\n",
    "            for word in lettered_digits.keys():\n",
    "                new_line = new_line.replace(word, lettered_digits[word])\n",
    "            new_n = []\n",
    "            for car in new_line:\n",
    "                if car.isdigit():\n",
    "                    new_n.append(car)\n",
    "            digits.append(new_n)\n",
    "    return digits"
   ]
  },
  {
   "cell_type": "code",
   "execution_count": 6,
   "id": "71274c77",
   "metadata": {},
   "outputs": [],
   "source": [
    "digits = read_input_bis('exemple2')"
   ]
  },
  {
   "cell_type": "code",
   "execution_count": 7,
   "id": "c3e324d6",
   "metadata": {},
   "outputs": [
    {
     "name": "stdout",
     "output_type": "stream",
     "text": [
      "54249\n"
     ]
    }
   ],
   "source": [
    "print(sum(get_numbers_from_digits(read_input_bis('input'))))"
   ]
  }
 ],
 "metadata": {
  "kernelspec": {
   "display_name": "Python 3 (ipykernel)",
   "language": "python",
   "name": "python3"
  },
  "language_info": {
   "codemirror_mode": {
    "name": "ipython",
    "version": 3
   },
   "file_extension": ".py",
   "mimetype": "text/x-python",
   "name": "python",
   "nbconvert_exporter": "python",
   "pygments_lexer": "ipython3",
   "version": "3.9.13"
  }
 },
 "nbformat": 4,
 "nbformat_minor": 5
}
