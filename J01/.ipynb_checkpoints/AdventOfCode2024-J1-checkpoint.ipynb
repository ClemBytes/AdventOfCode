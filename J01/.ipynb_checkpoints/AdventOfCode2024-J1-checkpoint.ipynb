{
 "cells": [
  {
   "cell_type": "markdown",
   "id": "9d642fdf-c0aa-484f-9b0e-ebfa55d72fbb",
   "metadata": {},
   "source": [
    "# Avent of Code 2024 - J1"
   ]
  },
  {
   "cell_type": "code",
   "execution_count": null,
   "id": "defa7b0a-5fdc-49d2-a6f6-f96cf0dc09d2",
   "metadata": {},
   "outputs": [],
   "source": [
    "def read_input(kind):\n",
    "    # \"kind\" must be \"input\" or \"exemple\"\n",
    "    \n",
    "    with open(f\"/home/linaewen/Documents/PYTHON/AdventOfCode2024/J01/{kind}\") as f:\n",
    "        for line in f :\n",
    "            \n",
    "    return "
   ]
  }
 ],
 "metadata": {
  "kernelspec": {
   "display_name": "Python 3 (ipykernel)",
   "language": "python",
   "name": "python3"
  },
  "language_info": {
   "codemirror_mode": {
    "name": "ipython",
    "version": 3
   },
   "file_extension": ".py",
   "mimetype": "text/x-python",
   "name": "python",
   "nbconvert_exporter": "python",
   "pygments_lexer": "ipython3",
   "version": "3.9.13"
  }
 },
 "nbformat": 4,
 "nbformat_minor": 5
}
