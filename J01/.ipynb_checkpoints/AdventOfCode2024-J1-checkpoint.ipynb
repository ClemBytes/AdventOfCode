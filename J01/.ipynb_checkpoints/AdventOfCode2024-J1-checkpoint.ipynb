{
 "cells": [
  {
   "cell_type": "markdown",
   "id": "9d642fdf-c0aa-484f-9b0e-ebfa55d72fbb",
   "metadata": {},
   "source": [
    "# Avent of Code 2024 - J1"
   ]
  },
  {
   "cell_type": "code",
   "execution_count": 40,
   "id": "defa7b0a-5fdc-49d2-a6f6-f96cf0dc09d2",
   "metadata": {},
   "outputs": [],
   "source": [
    "def read_input(kind):\n",
    "    # \"kind\" must be \"input\" or \"example\"\n",
    "    left = []\n",
    "    right = []\n",
    "    with open(kind) as f:\n",
    "        for line in f :\n",
    "            l, r = line.strip().split('   ')\n",
    "            left.append(int(l))\n",
    "            right.append(int(r))\n",
    "    return left, right"
   ]
  },
  {
   "cell_type": "markdown",
   "id": "512a352e-e421-4a8d-b74c-ab5899d9bbf7",
   "metadata": {},
   "source": [
    "## First part"
   ]
  },
  {
   "cell_type": "code",
   "execution_count": 41,
   "id": "97ac4716-5437-41a4-b5d2-680a0222f641",
   "metadata": {},
   "outputs": [],
   "source": [
    "def first_part(left, right):\n",
    "    s = 0\n",
    "    for i in range(len(left)):\n",
    "        s += abs(sorted(left)[i] - sorted(right)[i])\n",
    "    return s"
   ]
  },
  {
   "cell_type": "code",
   "execution_count": 42,
   "id": "886a07af-e200-4d98-9a4f-ec246672c5b0",
   "metadata": {},
   "outputs": [
    {
     "data": {
      "text/plain": [
       "11"
      ]
     },
     "execution_count": 42,
     "metadata": {},
     "output_type": "execute_result"
    }
   ],
   "source": [
    "left, right = read_input('example')\n",
    "first_part(left, right)"
   ]
  },
  {
   "cell_type": "code",
   "execution_count": 43,
   "id": "c61af0ef-bd40-44a8-ba4c-3c3197949a25",
   "metadata": {},
   "outputs": [
    {
     "data": {
      "text/plain": [
       "1222801"
      ]
     },
     "execution_count": 43,
     "metadata": {},
     "output_type": "execute_result"
    }
   ],
   "source": [
    "left, right = read_input('input')\n",
    "first_part(left, right)"
   ]
  },
  {
   "cell_type": "markdown",
   "id": "ad034fd7-678a-4072-90f1-8513b7e0f07c",
   "metadata": {},
   "source": [
    "## Second part"
   ]
  },
  {
   "cell_type": "code",
   "execution_count": null,
   "id": "9660feb9-95cf-4815-a89a-73ac7fcbf136",
   "metadata": {},
   "outputs": [],
   "source": []
  }
 ],
 "metadata": {
  "kernelspec": {
   "display_name": "Python 3 (ipykernel)",
   "language": "python",
   "name": "python3"
  },
  "language_info": {
   "codemirror_mode": {
    "name": "ipython",
    "version": 3
   },
   "file_extension": ".py",
   "mimetype": "text/x-python",
   "name": "python",
   "nbconvert_exporter": "python",
   "pygments_lexer": "ipython3",
   "version": "3.9.13"
  }
 },
 "nbformat": 4,
 "nbformat_minor": 5
}
