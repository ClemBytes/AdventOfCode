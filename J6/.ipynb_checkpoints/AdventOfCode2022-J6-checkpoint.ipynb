{
 "cells": [
  {
   "cell_type": "markdown",
   "id": "4bece199",
   "metadata": {},
   "source": [
    "# Lecture des données"
   ]
  },
  {
   "cell_type": "code",
   "execution_count": 1,
   "id": "775c6e7a",
   "metadata": {},
   "outputs": [],
   "source": [
    "examples = [\n",
    "    ['mjqjpqmgbljsphdztnvjfqwrcgsmlb', 7, 19],\n",
    "    ['bvwbjplbgvbhsrlpgdmjqwftvncz', 5, 23],\n",
    "    ['nppdvjthqldpwncqszvftbrmjlhg', 6, 23],\n",
    "    ['nznrnfrfntjfmvfwmzdfjlvtqnbhcprsg', 10, 29],\n",
    "    ['zcfzfwzzqfrljwzlrfnpqdbhtmscgvjw', 11, 26]\n",
    "]"
   ]
  },
  {
   "cell_type": "code",
   "execution_count": 2,
   "id": "1a4692d4",
   "metadata": {},
   "outputs": [],
   "source": [
    "def read_input():\n",
    "    commands = []\n",
    "    with open(f\"/home/linaewen/Documents/PYTHON/AdventOfCode2022/J6/input\") as f:\n",
    "        for line in f :\n",
    "            data = line.strip()\n",
    "    return data"
   ]
  },
  {
   "cell_type": "markdown",
   "id": "17126679",
   "metadata": {},
   "source": [
    "# Act ONE"
   ]
  },
  {
   "cell_type": "code",
   "execution_count": 3,
   "id": "555b110b",
   "metadata": {},
   "outputs": [],
   "source": [
    "def find_marker(data):\n",
    "    for i in range(3, len(data)):\n",
    "        last_four = data[i-3:i+1]\n",
    "        if len(set(last_four)) == 4:\n",
    "            return i + 1"
   ]
  },
  {
   "cell_type": "code",
   "execution_count": 4,
   "id": "141d2df9",
   "metadata": {},
   "outputs": [],
   "source": [
    "def act_one_examples(examples):\n",
    "    for example in examples:\n",
    "        if find_marker(example[0]) != example[1]:\n",
    "            return False\n",
    "    return True"
   ]
  },
  {
   "cell_type": "code",
   "execution_count": 5,
   "id": "ba629a28",
   "metadata": {},
   "outputs": [
    {
     "data": {
      "text/plain": [
       "True"
      ]
     },
     "execution_count": 5,
     "metadata": {},
     "output_type": "execute_result"
    }
   ],
   "source": [
    "act_one_examples(examples)"
   ]
  },
  {
   "cell_type": "code",
   "execution_count": 6,
   "id": "9a84ab8a",
   "metadata": {},
   "outputs": [
    {
     "data": {
      "text/plain": [
       "1598"
      ]
     },
     "execution_count": 6,
     "metadata": {},
     "output_type": "execute_result"
    }
   ],
   "source": [
    "find_marker(read_input())"
   ]
  },
  {
   "cell_type": "markdown",
   "id": "a25bf540",
   "metadata": {},
   "source": [
    "# Act TWO"
   ]
  },
  {
   "cell_type": "code",
   "execution_count": 7,
   "id": "144db956",
   "metadata": {},
   "outputs": [],
   "source": [
    "def find_message(data):\n",
    "    for i in range(13, len(data)):\n",
    "        last_fourteen = data[i-13:i+1]\n",
    "        if len(set(last_fourteen)) == 14:\n",
    "            return i + 1"
   ]
  },
  {
   "cell_type": "code",
   "execution_count": 8,
   "id": "5b45b46a",
   "metadata": {},
   "outputs": [],
   "source": [
    "def act_two_examples(examples):\n",
    "    for example in examples:\n",
    "        if find_message(example[0]) != example[2]:\n",
    "            return False\n",
    "    return True"
   ]
  },
  {
   "cell_type": "code",
   "execution_count": 9,
   "id": "64c9de9f",
   "metadata": {},
   "outputs": [
    {
     "data": {
      "text/plain": [
       "True"
      ]
     },
     "execution_count": 9,
     "metadata": {},
     "output_type": "execute_result"
    }
   ],
   "source": [
    "act_two_examples(examples)"
   ]
  },
  {
   "cell_type": "code",
   "execution_count": 10,
   "id": "64ff9c74",
   "metadata": {},
   "outputs": [
    {
     "data": {
      "text/plain": [
       "2414"
      ]
     },
     "execution_count": 10,
     "metadata": {},
     "output_type": "execute_result"
    }
   ],
   "source": [
    "find_message(read_input())"
   ]
  },
  {
   "cell_type": "code",
   "execution_count": null,
   "id": "dfd54015",
   "metadata": {},
   "outputs": [],
   "source": []
  }
 ],
 "metadata": {
  "kernelspec": {
   "display_name": "Python 3 (ipykernel)",
   "language": "python",
   "name": "python3"
  },
  "language_info": {
   "codemirror_mode": {
    "name": "ipython",
    "version": 3
   },
   "file_extension": ".py",
   "mimetype": "text/x-python",
   "name": "python",
   "nbconvert_exporter": "python",
   "pygments_lexer": "ipython3",
   "version": "3.9.13"
  }
 },
 "nbformat": 4,
 "nbformat_minor": 5
}
