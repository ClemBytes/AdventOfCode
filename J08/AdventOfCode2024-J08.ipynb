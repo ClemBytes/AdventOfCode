{
 "cells": [
  {
   "cell_type": "markdown",
   "id": "2487dcf7-5ccb-4f46-aa60-4972f4cfd936",
   "metadata": {},
   "source": [
    "# Advent of Code 2024 - J08"
   ]
  },
  {
   "cell_type": "code",
   "execution_count": 1,
   "id": "b82e2ee1-40f1-4259-8a74-ba6d1feb0080",
   "metadata": {},
   "outputs": [],
   "source": [
    "def read_input(kind):\n",
    "    assert kind in ('input', 'example'), '\"kind\" must be \"input\" or \"example\"'\n",
    "    imap = []\n",
    "    with open(kind) as f:\n",
    "        for line in f:\n",
    "            imap.append(list(line.strip()))\n",
    "    l = len(imap[0])\n",
    "    assert all(len(line) == l for line in imap), 'all lines should be the same length'\n",
    "    return imap"
   ]
  },
  {
   "cell_type": "code",
   "execution_count": 2,
   "id": "4ed956a3-e238-4d02-90ef-3ec0683e5ace",
   "metadata": {},
   "outputs": [],
   "source": [
    "emap = read_input(\"example\")"
   ]
  },
  {
   "cell_type": "code",
   "execution_count": 3,
   "id": "dcb85d00-2abe-405d-b1ff-64827ae7b79b",
   "metadata": {},
   "outputs": [],
   "source": [
    "def print_map(imap):\n",
    "    for line in imap:\n",
    "        nl = ''\n",
    "        for car in line:\n",
    "            nl += car\n",
    "        print(nl)"
   ]
  },
  {
   "cell_type": "code",
   "execution_count": 4,
   "id": "0c2b05bf-f190-444b-8f59-268ff4cdab1d",
   "metadata": {},
   "outputs": [
    {
     "name": "stdout",
     "output_type": "stream",
     "text": [
      "............\n",
      "........0...\n",
      ".....0......\n",
      ".......0....\n",
      "....0.......\n",
      "......A.....\n",
      "............\n",
      "............\n",
      "........A...\n",
      ".........A..\n",
      "............\n",
      "............\n"
     ]
    }
   ],
   "source": [
    "print_map(emap)"
   ]
  },
  {
   "cell_type": "markdown",
   "id": "ca112f14-4835-4758-b9de-feb1fb77cfb2",
   "metadata": {},
   "source": [
    "## First part"
   ]
  },
  {
   "cell_type": "code",
   "execution_count": null,
   "id": "fd7bb79b-d1a9-4ca5-af6a-fd4d1efe2494",
   "metadata": {},
   "outputs": [],
   "source": []
  }
 ],
 "metadata": {
  "kernelspec": {
   "display_name": "Python 3 (ipykernel)",
   "language": "python",
   "name": "python3"
  },
  "language_info": {
   "codemirror_mode": {
    "name": "ipython",
    "version": 3
   },
   "file_extension": ".py",
   "mimetype": "text/x-python",
   "name": "python",
   "nbconvert_exporter": "python",
   "pygments_lexer": "ipython3",
   "version": "3.9.13"
  }
 },
 "nbformat": 4,
 "nbformat_minor": 5
}
