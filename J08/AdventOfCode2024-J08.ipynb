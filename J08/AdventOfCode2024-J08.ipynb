{
 "cells": [
  {
   "cell_type": "markdown",
   "id": "2487dcf7-5ccb-4f46-aa60-4972f4cfd936",
   "metadata": {},
   "source": [
    "# Advent of Code 2024 - J08"
   ]
  },
  {
   "cell_type": "code",
   "execution_count": 1,
   "id": "b82e2ee1-40f1-4259-8a74-ba6d1feb0080",
   "metadata": {},
   "outputs": [],
   "source": [
    "def read_input(kind):\n",
    "    assert kind in ('input', 'example'), '\"kind\" must be \"input\" or \"example\"'\n",
    "    imap = []\n",
    "    with open(kind) as f:\n",
    "        for line in f:\n",
    "            imap.append(list(line.strip()))\n",
    "    l = len(imap[0])\n",
    "    assert all(len(line) == l for line in imap), 'all lines should be the same length'\n",
    "    return imap"
   ]
  },
  {
   "cell_type": "code",
   "execution_count": 2,
   "id": "4ed956a3-e238-4d02-90ef-3ec0683e5ace",
   "metadata": {},
   "outputs": [],
   "source": [
    "emap = read_input(\"example\")"
   ]
  },
  {
   "cell_type": "code",
   "execution_count": 3,
   "id": "dcb85d00-2abe-405d-b1ff-64827ae7b79b",
   "metadata": {},
   "outputs": [],
   "source": [
    "def print_map(imap):\n",
    "    for line in imap:\n",
    "        nl = ''\n",
    "        for car in line:\n",
    "            nl += car\n",
    "        print(nl)"
   ]
  },
  {
   "cell_type": "code",
   "execution_count": 4,
   "id": "0c2b05bf-f190-444b-8f59-268ff4cdab1d",
   "metadata": {},
   "outputs": [
    {
     "name": "stdout",
     "output_type": "stream",
     "text": [
      "............\n",
      "........0...\n",
      ".....0......\n",
      ".......0....\n",
      "....0.......\n",
      "......A.....\n",
      "............\n",
      "............\n",
      "........A...\n",
      ".........A..\n",
      "............\n",
      "............\n"
     ]
    }
   ],
   "source": [
    "print_map(emap)"
   ]
  },
  {
   "cell_type": "markdown",
   "id": "ca112f14-4835-4758-b9de-feb1fb77cfb2",
   "metadata": {},
   "source": [
    "## First part"
   ]
  },
  {
   "cell_type": "code",
   "execution_count": 5,
   "id": "fd7bb79b-d1a9-4ca5-af6a-fd4d1efe2494",
   "metadata": {},
   "outputs": [],
   "source": [
    "def get_antennas(imap):\n",
    "    antennas = {}\n",
    "    for y, line in enumerate(imap):\n",
    "        for x, car in enumerate(line):\n",
    "            if car != '.':\n",
    "                if car not in antennas.keys():\n",
    "                    antennas[car] = [(y, x)]\n",
    "                else:\n",
    "                    antennas[car].append((y, x))\n",
    "    return antennas"
   ]
  },
  {
   "cell_type": "code",
   "execution_count": 6,
   "id": "2d1e4b9c-b4da-4b69-b1e2-fc8988fbbc2c",
   "metadata": {},
   "outputs": [
    {
     "data": {
      "text/plain": [
       "{'0': [(1, 8), (2, 5), (3, 7), (4, 4)], 'A': [(5, 6), (8, 8), (9, 9)]}"
      ]
     },
     "execution_count": 6,
     "metadata": {},
     "output_type": "execute_result"
    }
   ],
   "source": [
    "get_antennas(emap)"
   ]
  },
  {
   "cell_type": "code",
   "execution_count": 7,
   "id": "e6885538-4655-4e3d-acf9-b7501272253e",
   "metadata": {},
   "outputs": [],
   "source": [
    "def print_antinodes(imap, antinodes):\n",
    "    new_map = []\n",
    "    for y, line in enumerate(imap):\n",
    "        new_line = []\n",
    "        for x, car in enumerate(line):\n",
    "            if car == '.':\n",
    "                if (y, x) in antinodes:\n",
    "                    new_line.append('#')\n",
    "                else:\n",
    "                    new_line.append('.')\n",
    "            else:\n",
    "                new_line.append(car)\n",
    "        new_map.append(new_line)\n",
    "    print_map(new_map)"
   ]
  },
  {
   "cell_type": "code",
   "execution_count": 8,
   "id": "3c3e7b51-6637-4e6c-9a07-881036bcf32b",
   "metadata": {},
   "outputs": [],
   "source": [
    "from itertools import permutations\n",
    "\n",
    "def first_part(kind):\n",
    "    imap = read_input(kind)\n",
    "    antennas = get_antennas(imap)\n",
    "    nb_lines = len(imap)\n",
    "    nb_cols = len(imap[0])\n",
    "    real_antinodes = set()\n",
    "    for freq in antennas.keys():\n",
    "        for duo in permutations(antennas[freq]):\n",
    "            a = duo[0] # first antenna\n",
    "            b = duo[1] # second antenna\n",
    "            dy = a[0] - b[0]\n",
    "            dx = a[1] - b[1]\n",
    "            antinode = (a[0] + dy, a[1] + dx) # The other antinode will be found when getting the opposite permutation (b, a) instead of (a, b)\n",
    "            # Check if the antinode is in the grid:\n",
    "            if (0 <= antinode[0] < nb_lines) and (0 <=antinode[1] < nb_cols):\n",
    "                real_antinodes.add(antinode)\n",
    "    # print_map(imap)\n",
    "    # print('\\n')\n",
    "    # print_antinodes(imap, real_antinodes)\n",
    "    return len(real_antinodes)"
   ]
  },
  {
   "cell_type": "code",
   "execution_count": 9,
   "id": "665ca48e-3571-4b92-ac56-66f6612624be",
   "metadata": {},
   "outputs": [
    {
     "data": {
      "text/plain": [
       "14"
      ]
     },
     "execution_count": 9,
     "metadata": {},
     "output_type": "execute_result"
    }
   ],
   "source": [
    "first_part(\"example\")"
   ]
  },
  {
   "cell_type": "code",
   "execution_count": 10,
   "id": "92b20f5a-43a0-4f1f-9bca-d8734ac1ec5d",
   "metadata": {},
   "outputs": [
    {
     "data": {
      "text/plain": [
       "261"
      ]
     },
     "execution_count": 10,
     "metadata": {},
     "output_type": "execute_result"
    }
   ],
   "source": [
    "first_part(\"input\")"
   ]
  }
 ],
 "metadata": {
  "kernelspec": {
   "display_name": "Python 3 (ipykernel)",
   "language": "python",
   "name": "python3"
  },
  "language_info": {
   "codemirror_mode": {
    "name": "ipython",
    "version": 3
   },
   "file_extension": ".py",
   "mimetype": "text/x-python",
   "name": "python",
   "nbconvert_exporter": "python",
   "pygments_lexer": "ipython3",
   "version": "3.9.13"
  }
 },
 "nbformat": 4,
 "nbformat_minor": 5
}
