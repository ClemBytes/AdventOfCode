{
 "cells": [
  {
   "cell_type": "markdown",
   "id": "f5292928",
   "metadata": {},
   "source": [
    "# Read data"
   ]
  },
  {
   "cell_type": "code",
   "execution_count": 1,
   "id": "bf946b4a",
   "metadata": {},
   "outputs": [],
   "source": [
    "def read_input(kind):\n",
    "    # \"kind\" must be \"input\" or \"exemple\"\n",
    "    with open(f\"/home/linaewen/Documents/PYTHON/AdventOfCode2023/J13/{kind}\") as f:\n",
    "        patterns = [[]]\n",
    "        nb_patterns = 0\n",
    "        for line in f :\n",
    "            row = line.strip()\n",
    "            if row:\n",
    "                patterns[nb_patterns].append(row)\n",
    "            else:\n",
    "                nb_patterns += 1\n",
    "                patterns.append([])\n",
    "    return patterns"
   ]
  },
  {
   "cell_type": "code",
   "execution_count": 2,
   "id": "74de98d4",
   "metadata": {},
   "outputs": [
    {
     "name": "stdout",
     "output_type": "stream",
     "text": [
      "[['#.##..##.', '..#.##.#.', '##......#', '##......#', '..#.##.#.', '..##..##.', '#.#.##.#.'], ['#...##..#', '#....#..#', '..##..###', '#####.##.', '#####.##.', '..##..###', '#....#..#']]\n"
     ]
    }
   ],
   "source": [
    "print(read_input(\"exemple\"))"
   ]
  },
  {
   "cell_type": "markdown",
   "id": "3f761519",
   "metadata": {},
   "source": [
    "# Act ONE"
   ]
  },
  {
   "cell_type": "code",
   "execution_count": 42,
   "id": "c4fb2461",
   "metadata": {},
   "outputs": [
    {
     "name": "stdout",
     "output_type": "stream",
     "text": [
      "405\n",
      "31739\n"
     ]
    }
   ],
   "source": [
    "def test_equal_rows(pattern, r0, r1):\n",
    "    # Tests if row n°0 and row n°1 in the pattern are equals\n",
    "    return pattern[r0] == pattern[r1]\n",
    "\n",
    "\n",
    "def test_equal_cols(pattern, c0, c1):\n",
    "    # Tests if column n°0 and column n°1 in the pattern are equals\n",
    "    # return all(row[c0] == row[c1] for row in pattern)\n",
    "    for row in pattern:\n",
    "        if row[c0] != row[c1]:\n",
    "            return False\n",
    "    return True\n",
    "\n",
    "\n",
    "def find_horizontal_reflexion(pattern):\n",
    "    # Find 2 identical lines next to each other\n",
    "    nb_rows = len(pattern)\n",
    "    for i in range(nb_rows - 1):\n",
    "        if test_equal_rows(pattern, i, i + 1):\n",
    "            # Then test reflexion\n",
    "            reflexion = True\n",
    "            for j in range(1, min(i, nb_rows - i - 2) + 1):\n",
    "                if not test_equal_rows(pattern, i - j, i + j + 1):\n",
    "                    reflexion = False\n",
    "                    break\n",
    "            if not reflexion:\n",
    "                continue\n",
    "            else:\n",
    "                return i\n",
    "    return None\n",
    "\n",
    "\n",
    "def find_vertical_reflexion(pattern):\n",
    "    # Find 2 identical columns next to each other\n",
    "    nb_cols = len(pattern[0])\n",
    "    for i in range(nb_cols - 1):\n",
    "        if test_equal_cols(pattern, i, i + 1):\n",
    "            # Then test reflexion\n",
    "            reflexion = True\n",
    "            r = range(1, min(i, nb_cols - i - 2) + 1)\n",
    "            for j in r:\n",
    "                if not(test_equal_cols(pattern, i - j, i + j + 1)):\n",
    "                    reflexion = False\n",
    "                    break\n",
    "            if not(reflexion):\n",
    "                continue\n",
    "            else:\n",
    "                return i\n",
    "    return None\n",
    "\n",
    "\n",
    "def act_one(kind):\n",
    "    patterns = read_input(kind)\n",
    "    result = 0\n",
    "    for pattern in patterns:\n",
    "        horizontal_reflexion = find_horizontal_reflexion(pattern)\n",
    "        if horizontal_reflexion is not None:\n",
    "            result += 100 * (horizontal_reflexion + 1)\n",
    "        else:\n",
    "            vertical_reflexion = find_vertical_reflexion(pattern)\n",
    "            assert vertical_reflexion is not None\n",
    "            result += vertical_reflexion + 1\n",
    "    return result\n",
    "    \n",
    "print(act_one(\"exemple\"))\n",
    "print(act_one(\"input\"))"
   ]
  },
  {
   "cell_type": "markdown",
   "id": "c28eeb58",
   "metadata": {},
   "source": [
    "# Act TWO"
   ]
  },
  {
   "cell_type": "raw",
   "id": "73592e2b",
   "metadata": {},
   "source": [
    "def count_differences_rows(pattern, r0, r1):\n",
    "    l0 = pattern[r0]\n",
    "    l1 = pattern[r1]\n",
    "    nb = 0\n",
    "    for i in range(len(l0)):\n",
    "        if l0[i] != l1[i]:\n",
    "            nb += 1\n",
    "    return nb\n",
    "\n",
    "\n",
    "def count_differences_cols(pattern, c0, c1):\n",
    "    nb = 0\n",
    "    for i in range(len(pattern)):\n",
    "        if row[c0][i] != row[c1][i]:\n",
    "            nb += 1\n",
    "    return nb\n",
    "\n",
    "\n",
    "def find_horizontal_reflexion(pattern):\n",
    "    # Find 2 identical lines next to each other\n",
    "    nb_rows = len(pattern)\n",
    "    for i in range(nb_rows - 1):\n",
    "        if test_equal_rows(pattern, i, i + 1):\n",
    "            # Then test reflexion\n",
    "            reflexion = True\n",
    "            for j in range(1, min(i, nb_rows - i - 2) + 1):\n",
    "                if not test_equal_rows(pattern, i - j, i + j + 1):\n",
    "                    reflexion = False\n",
    "                    break\n",
    "            if not reflexion:\n",
    "                continue\n",
    "            else:\n",
    "                return i\n",
    "    return None\n",
    "\n",
    "\n",
    "def find_vertical_reflexion(pattern):\n",
    "    # Find 2 identical columns next to each other\n",
    "    nb_cols = len(pattern[0])\n",
    "    for i in range(nb_cols - 1):\n",
    "        if test_equal_cols(pattern, i, i + 1):\n",
    "            # Then test reflexion\n",
    "            reflexion = True\n",
    "            r = range(1, min(i, nb_cols - i - 2) + 1)\n",
    "            for j in r:\n",
    "                if not(test_equal_cols(pattern, i - j, i + j + 1)):\n",
    "                    reflexion = False\n",
    "                    break\n",
    "            if not(reflexion):\n",
    "                continue\n",
    "            else:\n",
    "                return i\n",
    "    return None\n",
    "\n",
    "\n",
    "def act_one(kind):\n",
    "    patterns = read_input(kind)\n",
    "    result = 0\n",
    "    for pattern in patterns:\n",
    "        horizontal_reflexion = find_horizontal_reflexion(pattern)\n",
    "        if horizontal_reflexion is not None:\n",
    "            result += 100 * (horizontal_reflexion + 1)\n",
    "        else:\n",
    "            vertical_reflexion = find_vertical_reflexion(pattern)\n",
    "            assert vertical_reflexion is not None\n",
    "            result += vertical_reflexion + 1\n",
    "    return result\n",
    "    \n",
    "print(act_one(\"exemple\"))\n",
    "print(act_one(\"input\"))"
   ]
  },
  {
   "cell_type": "code",
   "execution_count": 44,
   "id": "b0f7882f",
   "metadata": {},
   "outputs": [
    {
     "name": "stdout",
     "output_type": "stream",
     "text": [
      "405\n",
      "31739\n"
     ]
    }
   ],
   "source": [
    "def act_two(kind):\n",
    "    patterns = read_input(kind)\n",
    "    result = 0\n",
    "    for pattern in patterns:\n",
    "        for l, line in enumerate(pattern):\n",
    "            for c, col in enumerate(line):\n",
    "                np = pattern.copy()\n",
    "                if np[]\n",
    "        horizontal_reflexion = find_horizontal_reflexion(pattern)\n",
    "        if horizontal_reflexion is not None:\n",
    "            result += 100 * (horizontal_reflexion + 1)\n",
    "        else:\n",
    "            vertical_reflexion = find_vertical_reflexion(pattern)\n",
    "            assert vertical_reflexion is not None\n",
    "            result += vertical_reflexion + 1\n",
    "    return result\n",
    "    \n",
    "print(act_two(\"exemple\"))\n",
    "print(act_two(\"input\"))"
   ]
  },
  {
   "cell_type": "code",
   "execution_count": null,
   "id": "8b86ff25",
   "metadata": {},
   "outputs": [],
   "source": []
  }
 ],
 "metadata": {
  "kernelspec": {
   "display_name": "Python 3 (ipykernel)",
   "language": "python",
   "name": "python3"
  },
  "language_info": {
   "codemirror_mode": {
    "name": "ipython",
    "version": 3
   },
   "file_extension": ".py",
   "mimetype": "text/x-python",
   "name": "python",
   "nbconvert_exporter": "python",
   "pygments_lexer": "ipython3",
   "version": "3.9.13"
  }
 },
 "nbformat": 4,
 "nbformat_minor": 5
}
