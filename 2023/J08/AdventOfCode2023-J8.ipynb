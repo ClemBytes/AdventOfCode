{
 "cells": [
  {
   "cell_type": "markdown",
   "id": "de9eae0f",
   "metadata": {},
   "source": [
    "# Read data"
   ]
  },
  {
   "cell_type": "code",
   "execution_count": 4,
   "id": "c2babf05",
   "metadata": {},
   "outputs": [],
   "source": [
    "def read_input(kind):\n",
    "    # \"kind\" must be \"input\" or \"exemple\"\n",
    "    with open(f\"/home/linaewen/Documents/PYTHON/AdventOfCode2023/J08/{kind}\") as f:\n",
    "        instructions = f.readline().strip()\n",
    "        f.readline()\n",
    "        network = {}\n",
    "        for line in f :\n",
    "            node, coords = line.strip().split(' = ')\n",
    "            left, right = coords.split(', ')\n",
    "            left = left[1:]\n",
    "            right = right[:-1]\n",
    "            network[node] = {'L': left, 'R': right}\n",
    "    return instructions, network"
   ]
  },
  {
   "cell_type": "markdown",
   "id": "43d2fba4",
   "metadata": {},
   "source": [
    "# Act ONE"
   ]
  },
  {
   "cell_type": "code",
   "execution_count": 5,
   "id": "e6dadc98",
   "metadata": {},
   "outputs": [],
   "source": [
    "def act_one(kind):\n",
    "    instructions, network = read_input(kind)\n",
    "    total = len(instructions)\n",
    "    first = 'AAA'\n",
    "    last = 'ZZZ'\n",
    "    current_node = first\n",
    "    nb = 0\n",
    "    while current_node != last:\n",
    "        current_node = network[current_node][instructions[nb%total]]\n",
    "        nb += 1\n",
    "    return nb"
   ]
  },
  {
   "cell_type": "code",
   "execution_count": 6,
   "id": "d09b56e9",
   "metadata": {},
   "outputs": [
    {
     "data": {
      "text/plain": [
       "11567"
      ]
     },
     "execution_count": 6,
     "metadata": {},
     "output_type": "execute_result"
    }
   ],
   "source": [
    "act_one(\"input\")"
   ]
  },
  {
   "cell_type": "markdown",
   "id": "d96d3f92",
   "metadata": {},
   "source": [
    "# Act TWO"
   ]
  },
  {
   "cell_type": "code",
   "execution_count": 21,
   "id": "53cdad26",
   "metadata": {},
   "outputs": [],
   "source": [
    "def is_not_finished(current_nodes):\n",
    "    for node in current_nodes:\n",
    "        if node[-1] != 'Z':\n",
    "            return True\n",
    "    return False\n",
    "\n",
    "def act_two(kind):\n",
    "    instructions, network = read_input(kind)\n",
    "    total = len(instructions)\n",
    "    current_nodes = []\n",
    "    for node in network.keys():\n",
    "        if node[-1] == 'A':\n",
    "            current_nodes.append(node)\n",
    "    nb = 0\n",
    "    while is_not_finished(current_nodes):\n",
    "        for i, node in enumerate(current_nodes):\n",
    "            current_nodes[i] = network[current_nodes[i]][instructions[nb%total]]\n",
    "        nb += 1\n",
    "    return nb"
   ]
  },
  {
   "cell_type": "code",
   "execution_count": 23,
   "id": "fdb370b6",
   "metadata": {},
   "outputs": [
    {
     "name": "stderr",
     "output_type": "stream",
     "text": [
      "IOPub data rate exceeded.\n",
      "The notebook server will temporarily stop sending output\n",
      "to the client in order to avoid crashing it.\n",
      "To change this limit, set the config variable\n",
      "`--NotebookApp.iopub_data_rate_limit`.\n",
      "\n",
      "Current values:\n",
      "NotebookApp.iopub_data_rate_limit=1000000.0 (bytes/sec)\n",
      "NotebookApp.rate_limit_window=3.0 (secs)\n",
      "\n"
     ]
    },
    {
     "ename": "KeyboardInterrupt",
     "evalue": "",
     "output_type": "error",
     "traceback": [
      "\u001b[0;31m---------------------------------------------------------------------------\u001b[0m",
      "\u001b[0;31mKeyboardInterrupt\u001b[0m                         Traceback (most recent call last)",
      "Cell \u001b[0;32mIn[23], line 1\u001b[0m\n\u001b[0;32m----> 1\u001b[0m \u001b[43mact_two\u001b[49m\u001b[43m(\u001b[49m\u001b[38;5;124;43m'\u001b[39;49m\u001b[38;5;124;43minput\u001b[39;49m\u001b[38;5;124;43m'\u001b[39;49m\u001b[43m)\u001b[49m\n",
      "Cell \u001b[0;32mIn[21], line 19\u001b[0m, in \u001b[0;36mact_two\u001b[0;34m(kind)\u001b[0m\n\u001b[1;32m     17\u001b[0m     \u001b[38;5;28;01mfor\u001b[39;00m i, node \u001b[38;5;129;01min\u001b[39;00m \u001b[38;5;28menumerate\u001b[39m(current_nodes):\n\u001b[1;32m     18\u001b[0m         current_nodes[i] \u001b[38;5;241m=\u001b[39m network[current_nodes[i]][instructions[nb\u001b[38;5;241m%\u001b[39mtotal]]\n\u001b[0;32m---> 19\u001b[0m     \u001b[38;5;28;43mprint\u001b[39;49m\u001b[43m(\u001b[49m\u001b[43mcurrent_nodes\u001b[49m\u001b[43m)\u001b[49m\n\u001b[1;32m     20\u001b[0m     nb \u001b[38;5;241m+\u001b[39m\u001b[38;5;241m=\u001b[39m \u001b[38;5;241m1\u001b[39m\n\u001b[1;32m     21\u001b[0m \u001b[38;5;28;01mreturn\u001b[39;00m nb\n",
      "File \u001b[0;32m~/.local/lib/python3.9/site-packages/ipykernel/iostream.py:597\u001b[0m, in \u001b[0;36mOutStream.write\u001b[0;34m(self, string)\u001b[0m\n\u001b[1;32m    595\u001b[0m     \u001b[38;5;28;01mraise\u001b[39;00m \u001b[38;5;167;01mValueError\u001b[39;00m(msg)\n\u001b[1;32m    596\u001b[0m \u001b[38;5;28;01melse\u001b[39;00m:\n\u001b[0;32m--> 597\u001b[0m     is_child \u001b[38;5;241m=\u001b[39m \u001b[38;5;129;01mnot\u001b[39;00m \u001b[38;5;28;43mself\u001b[39;49m\u001b[38;5;241;43m.\u001b[39;49m\u001b[43m_is_master_process\u001b[49m\u001b[43m(\u001b[49m\u001b[43m)\u001b[49m\n\u001b[1;32m    598\u001b[0m     \u001b[38;5;66;03m# only touch the buffer in the IO thread to avoid races\u001b[39;00m\n\u001b[1;32m    599\u001b[0m     \u001b[38;5;28;01mwith\u001b[39;00m \u001b[38;5;28mself\u001b[39m\u001b[38;5;241m.\u001b[39m_buffer_lock:\n",
      "File \u001b[0;32m~/.local/lib/python3.9/site-packages/ipykernel/iostream.py:468\u001b[0m, in \u001b[0;36mOutStream._is_master_process\u001b[0;34m(self)\u001b[0m\n\u001b[1;32m    467\u001b[0m \u001b[38;5;28;01mdef\u001b[39;00m \u001b[38;5;21m_is_master_process\u001b[39m(\u001b[38;5;28mself\u001b[39m):\n\u001b[0;32m--> 468\u001b[0m     \u001b[38;5;28;01mreturn\u001b[39;00m \u001b[43mos\u001b[49m\u001b[38;5;241;43m.\u001b[39;49m\u001b[43mgetpid\u001b[49m\u001b[43m(\u001b[49m\u001b[43m)\u001b[49m \u001b[38;5;241m==\u001b[39m \u001b[38;5;28mself\u001b[39m\u001b[38;5;241m.\u001b[39m_master_pid\n",
      "\u001b[0;31mKeyboardInterrupt\u001b[0m: "
     ]
    }
   ],
   "source": [
    "act_two('input')"
   ]
  },
  {
   "cell_type": "code",
   "execution_count": null,
   "id": "a7ac3099",
   "metadata": {},
   "outputs": [],
   "source": []
  }
 ],
 "metadata": {
  "kernelspec": {
   "display_name": "Python 3 (ipykernel)",
   "language": "python",
   "name": "python3"
  },
  "language_info": {
   "codemirror_mode": {
    "name": "ipython",
    "version": 3
   },
   "file_extension": ".py",
   "mimetype": "text/x-python",
   "name": "python",
   "nbconvert_exporter": "python",
   "pygments_lexer": "ipython3",
   "version": "3.9.13"
  }
 },
 "nbformat": 4,
 "nbformat_minor": 5
}
