{
 "cells": [
  {
   "cell_type": "markdown",
   "id": "8c5343ee",
   "metadata": {},
   "source": [
    "# Lecture des données"
   ]
  },
  {
   "cell_type": "code",
   "execution_count": 1,
   "id": "48787bf8",
   "metadata": {},
   "outputs": [],
   "source": [
    "import re\n",
    "\n",
    "def read_input(kind):\n",
    "    # \"kind\" must be \"input\" or \"exemple\"\n",
    "    with open(f\"/home/linaewen/Documents/PYTHON/AdventOfCode2023/J06/{kind}\") as f:\n",
    "        line = f.readline().strip()\n",
    "        times = [int(i) for i in re.findall(r'\\d+', line)]\n",
    "        line = f.readline().strip()\n",
    "        records = [int(i) for i in re.findall(r'\\d+', line)]\n",
    "    return times, records"
   ]
  },
  {
   "cell_type": "markdown",
   "id": "6fd88194",
   "metadata": {},
   "source": [
    "# Act ONE"
   ]
  },
  {
   "cell_type": "code",
   "execution_count": 2,
   "id": "cd14aa77",
   "metadata": {},
   "outputs": [],
   "source": [
    "def get_distances(t):\n",
    "    # t : temps total de la course\n",
    "    # dists : liste des distances possibles dans le temps total imparti\n",
    "    dists = []\n",
    "    for n in range(t):\n",
    "        dists.append(n*(t-n))\n",
    "    return dists\n",
    "\n",
    "def get_nb_winners(t, r):\n",
    "    # t : temps total de la course\n",
    "    # r : précédent record\n",
    "    dists = get_distances(t)\n",
    "    return sum([d > r for d in dists])\n",
    "\n",
    "def act_one(kind):\n",
    "    times, records = read_input(kind)\n",
    "    nb_winners = []\n",
    "    for i in range(len(times)):\n",
    "        nb_winners.append(get_nb_winners(times[i], records[i]))\n",
    "    res = 1\n",
    "    for nb in nb_winners:\n",
    "        res *= nb\n",
    "    return res"
   ]
  },
  {
   "cell_type": "code",
   "execution_count": 3,
   "id": "a20c53bc",
   "metadata": {},
   "outputs": [
    {
     "name": "stdout",
     "output_type": "stream",
     "text": [
      "5133600\n"
     ]
    }
   ],
   "source": [
    "print(act_one(\"input\"))"
   ]
  },
  {
   "cell_type": "markdown",
   "id": "4524f74a",
   "metadata": {},
   "source": [
    "# Act TWO"
   ]
  },
  {
   "cell_type": "code",
   "execution_count": 4,
   "id": "43b63bd6",
   "metadata": {},
   "outputs": [],
   "source": [
    "def read_input_two(kind):\n",
    "    # \"kind\" must be \"input\" or \"exemple\"\n",
    "    with open(f\"/home/linaewen/Documents/PYTHON/AdventOfCode2023/J06/{kind}\") as f:\n",
    "        line = f.readline().strip()\n",
    "        times = int(\"\".join(re.findall(r'\\d+', line)))\n",
    "        line = f.readline().strip()\n",
    "        records = int(\"\".join(re.findall(r'\\d+', line)))\n",
    "    return times, records"
   ]
  },
  {
   "cell_type": "code",
   "execution_count": 5,
   "id": "1cffbfda",
   "metadata": {},
   "outputs": [],
   "source": [
    "def act_two(kind):\n",
    "    times, records = read_input_two(kind)\n",
    "    nb_winners = get_nb_winners(times, records)\n",
    "    return nb_winners"
   ]
  },
  {
   "cell_type": "code",
   "execution_count": 6,
   "id": "97b22cf5",
   "metadata": {},
   "outputs": [
    {
     "name": "stdout",
     "output_type": "stream",
     "text": [
      "40651271\n"
     ]
    }
   ],
   "source": [
    "print(act_two(\"input\"))"
   ]
  }
 ],
 "metadata": {
  "kernelspec": {
   "display_name": "Python 3 (ipykernel)",
   "language": "python",
   "name": "python3"
  },
  "language_info": {
   "codemirror_mode": {
    "name": "ipython",
    "version": 3
   },
   "file_extension": ".py",
   "mimetype": "text/x-python",
   "name": "python",
   "nbconvert_exporter": "python",
   "pygments_lexer": "ipython3",
   "version": "3.9.13"
  }
 },
 "nbformat": 4,
 "nbformat_minor": 5
}
