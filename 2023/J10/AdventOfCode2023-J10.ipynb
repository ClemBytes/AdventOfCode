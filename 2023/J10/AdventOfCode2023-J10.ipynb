{
 "cells": [
  {
   "cell_type": "markdown",
   "id": "e596e058",
   "metadata": {},
   "source": [
    "# Read data"
   ]
  },
  {
   "cell_type": "code",
   "execution_count": 1,
   "id": "9fcd4255",
   "metadata": {},
   "outputs": [],
   "source": [
    "def read_input(kind):\n",
    "    # \"kind\" must be \"input\" or \"exemple\"\n",
    "    with open(f\"/home/linaewen/Documents/PYTHON/AdventOfCode2023/J10/{kind}\") as f:\n",
    "        grid = []\n",
    "        for i, line in enumerate(f) :\n",
    "            l = line.strip()\n",
    "            grid.append(l)\n",
    "            if 'S' in l:\n",
    "                init = [i, l.find('S')]\n",
    "    return grid, init"
   ]
  },
  {
   "cell_type": "markdown",
   "id": "f4da0d58",
   "metadata": {},
   "source": [
    "# Act ONE"
   ]
  },
  {
   "cell_type": "code",
   "execution_count": 2,
   "id": "2a1dcfd8",
   "metadata": {},
   "outputs": [
    {
     "name": "stdout",
     "output_type": "stream",
     "text": [
      "(['.....', '.S-7.', '.|.|.', '.L-J.', '.....'], [1, 1])\n"
     ]
    }
   ],
   "source": [
    "print(read_input('exemple1'))"
   ]
  },
  {
   "cell_type": "code",
   "execution_count": 3,
   "id": "fdcc9fa9",
   "metadata": {},
   "outputs": [],
   "source": [
    "def find_first_move(grid, init):\n",
    "    line, col = init\n",
    "    if line != 0:\n",
    "        if grid[line-1][col] in ['F', '|', '7']:\n",
    "            return [line-1, col]\n",
    "    if line != len(grid):\n",
    "        if grid[line+1][col] in ['L', '|', 'J']:\n",
    "            return [line+1, col]\n",
    "    if col != 0:\n",
    "        if grid[line][col-1] in ['F', '-', 'L']:\n",
    "            return [line, col-1]\n",
    "    if col != 0:\n",
    "        if grid[line][col+1] in ['7', '-', 'J']:\n",
    "            return [line, col+1]\n",
    "    print(\"No starting point !\")\n",
    "\n",
    "def find_next(grid, previous, pos):\n",
    "    line, col = pos\n",
    "    if grid[line][col] == '|':\n",
    "        if previous[0] == line-1:\n",
    "            return [line+1, col]\n",
    "        elif previous[0] == line+1:\n",
    "            return [line-1, col]\n",
    "        else:\n",
    "            print(f\"DONT MATCH ! Previous: {previous}, pos: {pos}, symbol: {grid[line][col]}\")\n",
    "    if grid[line][col] == '-':\n",
    "        if previous[1] == col-1:\n",
    "            return [line, col+1]\n",
    "        elif previous[1] == col+1:\n",
    "            return [line, col-1]\n",
    "        else:\n",
    "            print(f\"DONT MATCH ! Previous: {previous}, pos: {pos}, symbol: {grid[line][col]}\")\n",
    "    if grid[line][col] == 'L':\n",
    "        if previous[0] == line-1:\n",
    "            return [line, col+1]\n",
    "        elif previous[1] == col+1:\n",
    "            return [line-1, col]\n",
    "        else:\n",
    "            print(f\"DONT MATCH ! Previous: {previous}, pos: {pos}, symbol: {grid[line][col]}\")\n",
    "    if grid[line][col] == 'J':\n",
    "        if previous[0] == line-1:\n",
    "            return [line, col-1]\n",
    "        elif previous[1] == col-1:\n",
    "            return [line-1, col]\n",
    "        else:\n",
    "            print(f\"DONT MATCH ! Previous: {previous}, pos: {pos}, symbol: {grid[line][col]}\")\n",
    "    if grid[line][col] == '7':\n",
    "        if previous[0] == line+1:\n",
    "            return [line, col-1]\n",
    "        elif previous[1] == col-1:\n",
    "            return [line+1, col]\n",
    "        else:\n",
    "            print(f\"DONT MATCH ! Previous: {previous}, pos: {pos}, symbol: {grid[line][col]}\")\n",
    "    if grid[line][col] == 'F':\n",
    "        if previous[0] == line+1:\n",
    "            return [line, col+1]\n",
    "        elif previous[1] == col+1:\n",
    "            return [line+1, col]\n",
    "        else:\n",
    "            print(f\"DONT MATCH ! Previous: {previous}, pos: {pos}, symbol: {grid[line][col]}\")\n",
    "    print(f'Unrecognized symbol ! Previous: {previous}, pos: {pos}, symbol: {grid[line][col]}')\n",
    "\n",
    "def act_one(kind):\n",
    "    grid, init = read_input(kind)\n",
    "    nb = 0\n",
    "    next_pos = find_first_move(grid, init)\n",
    "    pos = init\n",
    "    while (nb == 0) or (pos != init):\n",
    "        previous = pos\n",
    "        pos = next_pos\n",
    "        next_pos = find_next(grid, previous, pos)\n",
    "        nb +=1\n",
    "    return int(nb/2)"
   ]
  },
  {
   "cell_type": "code",
   "execution_count": 4,
   "id": "870d27b8",
   "metadata": {},
   "outputs": [
    {
     "name": "stdout",
     "output_type": "stream",
     "text": [
      "Unrecognized symbol ! Previous: [20, 88], pos: [19, 88], symbol: S\n"
     ]
    },
    {
     "data": {
      "text/plain": [
       "6717"
      ]
     },
     "execution_count": 4,
     "metadata": {},
     "output_type": "execute_result"
    }
   ],
   "source": [
    "act_one('input')"
   ]
  },
  {
   "cell_type": "markdown",
   "id": "94d838fd",
   "metadata": {},
   "source": [
    "# Act TWO"
   ]
  },
  {
   "cell_type": "markdown",
   "id": "73d82385",
   "metadata": {},
   "source": [
    "FLEMME"
   ]
  }
 ],
 "metadata": {
  "kernelspec": {
   "display_name": "Python 3 (ipykernel)",
   "language": "python",
   "name": "python3"
  },
  "language_info": {
   "codemirror_mode": {
    "name": "ipython",
    "version": 3
   },
   "file_extension": ".py",
   "mimetype": "text/x-python",
   "name": "python",
   "nbconvert_exporter": "python",
   "pygments_lexer": "ipython3",
   "version": "3.9.13"
  }
 },
 "nbformat": 4,
 "nbformat_minor": 5
}
