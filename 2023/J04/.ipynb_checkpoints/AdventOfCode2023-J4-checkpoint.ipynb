{
 "cells": [
  {
   "cell_type": "markdown",
   "id": "5879881b",
   "metadata": {},
   "source": [
    "# Lecture des données"
   ]
  },
  {
   "cell_type": "code",
   "execution_count": 1,
   "id": "f90776bf",
   "metadata": {},
   "outputs": [],
   "source": [
    "def read_input(kind):\n",
    "    # \"kind\" must be \"input\" or \"exemple\"\n",
    "    cards = {}\n",
    "    with open(f\"/home/linaewen/Documents/PYTHON/AdventOfCode2023/J04/{kind}\") as f:\n",
    "        for line in f :\n",
    "            line = line[:-1]\n",
    "            card, nbs = line.split(\": \")\n",
    "            card_id = int(card.split(' ')[-1])\n",
    "            winning, selected = nbs.split(' | ')\n",
    "            winning_nbs = [int(n) for n in winning.split(' ') if n != '']\n",
    "            selected_nbs = [int(n) for n in selected.split(' ') if n != '']\n",
    "            cards[card_id] = {\n",
    "                'winning': winning_nbs,\n",
    "                'selected': selected_nbs,\n",
    "                'copies': 1,\n",
    "            }\n",
    "    return cards"
   ]
  },
  {
   "cell_type": "markdown",
   "id": "e4304809",
   "metadata": {},
   "source": [
    "# Act ONE"
   ]
  },
  {
   "cell_type": "code",
   "execution_count": 2,
   "id": "25baac56",
   "metadata": {},
   "outputs": [],
   "source": [
    "def compute_points(cards):\n",
    "    s = 0\n",
    "    for card_nb in range(1, len(cards)+1):\n",
    "        card = cards[card_nb]\n",
    "        nb_winning_nbs = 0\n",
    "        for sel in card['selected']:\n",
    "            if sel in card['winning']:\n",
    "                nb_winning_nbs += 1\n",
    "        if nb_winning_nbs > 0:\n",
    "            s += 2**(nb_winning_nbs - 1)\n",
    "    return s"
   ]
  },
  {
   "cell_type": "code",
   "execution_count": 3,
   "id": "f09cf095",
   "metadata": {},
   "outputs": [
    {
     "name": "stdout",
     "output_type": "stream",
     "text": [
      "32001\n"
     ]
    }
   ],
   "source": [
    "cards = read_input(\"input\")\n",
    "print(compute_points(cards))"
   ]
  },
  {
   "cell_type": "markdown",
   "id": "e3b55114",
   "metadata": {},
   "source": [
    "# Act TWO"
   ]
  },
  {
   "cell_type": "code",
   "execution_count": 4,
   "id": "bd32a547",
   "metadata": {},
   "outputs": [],
   "source": [
    "def nb_winning_nbs(card):\n",
    "    nb = 0\n",
    "    for sel in card['selected']:\n",
    "        if sel in card['winning']:\n",
    "            nb += 1\n",
    "    return nb\n",
    "\n",
    "def compute_cards(cards):\n",
    "    # Get nb of copies per card:\n",
    "    for card_nb in range(1, len(cards)+1):\n",
    "        nb = nb_winning_nbs(cards[card_nb])\n",
    "        for i in range(1, nb+1):\n",
    "            cards[card_nb + i]['copies'] += cards[card_nb]['copies']\n",
    "    # Get total number of cards:\n",
    "    s = 0\n",
    "    for card_nb in range(1, len(cards)+1):\n",
    "        s += cards[card_nb]['copies']\n",
    "    return s"
   ]
  },
  {
   "cell_type": "code",
   "execution_count": 5,
   "id": "a393bb4c",
   "metadata": {},
   "outputs": [
    {
     "name": "stdout",
     "output_type": "stream",
     "text": [
      "5037841\n"
     ]
    }
   ],
   "source": [
    "cards = read_input(\"input\")\n",
    "print(compute_cards(cards))"
   ]
  }
 ],
 "metadata": {
  "kernelspec": {
   "display_name": "Python 3 (ipykernel)",
   "language": "python",
   "name": "python3"
  },
  "language_info": {
   "codemirror_mode": {
    "name": "ipython",
    "version": 3
   },
   "file_extension": ".py",
   "mimetype": "text/x-python",
   "name": "python",
   "nbconvert_exporter": "python",
   "pygments_lexer": "ipython3",
   "version": "3.9.13"
  }
 },
 "nbformat": 4,
 "nbformat_minor": 5
}
