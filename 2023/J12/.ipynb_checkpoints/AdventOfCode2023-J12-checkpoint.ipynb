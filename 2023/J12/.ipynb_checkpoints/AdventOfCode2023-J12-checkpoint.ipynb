{
 "cells": [
  {
   "cell_type": "markdown",
   "id": "a2f26f68",
   "metadata": {},
   "source": [
    "# Read data"
   ]
  },
  {
   "cell_type": "code",
   "execution_count": 1,
   "id": "7bbed749",
   "metadata": {},
   "outputs": [],
   "source": [
    "def read_input(kind):\n",
    "    # \"kind\" must be \"input\" or \"exemple\"\n",
    "    with open(f\"/home/linaewen/Documents/PYTHON/AdventOfCode2023/J12/{kind}\") as f:\n",
    "        rows = []\n",
    "        datas = []\n",
    "        for line in f :\n",
    "            row, d = line.strip().split(' ')\n",
    "            data = [int(i) for i in d.split(',')]\n",
    "            rows.append(row)\n",
    "            datas.append(data)\n",
    "    return rows, datas"
   ]
  },
  {
   "cell_type": "code",
   "execution_count": 2,
   "id": "82fc7ad9",
   "metadata": {},
   "outputs": [
    {
     "name": "stdout",
     "output_type": "stream",
     "text": [
      "(['???.###', '.??..??...?##.', '?#?#?#?#?#?#?#?', '????.#...#...', '????.######..#####.', '?###????????'], [[1, 1, 3], [1, 1, 3], [1, 3, 1, 6], [4, 1, 1], [1, 6, 5], [3, 2, 1]])\n"
     ]
    }
   ],
   "source": [
    "print(read_input(\"exemple\"))"
   ]
  },
  {
   "cell_type": "markdown",
   "id": "f6bda3de",
   "metadata": {},
   "source": [
    "# Act ONE"
   ]
  },
  {
   "cell_type": "code",
   "execution_count": 3,
   "id": "8d38d425",
   "metadata": {},
   "outputs": [
    {
     "name": "stdout",
     "output_type": "stream",
     "text": [
      "7402\n"
     ]
    }
   ],
   "source": [
    "def test_match(row, data):\n",
    "    result = []\n",
    "    group = 0\n",
    "    for c in row:\n",
    "        if c == '#':\n",
    "            group += 1\n",
    "        elif c == '.':\n",
    "            if group != 0:\n",
    "                result.append(group)\n",
    "                group = 0\n",
    "        else:\n",
    "            print(f\"Unknwon caracter: {c}\")\n",
    "    if group != 0:\n",
    "        result.append(group)\n",
    "    return data == result\n",
    "\n",
    "def get_arrangements(row, data):\n",
    "    if row.count('?') != 0:\n",
    "        ret = 0\n",
    "        ret += get_arrangements(row.replace('?', '.', 1), data)\n",
    "        ret += get_arrangements(row.replace('?', '#', 1), data)\n",
    "        return ret\n",
    "    else:\n",
    "        if test_match(row, data):\n",
    "            return 1\n",
    "        else:\n",
    "            return 0\n",
    "\n",
    "def act_one(kind):\n",
    "    rows, datas = read_input(kind)\n",
    "    s = 0\n",
    "    for i, row in enumerate(rows):\n",
    "        data = datas[i]\n",
    "        s += get_arrangements(row, data)\n",
    "    return s\n",
    "\n",
    "print(act_one(\"input\"))"
   ]
  }
 ],
 "metadata": {
  "kernelspec": {
   "display_name": "Python 3 (ipykernel)",
   "language": "python",
   "name": "python3"
  },
  "language_info": {
   "codemirror_mode": {
    "name": "ipython",
    "version": 3
   },
   "file_extension": ".py",
   "mimetype": "text/x-python",
   "name": "python",
   "nbconvert_exporter": "python",
   "pygments_lexer": "ipython3",
   "version": "3.9.13"
  }
 },
 "nbformat": 4,
 "nbformat_minor": 5
}
