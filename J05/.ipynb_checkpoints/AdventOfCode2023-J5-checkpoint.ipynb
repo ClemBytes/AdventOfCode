{
 "cells": [
  {
   "cell_type": "markdown",
   "id": "8b60934d",
   "metadata": {},
   "source": [
    "# Lecture des données"
   ]
  },
  {
   "cell_type": "code",
   "execution_count": 2,
   "id": "414c3db8",
   "metadata": {},
   "outputs": [],
   "source": [
    "def read_input(kind):\n",
    "    # \"kind\" must be \"input\" or \"exemple\"\n",
    "    with open(f\"/home/linaewen/Documents/PYTHON/AdventOfCode2023/J05/{kind}\") as f:\n",
    "        line = f.readline().strip()\n",
    "        _, s = line.split(': ')\n",
    "        seeds = [int(i) for i in s.split(' ')]\n",
    "        maps = []\n",
    "        #\n",
    "        line = f.readline()\n",
    "        line = f.readline()\n",
    "        seed_to_soil = {}\n",
    "        while line != '':\n",
    "            line = f.readline().strip()\n",
    "            if line != '':\n",
    "                destination_start, source_start, range_length = [int(i) for i in line.split(' ')]\n",
    "                for i in range(range_length):\n",
    "                    seed_to_soil[source_start + i] = destination_start + i\n",
    "        maps.append(seed_to_soil)\n",
    "        #\n",
    "        line = f.readline()\n",
    "        line = f.readline()\n",
    "        soil_to_fertilizer = {}\n",
    "        while line != '':\n",
    "            line = f.readline().strip()\n",
    "            if line != '':\n",
    "                destination_start, source_start, range_length = [int(i) for i in line.split(' ')]\n",
    "                for i in range(range_length):\n",
    "                    soil_to_fertilizer[source_start + i] = destination_start + i\n",
    "        maps.append(soil_to_fertilizer)\n",
    "        #\n",
    "        line = f.readline()\n",
    "        line = f.readline()\n",
    "        fertilizer_to_water = {}\n",
    "        while line != '':\n",
    "            line = f.readline().strip()\n",
    "            if line != '':\n",
    "                destination_start, source_start, range_length = [int(i) for i in line.split(' ')]\n",
    "                for i in range(range_length):\n",
    "                    fertilizer_to_water[source_start + i] = destination_start + i\n",
    "        maps.append(fertilizer_to_water)\n",
    "        #\n",
    "        line = f.readline()\n",
    "        line = f.readline()\n",
    "        water_to_light = {}\n",
    "        while line != '':\n",
    "            line = f.readline().strip()\n",
    "            if line != '':\n",
    "                destination_start, source_start, range_length = [int(i) for i in line.split(' ')]\n",
    "                for i in range(range_length):\n",
    "                    water_to_light[source_start + i] = destination_start + i\n",
    "        maps.append(water_to_light)\n",
    "        #\n",
    "        line = f.readline()\n",
    "        line = f.readline()\n",
    "        light_to_temperature = {}\n",
    "        while line != '':\n",
    "            line = f.readline().strip()\n",
    "            if line != '':\n",
    "                destination_start, source_start, range_length = [int(i) for i in line.split(' ')]\n",
    "                for i in range(range_length):\n",
    "                    light_to_temperature[source_start + i] = destination_start + i\n",
    "        maps.append(light_to_temperature)\n",
    "        #\n",
    "        line = f.readline()\n",
    "        line = f.readline()\n",
    "        temperature_to_humidity = {}\n",
    "        while line != '':\n",
    "            line = f.readline().strip()\n",
    "            if line != '':\n",
    "                destination_start, source_start, range_length = [int(i) for i in line.split(' ')]\n",
    "                for i in range(range_length):\n",
    "                    temperature_to_humidity[source_start + i] = destination_start + i\n",
    "        maps.append(temperature_to_humidity)\n",
    "        #\n",
    "        line = f.readline()\n",
    "        line = f.readline()\n",
    "        humidity_to_location = {}\n",
    "        while line != '':\n",
    "            line = f.readline().strip()\n",
    "            if line != '':\n",
    "                destination_start, source_start, range_length = [int(i) for i in line.split(' ')]\n",
    "                for i in range(range_length):\n",
    "                    humidity_to_location[source_start + i] = destination_start + i\n",
    "        maps.append(humidity_to_location)\n",
    "    return seeds, maps"
   ]
  },
  {
   "cell_type": "markdown",
   "id": "59508f30",
   "metadata": {},
   "source": [
    "# Act ONE"
   ]
  },
  {
   "cell_type": "code",
   "execution_count": 3,
   "id": "66a2be99",
   "metadata": {},
   "outputs": [],
   "source": [
    "def trace_way(nb, maps):\n",
    "    for m in maps:\n",
    "        if nb in m.keys():\n",
    "            nb = m[nb]\n",
    "    return nb\n",
    "\n",
    "def act_one(seeds, maps):\n",
    "    locations = []\n",
    "    for seed in seeds:\n",
    "        locations.append(trace_way(seed, maps))\n",
    "    return min(locations)"
   ]
  },
  {
   "cell_type": "code",
   "execution_count": null,
   "id": "1cef441b",
   "metadata": {},
   "outputs": [],
   "source": [
    "seeds, maps = read_input(\"input\")"
   ]
  },
  {
   "cell_type": "code",
   "execution_count": null,
   "id": "e3e1f70b",
   "metadata": {},
   "outputs": [],
   "source": [
    "print(act_one(seeds, maps))"
   ]
  }
 ],
 "metadata": {
  "kernelspec": {
   "display_name": "Python 3 (ipykernel)",
   "language": "python",
   "name": "python3"
  },
  "language_info": {
   "codemirror_mode": {
    "name": "ipython",
    "version": 3
   },
   "file_extension": ".py",
   "mimetype": "text/x-python",
   "name": "python",
   "nbconvert_exporter": "python",
   "pygments_lexer": "ipython3",
   "version": "3.9.13"
  }
 },
 "nbformat": 4,
 "nbformat_minor": 5
}
