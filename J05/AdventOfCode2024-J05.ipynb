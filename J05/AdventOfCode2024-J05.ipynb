{
 "cells": [
  {
   "cell_type": "markdown",
   "id": "0b82665b-bd03-4d51-9129-1267817dc40f",
   "metadata": {},
   "source": [
    "# Advent of Code 2024 - J05"
   ]
  },
  {
   "cell_type": "code",
   "execution_count": 1,
   "id": "c61d3e7f-3736-4b60-89f0-ec6226ec6c4a",
   "metadata": {},
   "outputs": [],
   "source": [
    "def read_input(kind):\n",
    "    assert kind in ('input', 'example'), '\"kind\" must be \"input\" or \"example\"'\n",
    "    rules = []\n",
    "    updates = []\n",
    "    change = False\n",
    "    with open(kind) as f:\n",
    "        for line in f:\n",
    "            if line == '\\n':\n",
    "                change = True\n",
    "                continue\n",
    "            if change:\n",
    "                updates.append([int(x) for x in line.strip().split(',')])\n",
    "            else:\n",
    "                rules.append([int(x) for x in line.strip().split('|')])\n",
    "    return rules, updates"
   ]
  },
  {
   "cell_type": "code",
   "execution_count": 2,
   "id": "610658ba-72e2-4aad-9b9b-56ea31de815f",
   "metadata": {},
   "outputs": [
    {
     "data": {
      "text/plain": [
       "[[47, 53],\n",
       " [97, 13],\n",
       " [97, 61],\n",
       " [97, 47],\n",
       " [75, 29],\n",
       " [61, 13],\n",
       " [75, 53],\n",
       " [29, 13],\n",
       " [97, 29],\n",
       " [53, 29],\n",
       " [61, 53],\n",
       " [97, 53],\n",
       " [61, 29],\n",
       " [47, 13],\n",
       " [75, 47],\n",
       " [97, 75],\n",
       " [47, 61],\n",
       " [75, 61],\n",
       " [47, 29],\n",
       " [75, 13],\n",
       " [53, 13]]"
      ]
     },
     "execution_count": 2,
     "metadata": {},
     "output_type": "execute_result"
    }
   ],
   "source": [
    "example_rules, example_updates = read_input(\"example\")\n",
    "example_rules"
   ]
  },
  {
   "cell_type": "code",
   "execution_count": 3,
   "id": "d098856d-68b4-4906-aded-aa5cc902b841",
   "metadata": {},
   "outputs": [
    {
     "data": {
      "text/plain": [
       "[[75, 47, 61, 53, 29],\n",
       " [97, 61, 53, 29, 13],\n",
       " [75, 29, 13],\n",
       " [75, 97, 47, 61, 53],\n",
       " [61, 13, 29],\n",
       " [97, 13, 75, 29, 47]]"
      ]
     },
     "execution_count": 3,
     "metadata": {},
     "output_type": "execute_result"
    }
   ],
   "source": [
    "example_updates"
   ]
  },
  {
   "cell_type": "code",
   "execution_count": 4,
   "id": "95062e41-fd6e-484e-b33d-1afcbb319bde",
   "metadata": {},
   "outputs": [],
   "source": [
    "rules, updates = read_input(\"input\")"
   ]
  },
  {
   "cell_type": "markdown",
   "id": "5272aef3-66b8-4e07-a0ba-9f92c83ebcb5",
   "metadata": {},
   "source": [
    "## First part"
   ]
  },
  {
   "cell_type": "code",
   "execution_count": 5,
   "id": "297f255a-1a09-4d68-976b-43f0486fabce",
   "metadata": {},
   "outputs": [],
   "source": [
    "def test_update(update, rules):\n",
    "    for i, page in enumerate(update):\n",
    "        for j in range(i):\n",
    "            if [page, update[j]] in rules:\n",
    "                return False\n",
    "    return True"
   ]
  },
  {
   "cell_type": "code",
   "execution_count": 6,
   "id": "25d2a5fb-502c-40aa-963e-495d87c8af90",
   "metadata": {},
   "outputs": [],
   "source": [
    "def test(updates, rules):\n",
    "    s = 0\n",
    "    for update in updates:\n",
    "        if test_update(update, rules):\n",
    "            s += update[len(update)//2]\n",
    "    return s"
   ]
  },
  {
   "cell_type": "code",
   "execution_count": 7,
   "id": "fcff62fd-51b3-474f-a5c2-3516afdc181b",
   "metadata": {},
   "outputs": [
    {
     "data": {
      "text/plain": [
       "143"
      ]
     },
     "execution_count": 7,
     "metadata": {},
     "output_type": "execute_result"
    }
   ],
   "source": [
    "test(example_updates, example_rules)"
   ]
  },
  {
   "cell_type": "code",
   "execution_count": 8,
   "id": "81d60ac5-08d9-4a90-8909-6ae22f528f59",
   "metadata": {},
   "outputs": [
    {
     "data": {
      "text/plain": [
       "4689"
      ]
     },
     "execution_count": 8,
     "metadata": {},
     "output_type": "execute_result"
    }
   ],
   "source": [
    "test(updates, rules)"
   ]
  }
 ],
 "metadata": {
  "kernelspec": {
   "display_name": "Python 3 (ipykernel)",
   "language": "python",
   "name": "python3"
  },
  "language_info": {
   "codemirror_mode": {
    "name": "ipython",
    "version": 3
   },
   "file_extension": ".py",
   "mimetype": "text/x-python",
   "name": "python",
   "nbconvert_exporter": "python",
   "pygments_lexer": "ipython3",
   "version": "3.9.13"
  }
 },
 "nbformat": 4,
 "nbformat_minor": 5
}
