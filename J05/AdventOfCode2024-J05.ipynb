{
 "cells": [
  {
   "cell_type": "markdown",
   "id": "0b82665b-bd03-4d51-9129-1267817dc40f",
   "metadata": {},
   "source": [
    "# Advent of Code 2024 - J05"
   ]
  },
  {
   "cell_type": "code",
   "execution_count": null,
   "id": "c61d3e7f-3736-4b60-89f0-ec6226ec6c4a",
   "metadata": {},
   "outputs": [],
   "source": [
    "def read_input(kind):\n",
    "    assert kind in ('input', 'example'), '\"kind\" must be \"input\" or \"example\"'\n",
    "    \n",
    "    with open(kind) as f:\n",
    "        for line in f:\n",
    "            \n",
    "    return "
   ]
  }
 ],
 "metadata": {
  "kernelspec": {
   "display_name": "Python 3 (ipykernel)",
   "language": "python",
   "name": "python3"
  },
  "language_info": {
   "codemirror_mode": {
    "name": "ipython",
    "version": 3
   },
   "file_extension": ".py",
   "mimetype": "text/x-python",
   "name": "python",
   "nbconvert_exporter": "python",
   "pygments_lexer": "ipython3",
   "version": "3.9.13"
  }
 },
 "nbformat": 4,
 "nbformat_minor": 5
}
