{
 "cells": [
  {
   "cell_type": "markdown",
   "id": "d14a6a17-eb52-4f24-98b6-e5a62144b84f",
   "metadata": {},
   "source": [
    "# Advent of Code 2024 - J09"
   ]
  },
  {
   "cell_type": "code",
   "execution_count": 1,
   "id": "f890c83f-76ef-476a-a2ef-5bb35c4b11dd",
   "metadata": {},
   "outputs": [],
   "source": [
    "def read_input(kind):\n",
    "    assert kind in ('input', 'example'), '\"kind\" must be \"input\" or \"example\"'\n",
    "    with open(kind) as f:\n",
    "        for line in f:\n",
    "            return line.strip()"
   ]
  },
  {
   "cell_type": "code",
   "execution_count": 3,
   "id": "2e42cf61-9fda-404c-aa8c-06342b9dc7d6",
   "metadata": {},
   "outputs": [
    {
     "data": {
      "text/plain": [
       "'2333133121414131402'"
      ]
     },
     "execution_count": 3,
     "metadata": {},
     "output_type": "execute_result"
    }
   ],
   "source": [
    "edisk_map = read_input(\"example\")\n",
    "idisk_map = read_input(\"input\")\n",
    "edisk_map"
   ]
  },
  {
   "cell_type": "markdown",
   "id": "e923e5e3-3b81-4f02-8721-a9e1172001d5",
   "metadata": {},
   "source": [
    "## First part"
   ]
  },
  {
   "cell_type": "code",
   "execution_count": 12,
   "id": "72289a22-f9b3-48b8-9330-1196ed43c6fd",
   "metadata": {},
   "outputs": [],
   "source": [
    "def get_filesystem(disk_map):\n",
    "    is_file = True\n",
    "    id_number = 0\n",
    "    filesystem = ''\n",
    "    for space in disk_map:\n",
    "        for _ in range(int(space)):\n",
    "            if is_file:\n",
    "                filesystem += str(id_number)\n",
    "            else:\n",
    "                filesystem += '.'\n",
    "        if is_file:\n",
    "            id_number += 1\n",
    "        is_file = not(is_file)\n",
    "    return filesystem"
   ]
  },
  {
   "cell_type": "code",
   "execution_count": 13,
   "id": "4c883009-1970-47f8-bec7-87aba45d3b4d",
   "metadata": {},
   "outputs": [
    {
     "data": {
      "text/plain": [
       "'0..111....22222'"
      ]
     },
     "execution_count": 13,
     "metadata": {},
     "output_type": "execute_result"
    }
   ],
   "source": [
    "get_filesystem(\"12345\")"
   ]
  },
  {
   "cell_type": "code",
   "execution_count": 14,
   "id": "2715b166-4327-42c4-8a51-6f3e38edb4c9",
   "metadata": {},
   "outputs": [
    {
     "data": {
      "text/plain": [
       "'00...111...2...333.44.5555.6666.777.888899'"
      ]
     },
     "execution_count": 14,
     "metadata": {},
     "output_type": "execute_result"
    }
   ],
   "source": [
    "get_filesystem(edisk_map)"
   ]
  },
  {
   "cell_type": "code",
   "execution_count": 29,
   "id": "693a3d93-d531-4b1d-99f5-0a3fe0bccea0",
   "metadata": {},
   "outputs": [],
   "source": [
    "import re\n",
    "\n",
    "def move_file_blocks(filesystem, p=False):\n",
    "    compacted_filesystem = filesystem\n",
    "    # Regex for complete compacted filesystem (starts with only 0-9 and ends with only '.')\n",
    "    while not(re.fullmatch(r\"^[0-9]+\\.+$\", compacted_filesystem)):\n",
    "        # Get first free_space :\n",
    "        index_first_free_space = re.search(r\"\\.\", compacted_filesystem).start()\n",
    "        # Get last file block:\n",
    "        index_last_file_block = len(compacted_filesystem) - re.search(r\"[0-9]\", compacted_filesystem[::-1]).end()\n",
    "        last_file_block = re.search(r\"[0-9]\", compacted_filesystem[::-1])[0]\n",
    "        \n",
    "        # Create new compacted filesystem:\n",
    "        new_compacted_filesystem = ''\n",
    "        for i, car in enumerate(compacted_filesystem):\n",
    "            if i == index_first_free_space:\n",
    "                new_compacted_filesystem += last_file_block\n",
    "            elif i == index_last_file_block:\n",
    "                new_compacted_filesystem += '.'\n",
    "            else:\n",
    "                new_compacted_filesystem += car\n",
    "        compacted_filesystem = new_compacted_filesystem\n",
    "        if p:\n",
    "            print(compacted_filesystem)\n",
    "    return compacted_filesystem"
   ]
  },
  {
   "cell_type": "code",
   "execution_count": 34,
   "id": "5f174da6-1998-4ab7-808f-2721f522a408",
   "metadata": {},
   "outputs": [
    {
     "name": "stdout",
     "output_type": "stream",
     "text": [
      "02.111....2222.\n",
      "022111....222..\n",
      "0221112...22...\n",
      "02211122..2....\n",
      "022111222......\n"
     ]
    },
    {
     "data": {
      "text/plain": [
       "'022111222......'"
      ]
     },
     "execution_count": 34,
     "metadata": {},
     "output_type": "execute_result"
    }
   ],
   "source": [
    "move_file_blocks('0..111....22222', True)"
   ]
  },
  {
   "cell_type": "code",
   "execution_count": 35,
   "id": "dde25888-58ab-4f5c-85a5-1c6d1d01fe08",
   "metadata": {},
   "outputs": [
    {
     "name": "stdout",
     "output_type": "stream",
     "text": [
      "009..111...2...333.44.5555.6666.777.88889.\n",
      "0099.111...2...333.44.5555.6666.777.8888..\n",
      "00998111...2...333.44.5555.6666.777.888...\n",
      "009981118..2...333.44.5555.6666.777.88....\n",
      "0099811188.2...333.44.5555.6666.777.8.....\n",
      "009981118882...333.44.5555.6666.777.......\n",
      "0099811188827..333.44.5555.6666.77........\n",
      "00998111888277.333.44.5555.6666.7.........\n",
      "009981118882777333.44.5555.6666...........\n",
      "009981118882777333644.5555.666............\n",
      "00998111888277733364465555.66.............\n",
      "0099811188827773336446555566..............\n"
     ]
    },
    {
     "data": {
      "text/plain": [
       "'0099811188827773336446555566..............'"
      ]
     },
     "execution_count": 35,
     "metadata": {},
     "output_type": "execute_result"
    }
   ],
   "source": [
    "move_file_blocks(get_filesystem(edisk_map), True)"
   ]
  },
  {
   "cell_type": "code",
   "execution_count": 43,
   "id": "1acf87bb-ad52-48df-8fc8-3c6764642241",
   "metadata": {},
   "outputs": [],
   "source": [
    "def checksum(filesystem):\n",
    "    s = 0\n",
    "    for i, car in enumerate(filesystem):\n",
    "        if car == '.':\n",
    "            return s\n",
    "        s += int(car) * i"
   ]
  },
  {
   "cell_type": "code",
   "execution_count": 46,
   "id": "8cfdb0da-4b1f-47ce-b6d8-ca4de475cf9b",
   "metadata": {},
   "outputs": [],
   "source": [
    "def first_part(kind):\n",
    "    disk_map = read_input(kind)\n",
    "    filesystem = get_filesystem(disk_map)\n",
    "    compacted_filesystem = move_file_blocks(filesystem)\n",
    "    return checksum(compacted_filesystem)"
   ]
  },
  {
   "cell_type": "code",
   "execution_count": 47,
   "id": "7a795983-1a7e-4949-90c3-a8a9f661e710",
   "metadata": {},
   "outputs": [
    {
     "data": {
      "text/plain": [
       "1928"
      ]
     },
     "execution_count": 47,
     "metadata": {},
     "output_type": "execute_result"
    }
   ],
   "source": [
    "first_part(\"example\")"
   ]
  },
  {
   "cell_type": "code",
   "execution_count": 48,
   "id": "605e40ac-b0b1-4aa3-8aad-7a9487b1cf14",
   "metadata": {},
   "outputs": [
    {
     "ename": "KeyboardInterrupt",
     "evalue": "",
     "output_type": "error",
     "traceback": [
      "\u001b[0;31m---------------------------------------------------------------------------\u001b[0m",
      "\u001b[0;31mKeyboardInterrupt\u001b[0m                         Traceback (most recent call last)",
      "Cell \u001b[0;32mIn[48], line 1\u001b[0m\n\u001b[0;32m----> 1\u001b[0m \u001b[43mfirst_part\u001b[49m\u001b[43m(\u001b[49m\u001b[38;5;124;43m\"\u001b[39;49m\u001b[38;5;124;43minput\u001b[39;49m\u001b[38;5;124;43m\"\u001b[39;49m\u001b[43m)\u001b[49m\n",
      "Cell \u001b[0;32mIn[46], line 4\u001b[0m, in \u001b[0;36mfirst_part\u001b[0;34m(kind)\u001b[0m\n\u001b[1;32m      2\u001b[0m disk_map \u001b[38;5;241m=\u001b[39m read_input(kind)\n\u001b[1;32m      3\u001b[0m filesystem \u001b[38;5;241m=\u001b[39m get_filesystem(disk_map)\n\u001b[0;32m----> 4\u001b[0m compacted_filesystem \u001b[38;5;241m=\u001b[39m \u001b[43mmove_file_blocks\u001b[49m\u001b[43m(\u001b[49m\u001b[43mfilesystem\u001b[49m\u001b[43m)\u001b[49m\n\u001b[1;32m      5\u001b[0m \u001b[38;5;28;01mreturn\u001b[39;00m checksum(compacted_filesystem)\n",
      "Cell \u001b[0;32mIn[29], line 18\u001b[0m, in \u001b[0;36mmove_file_blocks\u001b[0;34m(filesystem, p)\u001b[0m\n\u001b[1;32m     16\u001b[0m \u001b[38;5;28;01mif\u001b[39;00m i \u001b[38;5;241m==\u001b[39m index_first_free_space:\n\u001b[1;32m     17\u001b[0m     new_compacted_filesystem \u001b[38;5;241m+\u001b[39m\u001b[38;5;241m=\u001b[39m last_file_block\n\u001b[0;32m---> 18\u001b[0m \u001b[38;5;28;01melif\u001b[39;00m \u001b[43mi\u001b[49m\u001b[43m \u001b[49m\u001b[38;5;241;43m==\u001b[39;49m\u001b[43m \u001b[49m\u001b[43mindex_last_file_block\u001b[49m:\n\u001b[1;32m     19\u001b[0m     new_compacted_filesystem \u001b[38;5;241m+\u001b[39m\u001b[38;5;241m=\u001b[39m \u001b[38;5;124m'\u001b[39m\u001b[38;5;124m.\u001b[39m\u001b[38;5;124m'\u001b[39m\n\u001b[1;32m     20\u001b[0m \u001b[38;5;28;01melse\u001b[39;00m:\n",
      "\u001b[0;31mKeyboardInterrupt\u001b[0m: "
     ]
    }
   ],
   "source": [
    "first_part(\"input\")"
   ]
  },
  {
   "cell_type": "code",
   "execution_count": null,
   "id": "69d32567-8252-419b-bcff-ae3ca112704e",
   "metadata": {},
   "outputs": [],
   "source": []
  }
 ],
 "metadata": {
  "kernelspec": {
   "display_name": "Python 3 (ipykernel)",
   "language": "python",
   "name": "python3"
  },
  "language_info": {
   "codemirror_mode": {
    "name": "ipython",
    "version": 3
   },
   "file_extension": ".py",
   "mimetype": "text/x-python",
   "name": "python",
   "nbconvert_exporter": "python",
   "pygments_lexer": "ipython3",
   "version": "3.9.13"
  }
 },
 "nbformat": 4,
 "nbformat_minor": 5
}
