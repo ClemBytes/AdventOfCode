{
 "cells": [
  {
   "cell_type": "markdown",
   "id": "d14a6a17-eb52-4f24-98b6-e5a62144b84f",
   "metadata": {},
   "source": [
    "# Advent of Code 2024 - J09"
   ]
  },
  {
   "cell_type": "code",
   "execution_count": 1,
   "id": "f890c83f-76ef-476a-a2ef-5bb35c4b11dd",
   "metadata": {},
   "outputs": [],
   "source": [
    "def read_input(kind):\n",
    "    assert kind in ('input', 'example'), '\"kind\" must be \"input\" or \"example\"'\n",
    "    with open(kind) as f:\n",
    "        for line in f:\n",
    "            return line.strip()"
   ]
  },
  {
   "cell_type": "code",
   "execution_count": 2,
   "id": "2e42cf61-9fda-404c-aa8c-06342b9dc7d6",
   "metadata": {},
   "outputs": [
    {
     "data": {
      "text/plain": [
       "'2333133121414131402'"
      ]
     },
     "execution_count": 2,
     "metadata": {},
     "output_type": "execute_result"
    }
   ],
   "source": [
    "read_input(\"example\")"
   ]
  },
  {
   "cell_type": "markdown",
   "id": "e923e5e3-3b81-4f02-8721-a9e1172001d5",
   "metadata": {},
   "source": [
    "## First part"
   ]
  }
 ],
 "metadata": {
  "kernelspec": {
   "display_name": "Python 3 (ipykernel)",
   "language": "python",
   "name": "python3"
  },
  "language_info": {
   "codemirror_mode": {
    "name": "ipython",
    "version": 3
   },
   "file_extension": ".py",
   "mimetype": "text/x-python",
   "name": "python",
   "nbconvert_exporter": "python",
   "pygments_lexer": "ipython3",
   "version": "3.9.13"
  }
 },
 "nbformat": 4,
 "nbformat_minor": 5
}
