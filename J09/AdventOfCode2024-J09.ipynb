{
 "cells": [
  {
   "cell_type": "markdown",
   "id": "d14a6a17-eb52-4f24-98b6-e5a62144b84f",
   "metadata": {},
   "source": [
    "# Advent of Code 2024 - J09"
   ]
  },
  {
   "cell_type": "code",
   "execution_count": 1,
   "id": "f890c83f-76ef-476a-a2ef-5bb35c4b11dd",
   "metadata": {},
   "outputs": [],
   "source": [
    "def read_input(kind):\n",
    "    assert kind in ('input', 'example'), '\"kind\" must be \"input\" or \"example\"'\n",
    "    with open(kind) as f:\n",
    "        for line in f:\n",
    "            return line.strip()"
   ]
  },
  {
   "cell_type": "code",
   "execution_count": 2,
   "id": "2e42cf61-9fda-404c-aa8c-06342b9dc7d6",
   "metadata": {},
   "outputs": [
    {
     "data": {
      "text/plain": [
       "'2333133121414131402'"
      ]
     },
     "execution_count": 2,
     "metadata": {},
     "output_type": "execute_result"
    }
   ],
   "source": [
    "edisk_map = read_input(\"example\")\n",
    "idisk_map = read_input(\"input\")\n",
    "edisk_map"
   ]
  },
  {
   "cell_type": "markdown",
   "id": "e923e5e3-3b81-4f02-8721-a9e1172001d5",
   "metadata": {},
   "source": [
    "## First part"
   ]
  },
  {
   "cell_type": "code",
   "execution_count": 3,
   "id": "72289a22-f9b3-48b8-9330-1196ed43c6fd",
   "metadata": {},
   "outputs": [],
   "source": [
    "def get_filesystem(disk_map):\n",
    "    is_file = True\n",
    "    id_number = 0\n",
    "    filesystem = []\n",
    "    for space in disk_map:\n",
    "        for _ in range(int(space)):\n",
    "            if is_file:\n",
    "                filesystem.append(str(id_number))\n",
    "            else:\n",
    "                filesystem.append('.')\n",
    "        if is_file:\n",
    "            id_number += 1\n",
    "        is_file = not(is_file)\n",
    "    return filesystem"
   ]
  },
  {
   "cell_type": "code",
   "execution_count": 4,
   "id": "4c883009-1970-47f8-bec7-87aba45d3b4d",
   "metadata": {},
   "outputs": [
    {
     "data": {
      "text/plain": [
       "['0', '.', '.', '1', '1', '1', '.', '.', '.', '.', '2', '2', '2', '2', '2']"
      ]
     },
     "execution_count": 4,
     "metadata": {},
     "output_type": "execute_result"
    }
   ],
   "source": [
    "get_filesystem(\"12345\")"
   ]
  },
  {
   "cell_type": "code",
   "execution_count": 5,
   "id": "e0c00e89-ad07-4785-91c7-06db4edd8ad3",
   "metadata": {},
   "outputs": [],
   "source": [
    "def first_part(kind):\n",
    "    disk_map = read_input(kind)\n",
    "    # print(disk_map)\n",
    "    filesystem = get_filesystem(disk_map)\n",
    "    # print(filesystem)\n",
    "    checksum = 0\n",
    "    index_end = len(filesystem) - 1\n",
    "    for i, car in enumerate(filesystem):\n",
    "        if i > index_end:\n",
    "            print(f\"i: {i}, index_end: {index_end}\")\n",
    "            return checksum\n",
    "        if car == '.':\n",
    "            while filesystem[index_end] == '.':\n",
    "                index_end -= 1\n",
    "                if i >= index_end:\n",
    "                    print(f\"i: {i}, index_end: {index_end}\")\n",
    "                    return checksum\n",
    "            checksum += int(filesystem[index_end]) * i\n",
    "            index_end -= 1\n",
    "        else:\n",
    "            checksum += int(car) * i\n",
    "    return checksum"
   ]
  },
  {
   "cell_type": "code",
   "execution_count": 6,
   "id": "7a795983-1a7e-4949-90c3-a8a9f661e710",
   "metadata": {},
   "outputs": [
    {
     "name": "stdout",
     "output_type": "stream",
     "text": [
      "i: 28, index_end: 27\n"
     ]
    },
    {
     "data": {
      "text/plain": [
       "1928"
      ]
     },
     "execution_count": 6,
     "metadata": {},
     "output_type": "execute_result"
    }
   ],
   "source": [
    "first_part(\"example\")"
   ]
  },
  {
   "cell_type": "code",
   "execution_count": 7,
   "id": "605e40ac-b0b1-4aa3-8aad-7a9487b1cf14",
   "metadata": {},
   "outputs": [
    {
     "name": "stdout",
     "output_type": "stream",
     "text": [
      "i: 50126, index_end: 50125\n"
     ]
    },
    {
     "data": {
      "text/plain": [
       "6344673854800"
      ]
     },
     "execution_count": 7,
     "metadata": {},
     "output_type": "execute_result"
    }
   ],
   "source": [
    "first_part(\"input\")"
   ]
  },
  {
   "cell_type": "code",
   "execution_count": 8,
   "id": "69d32567-8252-419b-bcff-ae3ca112704e",
   "metadata": {},
   "outputs": [
    {
     "data": {
      "text/plain": [
       "90718002289"
      ]
     },
     "execution_count": 8,
     "metadata": {},
     "output_type": "execute_result"
    }
   ],
   "source": [
    "90718002289"
   ]
  }
 ],
 "metadata": {
  "kernelspec": {
   "display_name": "Python 3 (ipykernel)",
   "language": "python",
   "name": "python3"
  },
  "language_info": {
   "codemirror_mode": {
    "name": "ipython",
    "version": 3
   },
   "file_extension": ".py",
   "mimetype": "text/x-python",
   "name": "python",
   "nbconvert_exporter": "python",
   "pygments_lexer": "ipython3",
   "version": "3.9.13"
  }
 },
 "nbformat": 4,
 "nbformat_minor": 5
}
