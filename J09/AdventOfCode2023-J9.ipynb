{
 "cells": [
  {
   "cell_type": "markdown",
   "id": "73087b3e",
   "metadata": {},
   "source": [
    "# Read data"
   ]
  },
  {
   "cell_type": "code",
   "execution_count": 1,
   "id": "f7c8b59c",
   "metadata": {},
   "outputs": [],
   "source": [
    "def read_input(kind):\n",
    "    # \"kind\" must be \"input\" or \"exemple\"\n",
    "    with open(f\"/home/linaewen/Documents/PYTHON/AdventOfCode2023/J09/{kind}\") as f:\n",
    "        histories = []\n",
    "        for line in f :\n",
    "            histories.append([int(i) for i in line.strip().split(' ')])\n",
    "    return histories"
   ]
  },
  {
   "cell_type": "markdown",
   "id": "25414f56",
   "metadata": {},
   "source": [
    "# Act ONE"
   ]
  },
  {
   "cell_type": "code",
   "execution_count": 2,
   "id": "166dcc49",
   "metadata": {},
   "outputs": [],
   "source": [
    "def compute_differences(history):\n",
    "    differences = [history]\n",
    "    while set(differences[-1]) != {0}:\n",
    "        new_diff = []\n",
    "        for i in range(len(differences[-1]) - 1):\n",
    "            new_diff.append(differences[-1][i+1] - differences[-1][i])\n",
    "        differences.append(new_diff)\n",
    "    return differences\n",
    "\n",
    "def get_new_value(differences):\n",
    "    for i in range(len(differences)-2,-1,-1):\n",
    "        differences[i].append(differences[i][-1]+differences[i+1][-1])\n",
    "    return differences[0][-1]\n",
    "\n",
    "def act_one(kind):\n",
    "    histories = read_input(kind)\n",
    "    s = 0\n",
    "    for history in histories:\n",
    "        s += get_new_value(compute_differences(history))\n",
    "    return s"
   ]
  },
  {
   "cell_type": "code",
   "execution_count": 3,
   "id": "93b0169e",
   "metadata": {},
   "outputs": [
    {
     "name": "stdout",
     "output_type": "stream",
     "text": [
      "1637452029\n"
     ]
    }
   ],
   "source": [
    "print(act_one(\"input\"))"
   ]
  },
  {
   "cell_type": "markdown",
   "id": "dcd380ba",
   "metadata": {},
   "source": [
    "# Act TWO"
   ]
  },
  {
   "cell_type": "code",
   "execution_count": 4,
   "id": "58d80013",
   "metadata": {},
   "outputs": [],
   "source": [
    "def get_previous_value(differences):\n",
    "    for i in range(len(differences)-2,-1,-1):\n",
    "        differences[i].insert(0, differences[i][0]-differences[i+1][0])\n",
    "    return differences[0][0]\n",
    "\n",
    "def act_two(kind):\n",
    "    histories = read_input(kind)\n",
    "    s = 0\n",
    "    for history in histories:\n",
    "        s += get_previous_value(compute_differences(history))\n",
    "    return s"
   ]
  },
  {
   "cell_type": "code",
   "execution_count": 5,
   "id": "a4d9a768",
   "metadata": {},
   "outputs": [
    {
     "name": "stdout",
     "output_type": "stream",
     "text": [
      "908\n"
     ]
    }
   ],
   "source": [
    "print(act_two(\"input\"))"
   ]
  }
 ],
 "metadata": {
  "kernelspec": {
   "display_name": "Python 3 (ipykernel)",
   "language": "python",
   "name": "python3"
  },
  "language_info": {
   "codemirror_mode": {
    "name": "ipython",
    "version": 3
   },
   "file_extension": ".py",
   "mimetype": "text/x-python",
   "name": "python",
   "nbconvert_exporter": "python",
   "pygments_lexer": "ipython3",
   "version": "3.9.13"
  }
 },
 "nbformat": 4,
 "nbformat_minor": 5
}
